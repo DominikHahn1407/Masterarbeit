{
 "cells": [
  {
   "cell_type": "code",
   "execution_count": 3,
   "metadata": {},
   "outputs": [],
   "source": [
    "import os\n",
    "import torch\n",
    "from utils import find_overlapping_images, find_overlapping_images_3d, remove_overlapping_images, TensorFolderDataset"
   ]
  },
  {
   "cell_type": "code",
   "execution_count": null,
   "metadata": {},
   "outputs": [],
   "source": [
    "# Initalization of the current scenario and the paths to this scenario as well as the base scenario\n",
    "scenario = 2\n",
    "scenario_1_base = f\"./data/scenario1/\"\n",
    "compare_scenario_base = f\"./data/scenario{scenario}/\""
   ]
  },
  {
   "cell_type": "code",
   "execution_count": null,
   "metadata": {},
   "outputs": [
    {
     "name": "stderr",
     "output_type": "stream",
     "text": [
      "c:\\Users\\Dominik Hahn\\Documents\\GitHub\\Masterarbeit\\Final Models\\utils.py:523: FutureWarning: You are using `torch.load` with `weights_only=False` (the current default value), which uses the default pickle module implicitly. It is possible to construct malicious pickle data which will execute arbitrary code during unpickling (See https://github.com/pytorch/pytorch/blob/main/SECURITY.md#untrusted-models for more details). In a future release, the default value for `weights_only` will be flipped to `True`. This limits the functions that could be executed during unpickling. Arbitrary objects will no longer be allowed to be loaded via this mode unless they are explicitly allowlisted by the user via `torch.serialization.add_safe_globals`. We recommend you start setting `weights_only=True` for any use case where you don't have full control of the loaded file. Please open an issue on GitHub for any issues related to this experimental feature.\n",
      "  data = torch.load(file_path)\n"
     ]
    },
    {
     "name": "stdout",
     "output_type": "stream",
     "text": [
      "Found 0 overlapping images\n",
      "Found 0 overlapping images\n"
     ]
    }
   ],
   "source": [
    "# Test whether there are overlapping images within the test set of the base scenario and the training or validation set\n",
    "# of the current scenario (if so, they were manually removed)\n",
    "test_scenario1_base = TensorFolderDataset(os.path.join(scenario_1_base, \"test\"))\n",
    "train_compare_scenario = TensorFolderDataset(os.path.join(compare_scenario_base, \"train\"))\n",
    "val_compare_scenario = TensorFolderDataset(os.path.join(compare_scenario_base, \"val\"))\n",
    "\n",
    "overlapping_indices = find_overlapping_images(test_scenario1_base, train_compare_scenario, logging=False)\n",
    "train_compare_cleaned = remove_overlapping_images(train_compare_scenario, overlapping_indices)\n",
    "_ = find_overlapping_images(test_scenario1_base, train_compare_cleaned)\n",
    "\n",
    "overlapping_indices = find_overlapping_images(test_scenario1_base, val_compare_scenario, logging=False)\n",
    "val_compare_cleaned = remove_overlapping_images(val_compare_scenario, overlapping_indices)\n",
    "_ = find_overlapping_images(test_scenario1_base, val_compare_cleaned)"
   ]
  },
  {
   "cell_type": "code",
   "execution_count": null,
   "metadata": {},
   "outputs": [],
   "source": [
    "# function to save each image with its corresponding label as a pt file from the given subset\n",
    "def save_subset_locally(save_folder, subset):\n",
    "    os.makedirs(save_folder, exist_ok=True)\n",
    "    for i, (image, label) in enumerate(subset):\n",
    "        tensor_file = f'{save_folder}/tensor_{i}_label_{label}.pt'\n",
    "        torch.save({'image': image, 'label': label}, tensor_file)\n",
    "    print(f'Subset saved to {save_folder}')"
   ]
  },
  {
   "cell_type": "code",
   "execution_count": null,
   "metadata": {},
   "outputs": [
    {
     "name": "stderr",
     "output_type": "stream",
     "text": [
      "c:\\Users\\Dominik Hahn\\Documents\\GitHub\\Masterarbeit\\Final Models\\utils.py:523: FutureWarning: You are using `torch.load` with `weights_only=False` (the current default value), which uses the default pickle module implicitly. It is possible to construct malicious pickle data which will execute arbitrary code during unpickling (See https://github.com/pytorch/pytorch/blob/main/SECURITY.md#untrusted-models for more details). In a future release, the default value for `weights_only` will be flipped to `True`. This limits the functions that could be executed during unpickling. Arbitrary objects will no longer be allowed to be loaded via this mode unless they are explicitly allowlisted by the user via `torch.serialization.add_safe_globals`. We recommend you start setting `weights_only=True` for any use case where you don't have full control of the loaded file. Please open an issue on GitHub for any issues related to this experimental feature.\n",
      "  data = torch.load(file_path)\n"
     ]
    },
    {
     "name": "stdout",
     "output_type": "stream",
     "text": [
      "Subset saved to ./data/scenario2/train_filtered\n"
     ]
    }
   ],
   "source": [
    "# Filtered training set for the given scenario is saved\n",
    "save_folder = \"./data/scenario2/train_filtered\"\n",
    "save_subset_locally(save_folder, train_compare_cleaned)"
   ]
  },
  {
   "cell_type": "code",
   "execution_count": null,
   "metadata": {},
   "outputs": [
    {
     "name": "stdout",
     "output_type": "stream",
     "text": [
      "Subset saved to ./data/scenario2/val_filtered\n"
     ]
    }
   ],
   "source": [
    "# Filtered validation set for the given scenario is saved\n",
    "save_folder = \"./data/scenario2/val_filtered\"\n",
    "save_subset_locally(save_folder, val_compare_cleaned)"
   ]
  },
  {
   "cell_type": "code",
   "execution_count": null,
   "metadata": {},
   "outputs": [],
   "source": [
    "# Initalization of the current scenario and the paths to this scenario as well as the base scenario\n",
    "scenario = 3\n",
    "scenario_1_base = f\"./data/scenario1/\"\n",
    "compare_scenario_base = f\"./data/scenario{scenario}/\""
   ]
  },
  {
   "cell_type": "code",
   "execution_count": null,
   "metadata": {},
   "outputs": [
    {
     "name": "stderr",
     "output_type": "stream",
     "text": [
      "c:\\Users\\Dominik Hahn\\Documents\\GitHub\\Masterarbeit\\Final Models\\utils.py:523: FutureWarning: You are using `torch.load` with `weights_only=False` (the current default value), which uses the default pickle module implicitly. It is possible to construct malicious pickle data which will execute arbitrary code during unpickling (See https://github.com/pytorch/pytorch/blob/main/SECURITY.md#untrusted-models for more details). In a future release, the default value for `weights_only` will be flipped to `True`. This limits the functions that could be executed during unpickling. Arbitrary objects will no longer be allowed to be loaded via this mode unless they are explicitly allowlisted by the user via `torch.serialization.add_safe_globals`. We recommend you start setting `weights_only=True` for any use case where you don't have full control of the loaded file. Please open an issue on GitHub for any issues related to this experimental feature.\n",
      "  data = torch.load(file_path)\n"
     ]
    },
    {
     "name": "stdout",
     "output_type": "stream",
     "text": [
      "Found 0 overlapping images\n",
      "Found 0 overlapping images\n"
     ]
    }
   ],
   "source": [
    "# Test whether there are overlapping images within the test set of the base scenario and the training or validation set\n",
    "# of the current scenario (if so, they were manually removed)\n",
    "test_scenario1_base = TensorFolderDataset(os.path.join(scenario_1_base, \"test\"))\n",
    "train_compare_scenario = TensorFolderDataset(os.path.join(compare_scenario_base, \"train\"))\n",
    "val_compare_scenario = TensorFolderDataset(os.path.join(compare_scenario_base, \"val\"))\n",
    "\n",
    "overlapping_indices = find_overlapping_images(test_scenario1_base, train_compare_scenario, logging=False)\n",
    "train_compare_cleaned = remove_overlapping_images(train_compare_scenario, overlapping_indices)\n",
    "_ = find_overlapping_images(test_scenario1_base, train_compare_cleaned)\n",
    "\n",
    "overlapping_indices = find_overlapping_images(test_scenario1_base, val_compare_scenario, logging=False)\n",
    "val_compare_cleaned = remove_overlapping_images(val_compare_scenario, overlapping_indices)\n",
    "_ = find_overlapping_images(test_scenario1_base, val_compare_cleaned)"
   ]
  },
  {
   "cell_type": "code",
   "execution_count": null,
   "metadata": {},
   "outputs": [
    {
     "name": "stdout",
     "output_type": "stream",
     "text": [
      "Subset saved to ./data/scenario3/train_filtered\n"
     ]
    }
   ],
   "source": [
    "# Filtered training set of the given scenario is saved\n",
    "save_folder = \"./data/scenario3/train_filtered\"\n",
    "save_subset_locally(save_folder, train_compare_cleaned)"
   ]
  },
  {
   "cell_type": "code",
   "execution_count": null,
   "metadata": {},
   "outputs": [
    {
     "name": "stdout",
     "output_type": "stream",
     "text": [
      "Subset saved to ./data/scenario3/val_filtered\n"
     ]
    }
   ],
   "source": [
    "# Filtered validation set of the given scenario is saved\n",
    "save_folder = \"./data/scenario3/val_filtered\"\n",
    "save_subset_locally(save_folder, val_compare_cleaned)"
   ]
  },
  {
   "cell_type": "code",
   "execution_count": null,
   "metadata": {},
   "outputs": [],
   "source": [
    "# Initalization of the current scenario and the paths to this scenario as well as the base scenario\n",
    "scenario = 2\n",
    "scenario_1_base = f\"./data/scenario1_3d/\"\n",
    "compare_scenario_base = f\"./data/scenario{scenario}_3d/\""
   ]
  },
  {
   "cell_type": "code",
   "execution_count": null,
   "metadata": {},
   "outputs": [
    {
     "name": "stdout",
     "output_type": "stream",
     "text": [
      "Found 0 overlapping images\n",
      "Found 0 overlapping images\n"
     ]
    }
   ],
   "source": [
    "# Test whether there are overlapping images within the test set of the base scenario and the training or validation set\n",
    "# of the current scenario (if so, they were manually removed)\n",
    "test_scenario1_base = TensorFolderDataset(os.path.join(scenario_1_base, \"test\"))\n",
    "train_compare_scenario = TensorFolderDataset(os.path.join(compare_scenario_base, \"train\"))\n",
    "val_compare_scenario = TensorFolderDataset(os.path.join(compare_scenario_base, \"val\"))\n",
    "\n",
    "overlapping_indices = find_overlapping_images(test_scenario1_base, train_compare_scenario, logging=False)\n",
    "train_compare_cleaned = remove_overlapping_images(train_compare_scenario, overlapping_indices)\n",
    "_ = find_overlapping_images(test_scenario1_base, train_compare_cleaned)\n",
    "\n",
    "overlapping_indices = find_overlapping_images(test_scenario1_base, val_compare_scenario, logging=False)\n",
    "val_compare_cleaned = remove_overlapping_images(val_compare_scenario, overlapping_indices)\n",
    "_ = find_overlapping_images(test_scenario1_base, val_compare_cleaned)"
   ]
  },
  {
   "cell_type": "code",
   "execution_count": null,
   "metadata": {},
   "outputs": [
    {
     "name": "stdout",
     "output_type": "stream",
     "text": [
      "Subset saved to ./data/scenario2_3d/train_filtered\n"
     ]
    }
   ],
   "source": [
    "# Filtered training set for the 3D volumes in the given scenario is saved\n",
    "save_folder = \"./data/scenario2_3d/train_filtered\"\n",
    "save_subset_locally(save_folder, train_compare_cleaned)"
   ]
  },
  {
   "cell_type": "code",
   "execution_count": null,
   "metadata": {},
   "outputs": [
    {
     "name": "stdout",
     "output_type": "stream",
     "text": [
      "Subset saved to ./data/scenario2_3d/val_filtered\n"
     ]
    }
   ],
   "source": [
    "# Filtered validation set for the 3D volumes in the given scenario is saved\n",
    "save_folder = \"./data/scenario2_3d/val_filtered\"\n",
    "save_subset_locally(save_folder, val_compare_cleaned)"
   ]
  },
  {
   "cell_type": "code",
   "execution_count": null,
   "metadata": {},
   "outputs": [],
   "source": [
    "# Initalization of the current scenario and the paths to this scenario as well as the base scenario\n",
    "scenario = 3\n",
    "scenario_1_base = f\"./data/scenario1_3d/\"\n",
    "compare_scenario_base = f\"./data/scenario{scenario}_3d/\""
   ]
  },
  {
   "cell_type": "code",
   "execution_count": null,
   "metadata": {},
   "outputs": [
    {
     "name": "stdout",
     "output_type": "stream",
     "text": [
      "Found 0 overlapping images\n",
      "Found 0 overlapping images\n"
     ]
    }
   ],
   "source": [
    "# Test whether there are overlapping images within the test set of the base scenario and the training or validation set\n",
    "# of the current scenario (if so, they were manually removed)\n",
    "test_scenario1_base = TensorFolderDataset(os.path.join(scenario_1_base, \"test\"))\n",
    "train_compare_scenario = TensorFolderDataset(os.path.join(compare_scenario_base, \"train\"))\n",
    "val_compare_scenario = TensorFolderDataset(os.path.join(compare_scenario_base, \"val\"))\n",
    "\n",
    "overlapping_indices = find_overlapping_images(test_scenario1_base, train_compare_scenario, logging=False)\n",
    "train_compare_cleaned = remove_overlapping_images(train_compare_scenario, overlapping_indices)\n",
    "_ = find_overlapping_images(test_scenario1_base, train_compare_cleaned)\n",
    "\n",
    "overlapping_indices = find_overlapping_images(test_scenario1_base, val_compare_scenario, logging=False)\n",
    "val_compare_cleaned = remove_overlapping_images(val_compare_scenario, overlapping_indices)\n",
    "_ = find_overlapping_images(test_scenario1_base, val_compare_cleaned)"
   ]
  },
  {
   "cell_type": "code",
   "execution_count": null,
   "metadata": {},
   "outputs": [
    {
     "name": "stdout",
     "output_type": "stream",
     "text": [
      "Subset saved to ./data/scenario3_3d/train_filtered\n"
     ]
    }
   ],
   "source": [
    "# Filtered training set for the 3D volumes of the given scenario is saved\n",
    "save_folder = \"./data/scenario3_3d/train_filtered\"\n",
    "save_subset_locally(save_folder, train_compare_cleaned)"
   ]
  },
  {
   "cell_type": "code",
   "execution_count": null,
   "metadata": {},
   "outputs": [
    {
     "name": "stdout",
     "output_type": "stream",
     "text": [
      "Subset saved to ./data/scenario3_3d/val_filtered\n"
     ]
    }
   ],
   "source": [
    "# Filtered validation set for the 3D volumes of the given scenario is saved\n",
    "save_folder = \"./data/scenario3_3d/val_filtered\"\n",
    "save_subset_locally(save_folder, val_compare_cleaned)"
   ]
  }
 ],
 "metadata": {
  "kernelspec": {
   "display_name": ".venv",
   "language": "python",
   "name": "python3"
  },
  "language_info": {
   "codemirror_mode": {
    "name": "ipython",
    "version": 3
   },
   "file_extension": ".py",
   "mimetype": "text/x-python",
   "name": "python",
   "nbconvert_exporter": "python",
   "pygments_lexer": "ipython3",
   "version": "3.9.16"
  }
 },
 "nbformat": 4,
 "nbformat_minor": 2
}
