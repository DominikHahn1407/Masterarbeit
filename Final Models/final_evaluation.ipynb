{
 "cells": [
  {
   "cell_type": "code",
   "execution_count": 1,
   "metadata": {},
   "outputs": [],
   "source": [
    "import os\n",
    "import torch\n",
    "import matplotlib.pyplot as plt\n",
    "from torch.utils.data import DataLoader\n",
    "\n",
    "from TransferLearningModel import TransferLearningModel\n",
    "from utils import TensorFolderDatasetFinal, TransformDatasetFinal, TensorFolderDatasetFinalFlat, TransformDatasetFinalFlat, TensorFolderDataset, TransformDataset, DicomFineDataset3D"
   ]
  },
  {
   "cell_type": "code",
   "execution_count": 2,
   "metadata": {},
   "outputs": [],
   "source": [
    "BASE_DIR = \"C:/Users/Dominik Hahn/OneDrive/Studium/Master/Masterarbeit/Daten/nodule\"\n",
    "scenario = 1\n",
    "data_augmentation = True\n",
    "classes = [\"nodule\", \"non-nodule\"]\n",
    "classes_fine = [\"A\", \"B\", \"E\", \"G\"]\n",
    "classes_dict = {value: index for index, value in enumerate(classes_fine)}"
   ]
  },
  {
   "cell_type": "code",
   "execution_count": 3,
   "metadata": {},
   "outputs": [
    {
     "data": {
      "text/plain": [
       "<All keys matched successfully>"
      ]
     },
     "execution_count": 3,
     "metadata": {},
     "output_type": "execute_result"
    }
   ],
   "source": [
    "checkpoint = torch.load(\"./weights/final/augmented_3dcnn.pt\", weights_only=False)\n",
    "model = TransferLearningModel(classes, \"3dcnn\", data_augmentation=data_augmentation, fine=False, scenario=scenario)\n",
    "model.train_transforms, model.test_transforms = model.get_transforms()\n",
    "model.model.load_state_dict(checkpoint['model_state_dict'])"
   ]
  },
  {
   "cell_type": "code",
   "execution_count": 4,
   "metadata": {},
   "outputs": [],
   "source": [
    "test_dataset_base = TensorFolderDatasetFinal(\"./data/final/Merged_3D\")\n",
    "test_dataset = TransformDatasetFinal(test_dataset_base, transform=model.test_transforms)\n",
    "test_loader = DataLoader(test_dataset, batch_size=2, shuffle=False)"
   ]
  },
  {
   "cell_type": "code",
   "execution_count": 5,
   "metadata": {},
   "outputs": [
    {
     "name": "stderr",
     "output_type": "stream",
     "text": [
      "c:\\Users\\Dominik Hahn\\Documents\\GitHub\\Masterarbeit\\Final Models\\utils.py:655: FutureWarning: You are using `torch.load` with `weights_only=False` (the current default value), which uses the default pickle module implicitly. It is possible to construct malicious pickle data which will execute arbitrary code during unpickling (See https://github.com/pytorch/pytorch/blob/main/SECURITY.md#untrusted-models for more details). In a future release, the default value for `weights_only` will be flipped to `True`. This limits the functions that could be executed during unpickling. Arbitrary objects will no longer be allowed to be loaded via this mode unless they are explicitly allowlisted by the user via `torch.serialization.add_safe_globals`. We recommend you start setting `weights_only=True` for any use case where you don't have full control of the loaded file. Please open an issue on GitHub for any issues related to this experimental feature.\n",
      "  data = torch.load(file_path)\n"
     ]
    },
    {
     "name": "stdout",
     "output_type": "stream",
     "text": [
      "Evaluation Accuracy on unseen data: 94.20289855072464\n"
     ]
    },
    {
     "data": {
      "text/plain": [
       "<Figure size 1000x800 with 0 Axes>"
      ]
     },
     "metadata": {},
     "output_type": "display_data"
    },
    {
     "data": {
      "image/png": "[encoded data removed]",
      "text/plain": [
       "<Figure size 640x480 with 2 Axes>"
      ]
     },
     "metadata": {},
     "output_type": "display_data"
    }
   ],
   "source": [
    "loss = checkpoint[\"loss\"]\n",
    "# model.evaluate_final(test_loader, save_dir=\"./data/final/Predicted_Nodules\")\n",
    "model.evaluate_final(test_loader)"
   ]
  },
  {
   "cell_type": "code",
   "execution_count": 6,
   "metadata": {},
   "outputs": [
    {
     "name": "stderr",
     "output_type": "stream",
     "text": [
      "C:\\Users\\Dominik Hahn\\AppData\\Local\\Temp\\ipykernel_27892\\592043922.py:1: FutureWarning: You are using `torch.load` with `weights_only=False` (the current default value), which uses the default pickle module implicitly. It is possible to construct malicious pickle data which will execute arbitrary code during unpickling (See https://github.com/pytorch/pytorch/blob/main/SECURITY.md#untrusted-models for more details). In a future release, the default value for `weights_only` will be flipped to `True`. This limits the functions that could be executed during unpickling. Arbitrary objects will no longer be allowed to be loaded via this mode unless they are explicitly allowlisted by the user via `torch.serialization.add_safe_globals`. We recommend you start setting `weights_only=True` for any use case where you don't have full control of the loaded file. Please open an issue on GitHub for any issues related to this experimental feature.\n",
      "  predicted_volume = torch.load(\"./data/final/Predicted_Nodules/tensor_106_label_coarse_0_label_fine_1.pt\")\n"
     ]
    },
    {
     "data": {
      "text/plain": [
       "dict_keys(['image', 'label', 'slice_paths', 'label_fine'])"
      ]
     },
     "execution_count": 6,
     "metadata": {},
     "output_type": "execute_result"
    }
   ],
   "source": [
    "predicted_volume = torch.load(\"./data/final/Predicted_Nodules/tensor_106_label_coarse_0_label_fine_1.pt\")\n",
    "predicted_volume.keys()"
   ]
  },
  {
   "cell_type": "code",
   "execution_count": 7,
   "metadata": {},
   "outputs": [
    {
     "data": {
      "text/plain": [
       "<All keys matched successfully>"
      ]
     },
     "execution_count": 7,
     "metadata": {},
     "output_type": "execute_result"
    }
   ],
   "source": [
    "checkpoint_fine = torch.load(\"./weights/final/efficientnet.pt\", weights_only=False)\n",
    "model_fine = TransferLearningModel(classes_fine, \"efficientnet\", data_augmentation=False, fine=True)\n",
    "model_fine.train_transforms, model_fine.test_transforms = model_fine.get_transforms()\n",
    "model_fine.model.load_state_dict(checkpoint_fine['model_state_dict'])"
   ]
  },
  {
   "cell_type": "code",
   "execution_count": null,
   "metadata": {},
   "outputs": [
    {
     "name": "stderr",
     "output_type": "stream",
     "text": [
      "c:\\Users\\Dominik Hahn\\Documents\\GitHub\\Masterarbeit\\Final Models\\utils.py:685: FutureWarning: You are using `torch.load` with `weights_only=False` (the current default value), which uses the default pickle module implicitly. It is possible to construct malicious pickle data which will execute arbitrary code during unpickling (See https://github.com/pytorch/pytorch/blob/main/SECURITY.md#untrusted-models for more details). In a future release, the default value for `weights_only` will be flipped to `True`. This limits the functions that could be executed during unpickling. Arbitrary objects will no longer be allowed to be loaded via this mode unless they are explicitly allowlisted by the user via `torch.serialization.add_safe_globals`. We recommend you start setting `weights_only=True` for any use case where you don't have full control of the loaded file. Please open an issue on GitHub for any issues related to this experimental feature.\n",
      "  temp_pt_file = torch.load(os.path.join(tensor_folder_path, pt_file))\n"
     ]
    }
   ],
   "source": [
    "test_dataset_fine_base = TensorFolderDatasetFinalFlat(tensor_folder_path=\"./data/final/Predicted_Nodules\", dicom_folder_path=BASE_DIR)\n",
    "test_dataset_fine = TransformDatasetFinalFlat(test_dataset_fine_base, transform=model_fine.test_transforms)\n",
    "test_loader_fine = DataLoader(test_dataset_fine, batch_size=32, shuffle=False)\n",
    "model_fine.evaluate(test_loader_fine)"
   ]
  }
 ],
 "metadata": {
  "kernelspec": {
   "display_name": ".venv",
   "language": "python",
   "name": "python3"
  },
  "language_info": {
   "codemirror_mode": {
    "name": "ipython",
    "version": 3
   },
   "file_extension": ".py",
   "mimetype": "text/x-python",
   "name": "python",
   "nbconvert_exporter": "python",
   "pygments_lexer": "ipython3",
   "version": "3.9.16"
  }
 },
 "nbformat": 4,
 "nbformat_minor": 2
}
