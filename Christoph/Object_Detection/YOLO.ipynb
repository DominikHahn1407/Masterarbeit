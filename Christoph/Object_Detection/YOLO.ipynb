{
 "cells": [
  {
   "cell_type": "code",
   "execution_count": 2,
   "metadata": {},
   "outputs": [
    {
     "name": "stdout",
     "output_type": "stream",
     "text": [
      "Ultralytics 8.3.56  Python-3.12.3 torch-2.4.1 CUDA:0 (NVIDIA GeForce RTX 3070, 8192MiB)\n",
      "Setup complete  (12 CPUs, 31.9 GB RAM, 296.9/397.5 GB disk)\n"
     ]
    },
    {
     "data": {
      "text/plain": [
       "True"
      ]
     },
     "execution_count": 2,
     "metadata": {},
     "output_type": "execute_result"
    }
   ],
   "source": [
    "import ultralytics\n",
    "from ultralytics import YOLO\n",
    "import torch\n",
    "ultralytics.checks()\n",
    "torch.cuda.is_available()"
   ]
  },
  {
   "cell_type": "code",
   "execution_count": 7,
   "metadata": {},
   "outputs": [
    {
     "name": "stdout",
     "output_type": "stream",
     "text": [
      "YOLO(\n",
      "  (model): DetectionModel(\n",
      "    (model): Sequential(\n",
      "      (0): Conv(\n",
      "        (conv): Conv2d(3, 16, kernel_size=(3, 3), stride=(2, 2), padding=(1, 1), bias=False)\n",
      "        (bn): BatchNorm2d(16, eps=0.001, momentum=0.03, affine=True, track_running_stats=True)\n",
      "        (act): SiLU(inplace=True)\n",
      "      )\n",
      "      (1): Conv(\n",
      "        (conv): Conv2d(16, 32, kernel_size=(3, 3), stride=(2, 2), padding=(1, 1), bias=False)\n",
      "        (bn): BatchNorm2d(32, eps=0.001, momentum=0.03, affine=True, track_running_stats=True)\n",
      "        (act): SiLU(inplace=True)\n",
      "      )\n",
      "      (2): C3k2(\n",
      "        (cv1): Conv(\n",
      "          (conv): Conv2d(32, 32, kernel_size=(1, 1), stride=(1, 1), bias=False)\n",
      "          (bn): BatchNorm2d(32, eps=0.001, momentum=0.03, affine=True, track_running_stats=True)\n",
      "          (act): SiLU(inplace=True)\n",
      "        )\n",
      "        (cv2): Conv(\n",
      "          (conv): Conv2d(48, 64, kernel_size=(1, 1), stride=(1, 1), bias=False)\n",
      "          (bn): BatchNorm2d(64, eps=0.001, momentum=0.03, affine=True, track_running_stats=True)\n",
      "          (act): SiLU(inplace=True)\n",
      "        )\n",
      "        (m): ModuleList(\n",
      "          (0): Bottleneck(\n",
      "            (cv1): Conv(\n",
      "              (conv): Conv2d(16, 8, kernel_size=(3, 3), stride=(1, 1), padding=(1, 1), bias=False)\n",
      "              (bn): BatchNorm2d(8, eps=0.001, momentum=0.03, affine=True, track_running_stats=True)\n",
      "              (act): SiLU(inplace=True)\n",
      "            )\n",
      "            (cv2): Conv(\n",
      "              (conv): Conv2d(8, 16, kernel_size=(3, 3), stride=(1, 1), padding=(1, 1), bias=False)\n",
      "              (bn): BatchNorm2d(16, eps=0.001, momentum=0.03, affine=True, track_running_stats=True)\n",
      "              (act): SiLU(inplace=True)\n",
      "            )\n",
      "          )\n",
      "        )\n",
      "      )\n",
      "      (3): Conv(\n",
      "        (conv): Conv2d(64, 64, kernel_size=(3, 3), stride=(2, 2), padding=(1, 1), bias=False)\n",
      "        (bn): BatchNorm2d(64, eps=0.001, momentum=0.03, affine=True, track_running_stats=True)\n",
      "        (act): SiLU(inplace=True)\n",
      "      )\n",
      "      (4): C3k2(\n",
      "        (cv1): Conv(\n",
      "          (conv): Conv2d(64, 64, kernel_size=(1, 1), stride=(1, 1), bias=False)\n",
      "          (bn): BatchNorm2d(64, eps=0.001, momentum=0.03, affine=True, track_running_stats=True)\n",
      "          (act): SiLU(inplace=True)\n",
      "        )\n",
      "        (cv2): Conv(\n",
      "          (conv): Conv2d(96, 128, kernel_size=(1, 1), stride=(1, 1), bias=False)\n",
      "          (bn): BatchNorm2d(128, eps=0.001, momentum=0.03, affine=True, track_running_stats=True)\n",
      "          (act): SiLU(inplace=True)\n",
      "        )\n",
      "        (m): ModuleList(\n",
      "          (0): Bottleneck(\n",
      "            (cv1): Conv(\n",
      "              (conv): Conv2d(32, 16, kernel_size=(3, 3), stride=(1, 1), padding=(1, 1), bias=False)\n",
      "              (bn): BatchNorm2d(16, eps=0.001, momentum=0.03, affine=True, track_running_stats=True)\n",
      "              (act): SiLU(inplace=True)\n",
      "            )\n",
      "            (cv2): Conv(\n",
      "              (conv): Conv2d(16, 32, kernel_size=(3, 3), stride=(1, 1), padding=(1, 1), bias=False)\n",
      "              (bn): BatchNorm2d(32, eps=0.001, momentum=0.03, affine=True, track_running_stats=True)\n",
      "              (act): SiLU(inplace=True)\n",
      "            )\n",
      "          )\n",
      "        )\n",
      "      )\n",
      "      (5): Conv(\n",
      "        (conv): Conv2d(128, 128, kernel_size=(3, 3), stride=(2, 2), padding=(1, 1), bias=False)\n",
      "        (bn): BatchNorm2d(128, eps=0.001, momentum=0.03, affine=True, track_running_stats=True)\n",
      "        (act): SiLU(inplace=True)\n",
      "      )\n",
      "      (6): C3k2(\n",
      "        (cv1): Conv(\n",
      "          (conv): Conv2d(128, 128, kernel_size=(1, 1), stride=(1, 1), bias=False)\n",
      "          (bn): BatchNorm2d(128, eps=0.001, momentum=0.03, affine=True, track_running_stats=True)\n",
      "          (act): SiLU(inplace=True)\n",
      "        )\n",
      "        (cv2): Conv(\n",
      "          (conv): Conv2d(192, 128, kernel_size=(1, 1), stride=(1, 1), bias=False)\n",
      "          (bn): BatchNorm2d(128, eps=0.001, momentum=0.03, affine=True, track_running_stats=True)\n",
      "          (act): SiLU(inplace=True)\n",
      "        )\n",
      "        (m): ModuleList(\n",
      "          (0): C3k(\n",
      "            (cv1): Conv(\n",
      "              (conv): Conv2d(64, 32, kernel_size=(1, 1), stride=(1, 1), bias=False)\n",
      "              (bn): BatchNorm2d(32, eps=0.001, momentum=0.03, affine=True, track_running_stats=True)\n",
      "              (act): SiLU(inplace=True)\n",
      "            )\n",
      "            (cv2): Conv(\n",
      "              (conv): Conv2d(64, 32, kernel_size=(1, 1), stride=(1, 1), bias=False)\n",
      "              (bn): BatchNorm2d(32, eps=0.001, momentum=0.03, affine=True, track_running_stats=True)\n",
      "              (act): SiLU(inplace=True)\n",
      "            )\n",
      "            (cv3): Conv(\n",
      "              (conv): Conv2d(64, 64, kernel_size=(1, 1), stride=(1, 1), bias=False)\n",
      "              (bn): BatchNorm2d(64, eps=0.001, momentum=0.03, affine=True, track_running_stats=True)\n",
      "              (act): SiLU(inplace=True)\n",
      "            )\n",
      "            (m): Sequential(\n",
      "              (0): Bottleneck(\n",
      "                (cv1): Conv(\n",
      "                  (conv): Conv2d(32, 32, kernel_size=(3, 3), stride=(1, 1), padding=(1, 1), bias=False)\n",
      "                  (bn): BatchNorm2d(32, eps=0.001, momentum=0.03, affine=True, track_running_stats=True)\n",
      "                  (act): SiLU(inplace=True)\n",
      "                )\n",
      "                (cv2): Conv(\n",
      "                  (conv): Conv2d(32, 32, kernel_size=(3, 3), stride=(1, 1), padding=(1, 1), bias=False)\n",
      "                  (bn): BatchNorm2d(32, eps=0.001, momentum=0.03, affine=True, track_running_stats=True)\n",
      "                  (act): SiLU(inplace=True)\n",
      "                )\n",
      "              )\n",
      "              (1): Bottleneck(\n",
      "                (cv1): Conv(\n",
      "                  (conv): Conv2d(32, 32, kernel_size=(3, 3), stride=(1, 1), padding=(1, 1), bias=False)\n",
      "                  (bn): BatchNorm2d(32, eps=0.001, momentum=0.03, affine=True, track_running_stats=True)\n",
      "                  (act): SiLU(inplace=True)\n",
      "                )\n",
      "                (cv2): Conv(\n",
      "                  (conv): Conv2d(32, 32, kernel_size=(3, 3), stride=(1, 1), padding=(1, 1), bias=False)\n",
      "                  (bn): BatchNorm2d(32, eps=0.001, momentum=0.03, affine=True, track_running_stats=True)\n",
      "                  (act): SiLU(inplace=True)\n",
      "                )\n",
      "              )\n",
      "            )\n",
      "          )\n",
      "        )\n",
      "      )\n",
      "      (7): Conv(\n",
      "        (conv): Conv2d(128, 256, kernel_size=(3, 3), stride=(2, 2), padding=(1, 1), bias=False)\n",
      "        (bn): BatchNorm2d(256, eps=0.001, momentum=0.03, affine=True, track_running_stats=True)\n",
      "        (act): SiLU(inplace=True)\n",
      "      )\n",
      "      (8): C3k2(\n",
      "        (cv1): Conv(\n",
      "          (conv): Conv2d(256, 256, kernel_size=(1, 1), stride=(1, 1), bias=False)\n",
      "          (bn): BatchNorm2d(256, eps=0.001, momentum=0.03, affine=True, track_running_stats=True)\n",
      "          (act): SiLU(inplace=True)\n",
      "        )\n",
      "        (cv2): Conv(\n",
      "          (conv): Conv2d(384, 256, kernel_size=(1, 1), stride=(1, 1), bias=False)\n",
      "          (bn): BatchNorm2d(256, eps=0.001, momentum=0.03, affine=True, track_running_stats=True)\n",
      "          (act): SiLU(inplace=True)\n",
      "        )\n",
      "        (m): ModuleList(\n",
      "          (0): C3k(\n",
      "            (cv1): Conv(\n",
      "              (conv): Conv2d(128, 64, kernel_size=(1, 1), stride=(1, 1), bias=False)\n",
      "              (bn): BatchNorm2d(64, eps=0.001, momentum=0.03, affine=True, track_running_stats=True)\n",
      "              (act): SiLU(inplace=True)\n",
      "            )\n",
      "            (cv2): Conv(\n",
      "              (conv): Conv2d(128, 64, kernel_size=(1, 1), stride=(1, 1), bias=False)\n",
      "              (bn): BatchNorm2d(64, eps=0.001, momentum=0.03, affine=True, track_running_stats=True)\n",
      "              (act): SiLU(inplace=True)\n",
      "            )\n",
      "            (cv3): Conv(\n",
      "              (conv): Conv2d(128, 128, kernel_size=(1, 1), stride=(1, 1), bias=False)\n",
      "              (bn): BatchNorm2d(128, eps=0.001, momentum=0.03, affine=True, track_running_stats=True)\n",
      "              (act): SiLU(inplace=True)\n",
      "            )\n",
      "            (m): Sequential(\n",
      "              (0): Bottleneck(\n",
      "                (cv1): Conv(\n",
      "                  (conv): Conv2d(64, 64, kernel_size=(3, 3), stride=(1, 1), padding=(1, 1), bias=False)\n",
      "                  (bn): BatchNorm2d(64, eps=0.001, momentum=0.03, affine=True, track_running_stats=True)\n",
      "                  (act): SiLU(inplace=True)\n",
      "                )\n",
      "                (cv2): Conv(\n",
      "                  (conv): Conv2d(64, 64, kernel_size=(3, 3), stride=(1, 1), padding=(1, 1), bias=False)\n",
      "                  (bn): BatchNorm2d(64, eps=0.001, momentum=0.03, affine=True, track_running_stats=True)\n",
      "                  (act): SiLU(inplace=True)\n",
      "                )\n",
      "              )\n",
      "              (1): Bottleneck(\n",
      "                (cv1): Conv(\n",
      "                  (conv): Conv2d(64, 64, kernel_size=(3, 3), stride=(1, 1), padding=(1, 1), bias=False)\n",
      "                  (bn): BatchNorm2d(64, eps=0.001, momentum=0.03, affine=True, track_running_stats=True)\n",
      "                  (act): SiLU(inplace=True)\n",
      "                )\n",
      "                (cv2): Conv(\n",
      "                  (conv): Conv2d(64, 64, kernel_size=(3, 3), stride=(1, 1), padding=(1, 1), bias=False)\n",
      "                  (bn): BatchNorm2d(64, eps=0.001, momentum=0.03, affine=True, track_running_stats=True)\n",
      "                  (act): SiLU(inplace=True)\n",
      "                )\n",
      "              )\n",
      "            )\n",
      "          )\n",
      "        )\n",
      "      )\n",
      "      (9): SPPF(\n",
      "        (cv1): Conv(\n",
      "          (conv): Conv2d(256, 128, kernel_size=(1, 1), stride=(1, 1), bias=False)\n",
      "          (bn): BatchNorm2d(128, eps=0.001, momentum=0.03, affine=True, track_running_stats=True)\n",
      "          (act): SiLU(inplace=True)\n",
      "        )\n",
      "        (cv2): Conv(\n",
      "          (conv): Conv2d(512, 256, kernel_size=(1, 1), stride=(1, 1), bias=False)\n",
      "          (bn): BatchNorm2d(256, eps=0.001, momentum=0.03, affine=True, track_running_stats=True)\n",
      "          (act): SiLU(inplace=True)\n",
      "        )\n",
      "        (m): MaxPool2d(kernel_size=5, stride=1, padding=2, dilation=1, ceil_mode=False)\n",
      "      )\n",
      "      (10): C2PSA(\n",
      "        (cv1): Conv(\n",
      "          (conv): Conv2d(256, 256, kernel_size=(1, 1), stride=(1, 1), bias=False)\n",
      "          (bn): BatchNorm2d(256, eps=0.001, momentum=0.03, affine=True, track_running_stats=True)\n",
      "          (act): SiLU(inplace=True)\n",
      "        )\n",
      "        (cv2): Conv(\n",
      "          (conv): Conv2d(256, 256, kernel_size=(1, 1), stride=(1, 1), bias=False)\n",
      "          (bn): BatchNorm2d(256, eps=0.001, momentum=0.03, affine=True, track_running_stats=True)\n",
      "          (act): SiLU(inplace=True)\n",
      "        )\n",
      "        (m): Sequential(\n",
      "          (0): PSABlock(\n",
      "            (attn): Attention(\n",
      "              (qkv): Conv(\n",
      "                (conv): Conv2d(128, 256, kernel_size=(1, 1), stride=(1, 1), bias=False)\n",
      "                (bn): BatchNorm2d(256, eps=0.001, momentum=0.03, affine=True, track_running_stats=True)\n",
      "                (act): Identity()\n",
      "              )\n",
      "              (proj): Conv(\n",
      "                (conv): Conv2d(128, 128, kernel_size=(1, 1), stride=(1, 1), bias=False)\n",
      "                (bn): BatchNorm2d(128, eps=0.001, momentum=0.03, affine=True, track_running_stats=True)\n",
      "                (act): Identity()\n",
      "              )\n",
      "              (pe): Conv(\n",
      "                (conv): Conv2d(128, 128, kernel_size=(3, 3), stride=(1, 1), padding=(1, 1), groups=128, bias=False)\n",
      "                (bn): BatchNorm2d(128, eps=0.001, momentum=0.03, affine=True, track_running_stats=True)\n",
      "                (act): Identity()\n",
      "              )\n",
      "            )\n",
      "            (ffn): Sequential(\n",
      "              (0): Conv(\n",
      "                (conv): Conv2d(128, 256, kernel_size=(1, 1), stride=(1, 1), bias=False)\n",
      "                (bn): BatchNorm2d(256, eps=0.001, momentum=0.03, affine=True, track_running_stats=True)\n",
      "                (act): SiLU(inplace=True)\n",
      "              )\n",
      "              (1): Conv(\n",
      "                (conv): Conv2d(256, 128, kernel_size=(1, 1), stride=(1, 1), bias=False)\n",
      "                (bn): BatchNorm2d(128, eps=0.001, momentum=0.03, affine=True, track_running_stats=True)\n",
      "                (act): Identity()\n",
      "              )\n",
      "            )\n",
      "          )\n",
      "        )\n",
      "      )\n",
      "      (11): Upsample(scale_factor=2.0, mode='nearest')\n",
      "      (12): Concat()\n",
      "      (13): C3k2(\n",
      "        (cv1): Conv(\n",
      "          (conv): Conv2d(384, 128, kernel_size=(1, 1), stride=(1, 1), bias=False)\n",
      "          (bn): BatchNorm2d(128, eps=0.001, momentum=0.03, affine=True, track_running_stats=True)\n",
      "          (act): SiLU(inplace=True)\n",
      "        )\n",
      "        (cv2): Conv(\n",
      "          (conv): Conv2d(192, 128, kernel_size=(1, 1), stride=(1, 1), bias=False)\n",
      "          (bn): BatchNorm2d(128, eps=0.001, momentum=0.03, affine=True, track_running_stats=True)\n",
      "          (act): SiLU(inplace=True)\n",
      "        )\n",
      "        (m): ModuleList(\n",
      "          (0): Bottleneck(\n",
      "            (cv1): Conv(\n",
      "              (conv): Conv2d(64, 32, kernel_size=(3, 3), stride=(1, 1), padding=(1, 1), bias=False)\n",
      "              (bn): BatchNorm2d(32, eps=0.001, momentum=0.03, affine=True, track_running_stats=True)\n",
      "              (act): SiLU(inplace=True)\n",
      "            )\n",
      "            (cv2): Conv(\n",
      "              (conv): Conv2d(32, 64, kernel_size=(3, 3), stride=(1, 1), padding=(1, 1), bias=False)\n",
      "              (bn): BatchNorm2d(64, eps=0.001, momentum=0.03, affine=True, track_running_stats=True)\n",
      "              (act): SiLU(inplace=True)\n",
      "            )\n",
      "          )\n",
      "        )\n",
      "      )\n",
      "      (14): Upsample(scale_factor=2.0, mode='nearest')\n",
      "      (15): Concat()\n",
      "      (16): C3k2(\n",
      "        (cv1): Conv(\n",
      "          (conv): Conv2d(256, 64, kernel_size=(1, 1), stride=(1, 1), bias=False)\n",
      "          (bn): BatchNorm2d(64, eps=0.001, momentum=0.03, affine=True, track_running_stats=True)\n",
      "          (act): SiLU(inplace=True)\n",
      "        )\n",
      "        (cv2): Conv(\n",
      "          (conv): Conv2d(96, 64, kernel_size=(1, 1), stride=(1, 1), bias=False)\n",
      "          (bn): BatchNorm2d(64, eps=0.001, momentum=0.03, affine=True, track_running_stats=True)\n",
      "          (act): SiLU(inplace=True)\n",
      "        )\n",
      "        (m): ModuleList(\n",
      "          (0): Bottleneck(\n",
      "            (cv1): Conv(\n",
      "              (conv): Conv2d(32, 16, kernel_size=(3, 3), stride=(1, 1), padding=(1, 1), bias=False)\n",
      "              (bn): BatchNorm2d(16, eps=0.001, momentum=0.03, affine=True, track_running_stats=True)\n",
      "              (act): SiLU(inplace=True)\n",
      "            )\n",
      "            (cv2): Conv(\n",
      "              (conv): Conv2d(16, 32, kernel_size=(3, 3), stride=(1, 1), padding=(1, 1), bias=False)\n",
      "              (bn): BatchNorm2d(32, eps=0.001, momentum=0.03, affine=True, track_running_stats=True)\n",
      "              (act): SiLU(inplace=True)\n",
      "            )\n",
      "          )\n",
      "        )\n",
      "      )\n",
      "      (17): Conv(\n",
      "        (conv): Conv2d(64, 64, kernel_size=(3, 3), stride=(2, 2), padding=(1, 1), bias=False)\n",
      "        (bn): BatchNorm2d(64, eps=0.001, momentum=0.03, affine=True, track_running_stats=True)\n",
      "        (act): SiLU(inplace=True)\n",
      "      )\n",
      "      (18): Concat()\n",
      "      (19): C3k2(\n",
      "        (cv1): Conv(\n",
      "          (conv): Conv2d(192, 128, kernel_size=(1, 1), stride=(1, 1), bias=False)\n",
      "          (bn): BatchNorm2d(128, eps=0.001, momentum=0.03, affine=True, track_running_stats=True)\n",
      "          (act): SiLU(inplace=True)\n",
      "        )\n",
      "        (cv2): Conv(\n",
      "          (conv): Conv2d(192, 128, kernel_size=(1, 1), stride=(1, 1), bias=False)\n",
      "          (bn): BatchNorm2d(128, eps=0.001, momentum=0.03, affine=True, track_running_stats=True)\n",
      "          (act): SiLU(inplace=True)\n",
      "        )\n",
      "        (m): ModuleList(\n",
      "          (0): Bottleneck(\n",
      "            (cv1): Conv(\n",
      "              (conv): Conv2d(64, 32, kernel_size=(3, 3), stride=(1, 1), padding=(1, 1), bias=False)\n",
      "              (bn): BatchNorm2d(32, eps=0.001, momentum=0.03, affine=True, track_running_stats=True)\n",
      "              (act): SiLU(inplace=True)\n",
      "            )\n",
      "            (cv2): Conv(\n",
      "              (conv): Conv2d(32, 64, kernel_size=(3, 3), stride=(1, 1), padding=(1, 1), bias=False)\n",
      "              (bn): BatchNorm2d(64, eps=0.001, momentum=0.03, affine=True, track_running_stats=True)\n",
      "              (act): SiLU(inplace=True)\n",
      "            )\n",
      "          )\n",
      "        )\n",
      "      )\n",
      "      (20): Conv(\n",
      "        (conv): Conv2d(128, 128, kernel_size=(3, 3), stride=(2, 2), padding=(1, 1), bias=False)\n",
      "        (bn): BatchNorm2d(128, eps=0.001, momentum=0.03, affine=True, track_running_stats=True)\n",
      "        (act): SiLU(inplace=True)\n",
      "      )\n",
      "      (21): Concat()\n",
      "      (22): C3k2(\n",
      "        (cv1): Conv(\n",
      "          (conv): Conv2d(384, 256, kernel_size=(1, 1), stride=(1, 1), bias=False)\n",
      "          (bn): BatchNorm2d(256, eps=0.001, momentum=0.03, affine=True, track_running_stats=True)\n",
      "          (act): SiLU(inplace=True)\n",
      "        )\n",
      "        (cv2): Conv(\n",
      "          (conv): Conv2d(384, 256, kernel_size=(1, 1), stride=(1, 1), bias=False)\n",
      "          (bn): BatchNorm2d(256, eps=0.001, momentum=0.03, affine=True, track_running_stats=True)\n",
      "          (act): SiLU(inplace=True)\n",
      "        )\n",
      "        (m): ModuleList(\n",
      "          (0): C3k(\n",
      "            (cv1): Conv(\n",
      "              (conv): Conv2d(128, 64, kernel_size=(1, 1), stride=(1, 1), bias=False)\n",
      "              (bn): BatchNorm2d(64, eps=0.001, momentum=0.03, affine=True, track_running_stats=True)\n",
      "              (act): SiLU(inplace=True)\n",
      "            )\n",
      "            (cv2): Conv(\n",
      "              (conv): Conv2d(128, 64, kernel_size=(1, 1), stride=(1, 1), bias=False)\n",
      "              (bn): BatchNorm2d(64, eps=0.001, momentum=0.03, affine=True, track_running_stats=True)\n",
      "              (act): SiLU(inplace=True)\n",
      "            )\n",
      "            (cv3): Conv(\n",
      "              (conv): Conv2d(128, 128, kernel_size=(1, 1), stride=(1, 1), bias=False)\n",
      "              (bn): BatchNorm2d(128, eps=0.001, momentum=0.03, affine=True, track_running_stats=True)\n",
      "              (act): SiLU(inplace=True)\n",
      "            )\n",
      "            (m): Sequential(\n",
      "              (0): Bottleneck(\n",
      "                (cv1): Conv(\n",
      "                  (conv): Conv2d(64, 64, kernel_size=(3, 3), stride=(1, 1), padding=(1, 1), bias=False)\n",
      "                  (bn): BatchNorm2d(64, eps=0.001, momentum=0.03, affine=True, track_running_stats=True)\n",
      "                  (act): SiLU(inplace=True)\n",
      "                )\n",
      "                (cv2): Conv(\n",
      "                  (conv): Conv2d(64, 64, kernel_size=(3, 3), stride=(1, 1), padding=(1, 1), bias=False)\n",
      "                  (bn): BatchNorm2d(64, eps=0.001, momentum=0.03, affine=True, track_running_stats=True)\n",
      "                  (act): SiLU(inplace=True)\n",
      "                )\n",
      "              )\n",
      "              (1): Bottleneck(\n",
      "                (cv1): Conv(\n",
      "                  (conv): Conv2d(64, 64, kernel_size=(3, 3), stride=(1, 1), padding=(1, 1), bias=False)\n",
      "                  (bn): BatchNorm2d(64, eps=0.001, momentum=0.03, affine=True, track_running_stats=True)\n",
      "                  (act): SiLU(inplace=True)\n",
      "                )\n",
      "                (cv2): Conv(\n",
      "                  (conv): Conv2d(64, 64, kernel_size=(3, 3), stride=(1, 1), padding=(1, 1), bias=False)\n",
      "                  (bn): BatchNorm2d(64, eps=0.001, momentum=0.03, affine=True, track_running_stats=True)\n",
      "                  (act): SiLU(inplace=True)\n",
      "                )\n",
      "              )\n",
      "            )\n",
      "          )\n",
      "        )\n",
      "      )\n",
      "      (23): Detect(\n",
      "        (cv2): ModuleList(\n",
      "          (0): Sequential(\n",
      "            (0): Conv(\n",
      "              (conv): Conv2d(64, 64, kernel_size=(3, 3), stride=(1, 1), padding=(1, 1), bias=False)\n",
      "              (bn): BatchNorm2d(64, eps=0.001, momentum=0.03, affine=True, track_running_stats=True)\n",
      "              (act): SiLU(inplace=True)\n",
      "            )\n",
      "            (1): Conv(\n",
      "              (conv): Conv2d(64, 64, kernel_size=(3, 3), stride=(1, 1), padding=(1, 1), bias=False)\n",
      "              (bn): BatchNorm2d(64, eps=0.001, momentum=0.03, affine=True, track_running_stats=True)\n",
      "              (act): SiLU(inplace=True)\n",
      "            )\n",
      "            (2): Conv2d(64, 64, kernel_size=(1, 1), stride=(1, 1))\n",
      "          )\n",
      "          (1): Sequential(\n",
      "            (0): Conv(\n",
      "              (conv): Conv2d(128, 64, kernel_size=(3, 3), stride=(1, 1), padding=(1, 1), bias=False)\n",
      "              (bn): BatchNorm2d(64, eps=0.001, momentum=0.03, affine=True, track_running_stats=True)\n",
      "              (act): SiLU(inplace=True)\n",
      "            )\n",
      "            (1): Conv(\n",
      "              (conv): Conv2d(64, 64, kernel_size=(3, 3), stride=(1, 1), padding=(1, 1), bias=False)\n",
      "              (bn): BatchNorm2d(64, eps=0.001, momentum=0.03, affine=True, track_running_stats=True)\n",
      "              (act): SiLU(inplace=True)\n",
      "            )\n",
      "            (2): Conv2d(64, 64, kernel_size=(1, 1), stride=(1, 1))\n",
      "          )\n",
      "          (2): Sequential(\n",
      "            (0): Conv(\n",
      "              (conv): Conv2d(256, 64, kernel_size=(3, 3), stride=(1, 1), padding=(1, 1), bias=False)\n",
      "              (bn): BatchNorm2d(64, eps=0.001, momentum=0.03, affine=True, track_running_stats=True)\n",
      "              (act): SiLU(inplace=True)\n",
      "            )\n",
      "            (1): Conv(\n",
      "              (conv): Conv2d(64, 64, kernel_size=(3, 3), stride=(1, 1), padding=(1, 1), bias=False)\n",
      "              (bn): BatchNorm2d(64, eps=0.001, momentum=0.03, affine=True, track_running_stats=True)\n",
      "              (act): SiLU(inplace=True)\n",
      "            )\n",
      "            (2): Conv2d(64, 64, kernel_size=(1, 1), stride=(1, 1))\n",
      "          )\n",
      "        )\n",
      "        (cv3): ModuleList(\n",
      "          (0): Sequential(\n",
      "            (0): Sequential(\n",
      "              (0): DWConv(\n",
      "                (conv): Conv2d(64, 64, kernel_size=(3, 3), stride=(1, 1), padding=(1, 1), groups=64, bias=False)\n",
      "                (bn): BatchNorm2d(64, eps=0.001, momentum=0.03, affine=True, track_running_stats=True)\n",
      "                (act): SiLU(inplace=True)\n",
      "              )\n",
      "              (1): Conv(\n",
      "                (conv): Conv2d(64, 80, kernel_size=(1, 1), stride=(1, 1), bias=False)\n",
      "                (bn): BatchNorm2d(80, eps=0.001, momentum=0.03, affine=True, track_running_stats=True)\n",
      "                (act): SiLU(inplace=True)\n",
      "              )\n",
      "            )\n",
      "            (1): Sequential(\n",
      "              (0): DWConv(\n",
      "                (conv): Conv2d(80, 80, kernel_size=(3, 3), stride=(1, 1), padding=(1, 1), groups=80, bias=False)\n",
      "                (bn): BatchNorm2d(80, eps=0.001, momentum=0.03, affine=True, track_running_stats=True)\n",
      "                (act): SiLU(inplace=True)\n",
      "              )\n",
      "              (1): Conv(\n",
      "                (conv): Conv2d(80, 80, kernel_size=(1, 1), stride=(1, 1), bias=False)\n",
      "                (bn): BatchNorm2d(80, eps=0.001, momentum=0.03, affine=True, track_running_stats=True)\n",
      "                (act): SiLU(inplace=True)\n",
      "              )\n",
      "            )\n",
      "            (2): Conv2d(80, 80, kernel_size=(1, 1), stride=(1, 1))\n",
      "          )\n",
      "          (1): Sequential(\n",
      "            (0): Sequential(\n",
      "              (0): DWConv(\n",
      "                (conv): Conv2d(128, 128, kernel_size=(3, 3), stride=(1, 1), padding=(1, 1), groups=128, bias=False)\n",
      "                (bn): BatchNorm2d(128, eps=0.001, momentum=0.03, affine=True, track_running_stats=True)\n",
      "                (act): SiLU(inplace=True)\n",
      "              )\n",
      "              (1): Conv(\n",
      "                (conv): Conv2d(128, 80, kernel_size=(1, 1), stride=(1, 1), bias=False)\n",
      "                (bn): BatchNorm2d(80, eps=0.001, momentum=0.03, affine=True, track_running_stats=True)\n",
      "                (act): SiLU(inplace=True)\n",
      "              )\n",
      "            )\n",
      "            (1): Sequential(\n",
      "              (0): DWConv(\n",
      "                (conv): Conv2d(80, 80, kernel_size=(3, 3), stride=(1, 1), padding=(1, 1), groups=80, bias=False)\n",
      "                (bn): BatchNorm2d(80, eps=0.001, momentum=0.03, affine=True, track_running_stats=True)\n",
      "                (act): SiLU(inplace=True)\n",
      "              )\n",
      "              (1): Conv(\n",
      "                (conv): Conv2d(80, 80, kernel_size=(1, 1), stride=(1, 1), bias=False)\n",
      "                (bn): BatchNorm2d(80, eps=0.001, momentum=0.03, affine=True, track_running_stats=True)\n",
      "                (act): SiLU(inplace=True)\n",
      "              )\n",
      "            )\n",
      "            (2): Conv2d(80, 80, kernel_size=(1, 1), stride=(1, 1))\n",
      "          )\n",
      "          (2): Sequential(\n",
      "            (0): Sequential(\n",
      "              (0): DWConv(\n",
      "                (conv): Conv2d(256, 256, kernel_size=(3, 3), stride=(1, 1), padding=(1, 1), groups=256, bias=False)\n",
      "                (bn): BatchNorm2d(256, eps=0.001, momentum=0.03, affine=True, track_running_stats=True)\n",
      "                (act): SiLU(inplace=True)\n",
      "              )\n",
      "              (1): Conv(\n",
      "                (conv): Conv2d(256, 80, kernel_size=(1, 1), stride=(1, 1), bias=False)\n",
      "                (bn): BatchNorm2d(80, eps=0.001, momentum=0.03, affine=True, track_running_stats=True)\n",
      "                (act): SiLU(inplace=True)\n",
      "              )\n",
      "            )\n",
      "            (1): Sequential(\n",
      "              (0): DWConv(\n",
      "                (conv): Conv2d(80, 80, kernel_size=(3, 3), stride=(1, 1), padding=(1, 1), groups=80, bias=False)\n",
      "                (bn): BatchNorm2d(80, eps=0.001, momentum=0.03, affine=True, track_running_stats=True)\n",
      "                (act): SiLU(inplace=True)\n",
      "              )\n",
      "              (1): Conv(\n",
      "                (conv): Conv2d(80, 80, kernel_size=(1, 1), stride=(1, 1), bias=False)\n",
      "                (bn): BatchNorm2d(80, eps=0.001, momentum=0.03, affine=True, track_running_stats=True)\n",
      "                (act): SiLU(inplace=True)\n",
      "              )\n",
      "            )\n",
      "            (2): Conv2d(80, 80, kernel_size=(1, 1), stride=(1, 1))\n",
      "          )\n",
      "        )\n",
      "        (dfl): DFL(\n",
      "          (conv): Conv2d(16, 1, kernel_size=(1, 1), stride=(1, 1), bias=False)\n",
      "        )\n",
      "      )\n",
      "    )\n",
      "  )\n",
      ")\n"
     ]
    }
   ],
   "source": [
    "# model=YOLO(\"yolo11n.pt\")\n",
    "model = YOLO(\"yolo11n.yaml\")\n",
    "print(model)\n"
   ]
  },
  {
   "cell_type": "code",
   "execution_count": 11,
   "metadata": {},
   "outputs": [
    {
     "name": "stdout",
     "output_type": "stream",
     "text": [
      "Ultralytics 8.3.56  Python-3.12.3 torch-2.4.1 CUDA:0 (NVIDIA GeForce RTX 3070, 8192MiB)\n",
      "\u001b[34m\u001b[1mengine\\trainer: \u001b[0mtask=detect, mode=train, model=yolo11n.pt, data=dataset.yaml, epochs=20, time=None, patience=100, batch=32, imgsz=512, save=True, save_period=-1, cache=False, device=0, workers=1, project=None, name=train2, exist_ok=False, pretrained=True, optimizer=auto, verbose=True, seed=0, deterministic=True, single_cls=False, rect=False, cos_lr=False, close_mosaic=10, resume=False, amp=True, fraction=1.0, profile=False, freeze=None, multi_scale=False, overlap_mask=True, mask_ratio=4, dropout=0.0, val=True, split=val, save_json=False, save_hybrid=False, conf=None, iou=0.7, max_det=300, half=False, dnn=False, plots=True, source=None, vid_stride=1, stream_buffer=False, visualize=False, augment=False, agnostic_nms=False, classes=None, retina_masks=False, embed=None, show=False, save_frames=False, save_txt=False, save_conf=False, save_crop=False, show_labels=True, show_conf=True, show_boxes=True, line_width=None, format=torchscript, keras=False, optimize=False, int8=False, dynamic=False, simplify=True, opset=None, workspace=None, nms=False, lr0=0.01, lrf=0.01, momentum=0.937, weight_decay=0.0005, warmup_epochs=3.0, warmup_momentum=0.8, warmup_bias_lr=0.1, box=7.5, cls=0.5, dfl=1.5, pose=12.0, kobj=1.0, nbs=64, hsv_h=0.015, hsv_s=0.7, hsv_v=0.4, degrees=0.0, translate=0.1, scale=0.5, shear=0.0, perspective=0.0, flipud=0.0, fliplr=0.5, bgr=0.0, mosaic=1.0, mixup=0.0, copy_paste=0.0, copy_paste_mode=flip, auto_augment=randaugment, erasing=0.4, crop_fraction=1.0, cfg=None, tracker=botsort.yaml, save_dir=runs\\detect\\train2\n",
      "\n",
      "                   from  n    params  module                                       arguments                     \n",
      "  0                  -1  1       464  ultralytics.nn.modules.conv.Conv             [3, 16, 3, 2]                 \n",
      "  1                  -1  1      4672  ultralytics.nn.modules.conv.Conv             [16, 32, 3, 2]                \n",
      "  2                  -1  1      6640  ultralytics.nn.modules.block.C3k2            [32, 64, 1, False, 0.25]      \n",
      "  3                  -1  1     36992  ultralytics.nn.modules.conv.Conv             [64, 64, 3, 2]                \n",
      "  4                  -1  1     26080  ultralytics.nn.modules.block.C3k2            [64, 128, 1, False, 0.25]     \n",
      "  5                  -1  1    147712  ultralytics.nn.modules.conv.Conv             [128, 128, 3, 2]              \n",
      "  6                  -1  1     87040  ultralytics.nn.modules.block.C3k2            [128, 128, 1, True]           \n",
      "  7                  -1  1    295424  ultralytics.nn.modules.conv.Conv             [128, 256, 3, 2]              \n",
      "  8                  -1  1    346112  ultralytics.nn.modules.block.C3k2            [256, 256, 1, True]           \n",
      "  9                  -1  1    164608  ultralytics.nn.modules.block.SPPF            [256, 256, 5]                 \n",
      " 10                  -1  1    249728  ultralytics.nn.modules.block.C2PSA           [256, 256, 1]                 \n",
      " 11                  -1  1         0  torch.nn.modules.upsampling.Upsample         [None, 2, 'nearest']          \n",
      " 12             [-1, 6]  1         0  ultralytics.nn.modules.conv.Concat           [1]                           \n",
      " 13                  -1  1    111296  ultralytics.nn.modules.block.C3k2            [384, 128, 1, False]          \n",
      " 14                  -1  1         0  torch.nn.modules.upsampling.Upsample         [None, 2, 'nearest']          \n",
      " 15             [-1, 4]  1         0  ultralytics.nn.modules.conv.Concat           [1]                           \n",
      " 16                  -1  1     32096  ultralytics.nn.modules.block.C3k2            [256, 64, 1, False]           \n",
      " 17                  -1  1     36992  ultralytics.nn.modules.conv.Conv             [64, 64, 3, 2]                \n",
      " 18            [-1, 13]  1         0  ultralytics.nn.modules.conv.Concat           [1]                           \n",
      " 19                  -1  1     86720  ultralytics.nn.modules.block.C3k2            [192, 128, 1, False]          \n",
      " 20                  -1  1    147712  ultralytics.nn.modules.conv.Conv             [128, 128, 3, 2]              \n",
      " 21            [-1, 10]  1         0  ultralytics.nn.modules.conv.Concat           [1]                           \n",
      " 22                  -1  1    378880  ultralytics.nn.modules.block.C3k2            [384, 256, 1, True]           \n",
      " 23        [16, 19, 22]  1    430867  ultralytics.nn.modules.head.Detect           [1, [64, 128, 256]]           \n",
      "YOLO11n summary: 319 layers, 2,590,035 parameters, 2,590,019 gradients, 6.4 GFLOPs\n",
      "\n",
      "Transferred 499/499 items from pretrained weights\n",
      "Freezing layer 'model.23.dfl.conv.weight'\n",
      "\u001b[34m\u001b[1mAMP: \u001b[0mrunning Automatic Mixed Precision (AMP) checks...\n",
      "\u001b[34m\u001b[1mAMP: \u001b[0mchecks passed \n"
     ]
    },
    {
     "name": "stderr",
     "output_type": "stream",
     "text": [
      "\u001b[34m\u001b[1mtrain: \u001b[0mScanning D:\\Datasets\\YOLO_Dataset\\train\\labels.cache... 42950 images, 21520 backgrounds, 0 corrupt: 100%|██████████| 42950/42950 [00:00<?, ?it/s]\n"
     ]
    },
    {
     "name": "stdout",
     "output_type": "stream",
     "text": [
      "\u001b[34m\u001b[1malbumentations: \u001b[0mBlur(p=0.01, blur_limit=(3, 7)), MedianBlur(p=0.01, blur_limit=(3, 7)), ToGray(p=0.01, num_output_channels=3, method='weighted_average'), CLAHE(p=0.01, clip_limit=(1.0, 4.0), tile_grid_size=(8, 8))\n"
     ]
    },
    {
     "name": "stderr",
     "output_type": "stream",
     "text": [
      "\u001b[34m\u001b[1mval: \u001b[0mScanning D:\\Datasets\\YOLO_Dataset\\val\\labels.cache... 5368 images, 2654 backgrounds, 0 corrupt: 100%|██████████| 5368/5368 [00:00<?, ?it/s]\n"
     ]
    },
    {
     "name": "stdout",
     "output_type": "stream",
     "text": [
      "Plotting labels to runs\\detect\\train2\\labels.jpg... \n",
      "\u001b[34m\u001b[1moptimizer:\u001b[0m 'optimizer=auto' found, ignoring 'lr0=0.01' and 'momentum=0.937' and determining best 'optimizer', 'lr0' and 'momentum' automatically... \n",
      "\u001b[34m\u001b[1moptimizer:\u001b[0m SGD(lr=0.01, momentum=0.9) with parameter groups 81 weight(decay=0.0), 88 weight(decay=0.0005), 87 bias(decay=0.0)\n",
      "Image sizes 512 train, 512 val\n",
      "Using 1 dataloader workers\n",
      "Logging results to \u001b[1mruns\\detect\\train2\u001b[0m\n",
      "Starting training for 20 epochs...\n",
      "\n",
      "      Epoch    GPU_mem   box_loss   cls_loss   dfl_loss  Instances       Size\n"
     ]
    },
    {
     "name": "stderr",
     "output_type": "stream",
     "text": [
      "       1/20      3.53G      1.685      1.432      1.276          4        512: 100%|██████████| 1343/1343 [04:47<00:00,  4.67it/s]\n",
      "                 Class     Images  Instances      Box(P          R      mAP50  mAP50-95): 100%|██████████| 84/84 [00:15<00:00,  5.29it/s]"
     ]
    },
    {
     "name": "stdout",
     "output_type": "stream",
     "text": [
      "                   all       5368       2714      0.729      0.666      0.746      0.379\n"
     ]
    },
    {
     "name": "stderr",
     "output_type": "stream",
     "text": [
      "\n"
     ]
    },
    {
     "name": "stdout",
     "output_type": "stream",
     "text": [
      "\n",
      "      Epoch    GPU_mem   box_loss   cls_loss   dfl_loss  Instances       Size\n"
     ]
    },
    {
     "name": "stderr",
     "output_type": "stream",
     "text": [
      "       2/20      3.54G      1.743      1.339      1.315          6        512: 100%|██████████| 1343/1343 [04:46<00:00,  4.69it/s]\n",
      "                 Class     Images  Instances      Box(P          R      mAP50  mAP50-95): 100%|██████████| 84/84 [00:15<00:00,  5.48it/s]"
     ]
    },
    {
     "name": "stdout",
     "output_type": "stream",
     "text": [
      "                   all       5368       2714      0.763      0.706      0.791      0.398\n"
     ]
    },
    {
     "name": "stderr",
     "output_type": "stream",
     "text": [
      "\n"
     ]
    },
    {
     "name": "stdout",
     "output_type": "stream",
     "text": [
      "\n",
      "      Epoch    GPU_mem   box_loss   cls_loss   dfl_loss  Instances       Size\n"
     ]
    },
    {
     "name": "stderr",
     "output_type": "stream",
     "text": [
      "       3/20      3.55G      1.792      1.365       1.36          4        512: 100%|██████████| 1343/1343 [04:45<00:00,  4.70it/s]\n",
      "                 Class     Images  Instances      Box(P          R      mAP50  mAP50-95): 100%|██████████| 84/84 [00:15<00:00,  5.36it/s]"
     ]
    },
    {
     "name": "stdout",
     "output_type": "stream",
     "text": [
      "                   all       5368       2714      0.704      0.669      0.724      0.354\n"
     ]
    },
    {
     "name": "stderr",
     "output_type": "stream",
     "text": [
      "\n"
     ]
    },
    {
     "name": "stdout",
     "output_type": "stream",
     "text": [
      "\n",
      "      Epoch    GPU_mem   box_loss   cls_loss   dfl_loss  Instances       Size\n"
     ]
    },
    {
     "name": "stderr",
     "output_type": "stream",
     "text": [
      "       4/20      3.54G      1.789       1.34       1.38          7        512: 100%|██████████| 1343/1343 [04:45<00:00,  4.71it/s]\n",
      "                 Class     Images  Instances      Box(P          R      mAP50  mAP50-95): 100%|██████████| 84/84 [00:15<00:00,  5.43it/s]"
     ]
    },
    {
     "name": "stdout",
     "output_type": "stream",
     "text": [
      "                   all       5368       2714      0.747      0.731      0.792      0.409\n"
     ]
    },
    {
     "name": "stderr",
     "output_type": "stream",
     "text": [
      "\n"
     ]
    },
    {
     "name": "stdout",
     "output_type": "stream",
     "text": [
      "\n",
      "      Epoch    GPU_mem   box_loss   cls_loss   dfl_loss  Instances       Size\n"
     ]
    },
    {
     "name": "stderr",
     "output_type": "stream",
     "text": [
      "       5/20      3.55G      1.744      1.217      1.349          7        512: 100%|██████████| 1343/1343 [04:46<00:00,  4.69it/s]\n",
      "                 Class     Images  Instances      Box(P          R      mAP50  mAP50-95): 100%|██████████| 84/84 [00:15<00:00,  5.40it/s]"
     ]
    },
    {
     "name": "stdout",
     "output_type": "stream",
     "text": [
      "                   all       5368       2714      0.796      0.729      0.821       0.43\n"
     ]
    },
    {
     "name": "stderr",
     "output_type": "stream",
     "text": [
      "\n"
     ]
    },
    {
     "name": "stdout",
     "output_type": "stream",
     "text": [
      "\n",
      "      Epoch    GPU_mem   box_loss   cls_loss   dfl_loss  Instances       Size\n"
     ]
    },
    {
     "name": "stderr",
     "output_type": "stream",
     "text": [
      "       6/20      3.54G      1.711      1.155      1.316          5        512: 100%|██████████| 1343/1343 [04:45<00:00,  4.70it/s]\n",
      "                 Class     Images  Instances      Box(P          R      mAP50  mAP50-95): 100%|██████████| 84/84 [00:14<00:00,  5.63it/s]"
     ]
    },
    {
     "name": "stdout",
     "output_type": "stream",
     "text": [
      "                   all       5368       2714      0.838      0.762      0.852      0.447\n"
     ]
    },
    {
     "name": "stderr",
     "output_type": "stream",
     "text": [
      "\n"
     ]
    },
    {
     "name": "stdout",
     "output_type": "stream",
     "text": [
      "\n",
      "      Epoch    GPU_mem   box_loss   cls_loss   dfl_loss  Instances       Size\n"
     ]
    },
    {
     "name": "stderr",
     "output_type": "stream",
     "text": [
      "       7/20      3.55G       1.68      1.092      1.303          0        512: 100%|██████████| 1343/1343 [04:46<00:00,  4.69it/s]\n",
      "                 Class     Images  Instances      Box(P          R      mAP50  mAP50-95): 100%|██████████| 84/84 [00:14<00:00,  5.64it/s]"
     ]
    },
    {
     "name": "stdout",
     "output_type": "stream",
     "text": [
      "                   all       5368       2714      0.856      0.805      0.885      0.487\n"
     ]
    },
    {
     "name": "stderr",
     "output_type": "stream",
     "text": [
      "\n"
     ]
    },
    {
     "name": "stdout",
     "output_type": "stream",
     "text": [
      "\n",
      "      Epoch    GPU_mem   box_loss   cls_loss   dfl_loss  Instances       Size\n"
     ]
    },
    {
     "name": "stderr",
     "output_type": "stream",
     "text": [
      "       8/20      3.54G      1.649      1.048      1.289          6        512: 100%|██████████| 1343/1343 [04:46<00:00,  4.68it/s]\n",
      "                 Class     Images  Instances      Box(P          R      mAP50  mAP50-95): 100%|██████████| 84/84 [00:14<00:00,  5.65it/s]"
     ]
    },
    {
     "name": "stdout",
     "output_type": "stream",
     "text": [
      "                   all       5368       2714      0.857       0.82      0.897      0.504\n"
     ]
    },
    {
     "name": "stderr",
     "output_type": "stream",
     "text": [
      "\n"
     ]
    },
    {
     "name": "stdout",
     "output_type": "stream",
     "text": [
      "\n",
      "      Epoch    GPU_mem   box_loss   cls_loss   dfl_loss  Instances       Size\n"
     ]
    },
    {
     "name": "stderr",
     "output_type": "stream",
     "text": [
      "       9/20      3.55G      1.636      1.003      1.272          2        512: 100%|██████████| 1343/1343 [04:45<00:00,  4.71it/s]\n",
      "                 Class     Images  Instances      Box(P          R      mAP50  mAP50-95): 100%|██████████| 84/84 [00:14<00:00,  5.65it/s]"
     ]
    },
    {
     "name": "stdout",
     "output_type": "stream",
     "text": [
      "                   all       5368       2714      0.863      0.835      0.913      0.511\n"
     ]
    },
    {
     "name": "stderr",
     "output_type": "stream",
     "text": [
      "\n"
     ]
    },
    {
     "name": "stdout",
     "output_type": "stream",
     "text": [
      "\n",
      "      Epoch    GPU_mem   box_loss   cls_loss   dfl_loss  Instances       Size\n"
     ]
    },
    {
     "name": "stderr",
     "output_type": "stream",
     "text": [
      "      10/20      3.54G       1.62     0.9731      1.263          4        512: 100%|██████████| 1343/1343 [04:44<00:00,  4.72it/s]\n",
      "                 Class     Images  Instances      Box(P          R      mAP50  mAP50-95): 100%|██████████| 84/84 [00:14<00:00,  5.73it/s]"
     ]
    },
    {
     "name": "stdout",
     "output_type": "stream",
     "text": [
      "                   all       5368       2714      0.893      0.851      0.926      0.526\n"
     ]
    },
    {
     "name": "stderr",
     "output_type": "stream",
     "text": [
      "\n"
     ]
    },
    {
     "name": "stdout",
     "output_type": "stream",
     "text": [
      "Closing dataloader mosaic\n",
      "\u001b[34m\u001b[1malbumentations: \u001b[0mBlur(p=0.01, blur_limit=(3, 7)), MedianBlur(p=0.01, blur_limit=(3, 7)), ToGray(p=0.01, num_output_channels=3, method='weighted_average'), CLAHE(p=0.01, clip_limit=(1.0, 4.0), tile_grid_size=(8, 8))\n",
      "\n",
      "      Epoch    GPU_mem   box_loss   cls_loss   dfl_loss  Instances       Size\n"
     ]
    },
    {
     "name": "stderr",
     "output_type": "stream",
     "text": [
      "      11/20      3.55G      1.577     0.8748       1.29          3        512: 100%|██████████| 1343/1343 [03:53<00:00,  5.74it/s]\n",
      "                 Class     Images  Instances      Box(P          R      mAP50  mAP50-95): 100%|██████████| 84/84 [00:14<00:00,  5.71it/s]"
     ]
    },
    {
     "name": "stdout",
     "output_type": "stream",
     "text": [
      "                   all       5368       2714      0.894      0.879      0.939      0.543\n"
     ]
    },
    {
     "name": "stderr",
     "output_type": "stream",
     "text": [
      "\n"
     ]
    },
    {
     "name": "stdout",
     "output_type": "stream",
     "text": [
      "\n",
      "      Epoch    GPU_mem   box_loss   cls_loss   dfl_loss  Instances       Size\n"
     ]
    },
    {
     "name": "stderr",
     "output_type": "stream",
     "text": [
      "      12/20      3.54G      1.559     0.8267      1.278          3        512: 100%|██████████| 1343/1343 [03:55<00:00,  5.71it/s]\n",
      "                 Class     Images  Instances      Box(P          R      mAP50  mAP50-95): 100%|██████████| 84/84 [00:14<00:00,  5.69it/s]"
     ]
    },
    {
     "name": "stdout",
     "output_type": "stream",
     "text": [
      "                   all       5368       2714      0.912      0.884       0.95      0.554\n"
     ]
    },
    {
     "name": "stderr",
     "output_type": "stream",
     "text": [
      "\n"
     ]
    },
    {
     "name": "stdout",
     "output_type": "stream",
     "text": [
      "\n",
      "      Epoch    GPU_mem   box_loss   cls_loss   dfl_loss  Instances       Size\n"
     ]
    },
    {
     "name": "stderr",
     "output_type": "stream",
     "text": [
      "      13/20      3.55G      1.537     0.7908      1.262          4        512: 100%|██████████| 1343/1343 [03:53<00:00,  5.75it/s]\n",
      "                 Class     Images  Instances      Box(P          R      mAP50  mAP50-95): 100%|██████████| 84/84 [00:14<00:00,  5.73it/s]"
     ]
    },
    {
     "name": "stdout",
     "output_type": "stream",
     "text": [
      "                   all       5368       2714      0.914      0.901      0.955      0.561\n"
     ]
    },
    {
     "name": "stderr",
     "output_type": "stream",
     "text": [
      "\n"
     ]
    },
    {
     "name": "stdout",
     "output_type": "stream",
     "text": [
      "\n",
      "      Epoch    GPU_mem   box_loss   cls_loss   dfl_loss  Instances       Size\n"
     ]
    },
    {
     "name": "stderr",
     "output_type": "stream",
     "text": [
      "      14/20      3.54G      1.522     0.7664      1.244          2        512: 100%|██████████| 1343/1343 [03:53<00:00,  5.75it/s]\n",
      "                 Class     Images  Instances      Box(P          R      mAP50  mAP50-95): 100%|██████████| 84/84 [00:14<00:00,  5.78it/s]"
     ]
    },
    {
     "name": "stdout",
     "output_type": "stream",
     "text": [
      "                   all       5368       2714      0.919      0.914       0.96      0.574\n"
     ]
    },
    {
     "name": "stderr",
     "output_type": "stream",
     "text": [
      "\n"
     ]
    },
    {
     "name": "stdout",
     "output_type": "stream",
     "text": [
      "\n",
      "      Epoch    GPU_mem   box_loss   cls_loss   dfl_loss  Instances       Size\n"
     ]
    },
    {
     "name": "stderr",
     "output_type": "stream",
     "text": [
      "      15/20      3.55G      1.504     0.7363      1.233          2        512: 100%|██████████| 1343/1343 [03:53<00:00,  5.75it/s]\n",
      "                 Class     Images  Instances      Box(P          R      mAP50  mAP50-95): 100%|██████████| 84/84 [00:14<00:00,  5.77it/s]"
     ]
    },
    {
     "name": "stdout",
     "output_type": "stream",
     "text": [
      "                   all       5368       2714      0.932       0.92      0.968      0.581\n"
     ]
    },
    {
     "name": "stderr",
     "output_type": "stream",
     "text": [
      "\n"
     ]
    },
    {
     "name": "stdout",
     "output_type": "stream",
     "text": [
      "\n",
      "      Epoch    GPU_mem   box_loss   cls_loss   dfl_loss  Instances       Size\n"
     ]
    },
    {
     "name": "stderr",
     "output_type": "stream",
     "text": [
      "      16/20      3.54G      1.486     0.6992      1.221          2        512: 100%|██████████| 1343/1343 [03:53<00:00,  5.75it/s]\n",
      "                 Class     Images  Instances      Box(P          R      mAP50  mAP50-95): 100%|██████████| 84/84 [00:14<00:00,  5.81it/s]"
     ]
    },
    {
     "name": "stdout",
     "output_type": "stream",
     "text": [
      "                   all       5368       2714      0.943      0.922      0.969      0.586\n"
     ]
    },
    {
     "name": "stderr",
     "output_type": "stream",
     "text": [
      "\n"
     ]
    },
    {
     "name": "stdout",
     "output_type": "stream",
     "text": [
      "\n",
      "      Epoch    GPU_mem   box_loss   cls_loss   dfl_loss  Instances       Size\n"
     ]
    },
    {
     "name": "stderr",
     "output_type": "stream",
     "text": [
      "      17/20      3.55G      1.475     0.6749      1.211          3        512: 100%|██████████| 1343/1343 [03:53<00:00,  5.75it/s]\n",
      "                 Class     Images  Instances      Box(P          R      mAP50  mAP50-95): 100%|██████████| 84/84 [00:14<00:00,  5.81it/s]"
     ]
    },
    {
     "name": "stdout",
     "output_type": "stream",
     "text": [
      "                   all       5368       2714      0.942      0.929      0.972       0.59\n"
     ]
    },
    {
     "name": "stderr",
     "output_type": "stream",
     "text": [
      "\n"
     ]
    },
    {
     "name": "stdout",
     "output_type": "stream",
     "text": [
      "\n",
      "      Epoch    GPU_mem   box_loss   cls_loss   dfl_loss  Instances       Size\n"
     ]
    },
    {
     "name": "stderr",
     "output_type": "stream",
     "text": [
      "      18/20      3.54G      1.449     0.6483       1.19          4        512: 100%|██████████| 1343/1343 [03:54<00:00,  5.72it/s]\n",
      "                 Class     Images  Instances      Box(P          R      mAP50  mAP50-95): 100%|██████████| 84/84 [00:14<00:00,  5.88it/s]"
     ]
    },
    {
     "name": "stdout",
     "output_type": "stream",
     "text": [
      "                   all       5368       2714      0.946       0.94      0.975      0.596\n"
     ]
    },
    {
     "name": "stderr",
     "output_type": "stream",
     "text": [
      "\n"
     ]
    },
    {
     "name": "stdout",
     "output_type": "stream",
     "text": [
      "\n",
      "      Epoch    GPU_mem   box_loss   cls_loss   dfl_loss  Instances       Size\n"
     ]
    },
    {
     "name": "stderr",
     "output_type": "stream",
     "text": [
      "      19/20      3.55G      1.431     0.6186      1.176          2        512: 100%|██████████| 1343/1343 [03:54<00:00,  5.72it/s]\n",
      "                 Class     Images  Instances      Box(P          R      mAP50  mAP50-95): 100%|██████████| 84/84 [00:14<00:00,  5.84it/s]"
     ]
    },
    {
     "name": "stdout",
     "output_type": "stream",
     "text": [
      "                   all       5368       2714      0.949      0.943      0.977      0.599\n"
     ]
    },
    {
     "name": "stderr",
     "output_type": "stream",
     "text": [
      "\n"
     ]
    },
    {
     "name": "stdout",
     "output_type": "stream",
     "text": [
      "\n",
      "      Epoch    GPU_mem   box_loss   cls_loss   dfl_loss  Instances       Size\n"
     ]
    },
    {
     "name": "stderr",
     "output_type": "stream",
     "text": [
      "      20/20      3.54G      1.412     0.5952      1.167          3        512: 100%|██████████| 1343/1343 [03:56<00:00,  5.68it/s]\n",
      "                 Class     Images  Instances      Box(P          R      mAP50  mAP50-95): 100%|██████████| 84/84 [00:14<00:00,  5.87it/s]"
     ]
    },
    {
     "name": "stdout",
     "output_type": "stream",
     "text": [
      "                   all       5368       2714       0.95      0.948      0.978      0.601\n"
     ]
    },
    {
     "name": "stderr",
     "output_type": "stream",
     "text": [
      "\n"
     ]
    },
    {
     "name": "stdout",
     "output_type": "stream",
     "text": [
      "\n",
      "20 epochs completed in 1.532 hours.\n",
      "Optimizer stripped from runs\\detect\\train2\\weights\\last.pt, 5.5MB\n",
      "Optimizer stripped from runs\\detect\\train2\\weights\\best.pt, 5.5MB\n",
      "\n",
      "Validating runs\\detect\\train2\\weights\\best.pt...\n",
      "Ultralytics 8.3.56  Python-3.12.3 torch-2.4.1 CUDA:0 (NVIDIA GeForce RTX 3070, 8192MiB)\n",
      "YOLO11n summary (fused): 238 layers, 2,582,347 parameters, 0 gradients, 6.3 GFLOPs\n"
     ]
    },
    {
     "name": "stderr",
     "output_type": "stream",
     "text": [
      "                 Class     Images  Instances      Box(P          R      mAP50  mAP50-95): 100%|██████████| 84/84 [00:14<00:00,  5.71it/s]\n"
     ]
    },
    {
     "name": "stdout",
     "output_type": "stream",
     "text": [
      "                   all       5368       2714       0.95      0.948      0.978      0.601\n",
      "Speed: 0.1ms preprocess, 0.8ms inference, 0.0ms loss, 0.5ms postprocess per image\n",
      "Results saved to \u001b[1mruns\\detect\\train2\u001b[0m\n"
     ]
    },
    {
     "data": {
      "text/plain": [
       "ultralytics.utils.metrics.DetMetrics object with attributes:\n",
       "\n",
       "ap_class_index: array([0])\n",
       "box: ultralytics.utils.metrics.Metric object\n",
       "confusion_matrix: <ultralytics.utils.metrics.ConfusionMatrix object at 0x0000018BEA1BDF10>\n",
       "curves: ['Precision-Recall(B)', 'F1-Confidence(B)', 'Precision-Confidence(B)', 'Recall-Confidence(B)']\n",
       "curves_results: [[array([          0,    0.001001,    0.002002,    0.003003,    0.004004,    0.005005,    0.006006,    0.007007,    0.008008,    0.009009,     0.01001,    0.011011,    0.012012,    0.013013,    0.014014,    0.015015,    0.016016,    0.017017,    0.018018,    0.019019,     0.02002,    0.021021,    0.022022,    0.023023,\n",
       "          0.024024,    0.025025,    0.026026,    0.027027,    0.028028,    0.029029,     0.03003,    0.031031,    0.032032,    0.033033,    0.034034,    0.035035,    0.036036,    0.037037,    0.038038,    0.039039,     0.04004,    0.041041,    0.042042,    0.043043,    0.044044,    0.045045,    0.046046,    0.047047,\n",
       "          0.048048,    0.049049,     0.05005,    0.051051,    0.052052,    0.053053,    0.054054,    0.055055,    0.056056,    0.057057,    0.058058,    0.059059,     0.06006,    0.061061,    0.062062,    0.063063,    0.064064,    0.065065,    0.066066,    0.067067,    0.068068,    0.069069,     0.07007,    0.071071,\n",
       "          0.072072,    0.073073,    0.074074,    0.075075,    0.076076,    0.077077,    0.078078,    0.079079,     0.08008,    0.081081,    0.082082,    0.083083,    0.084084,    0.085085,    0.086086,    0.087087,    0.088088,    0.089089,     0.09009,    0.091091,    0.092092,    0.093093,    0.094094,    0.095095,\n",
       "          0.096096,    0.097097,    0.098098,    0.099099,      0.1001,      0.1011,      0.1021,      0.1031,      0.1041,     0.10511,     0.10611,     0.10711,     0.10811,     0.10911,     0.11011,     0.11111,     0.11211,     0.11311,     0.11411,     0.11512,     0.11612,     0.11712,     0.11812,     0.11912,\n",
       "           0.12012,     0.12112,     0.12212,     0.12312,     0.12412,     0.12513,     0.12613,     0.12713,     0.12813,     0.12913,     0.13013,     0.13113,     0.13213,     0.13313,     0.13413,     0.13514,     0.13614,     0.13714,     0.13814,     0.13914,     0.14014,     0.14114,     0.14214,     0.14314,\n",
       "           0.14414,     0.14515,     0.14615,     0.14715,     0.14815,     0.14915,     0.15015,     0.15115,     0.15215,     0.15315,     0.15415,     0.15516,     0.15616,     0.15716,     0.15816,     0.15916,     0.16016,     0.16116,     0.16216,     0.16316,     0.16416,     0.16517,     0.16617,     0.16717,\n",
       "           0.16817,     0.16917,     0.17017,     0.17117,     0.17217,     0.17317,     0.17417,     0.17518,     0.17618,     0.17718,     0.17818,     0.17918,     0.18018,     0.18118,     0.18218,     0.18318,     0.18418,     0.18519,     0.18619,     0.18719,     0.18819,     0.18919,     0.19019,     0.19119,\n",
       "           0.19219,     0.19319,     0.19419,      0.1952,      0.1962,      0.1972,      0.1982,      0.1992,      0.2002,      0.2012,      0.2022,      0.2032,      0.2042,     0.20521,     0.20621,     0.20721,     0.20821,     0.20921,     0.21021,     0.21121,     0.21221,     0.21321,     0.21421,     0.21522,\n",
       "           0.21622,     0.21722,     0.21822,     0.21922,     0.22022,     0.22122,     0.22222,     0.22322,     0.22422,     0.22523,     0.22623,     0.22723,     0.22823,     0.22923,     0.23023,     0.23123,     0.23223,     0.23323,     0.23423,     0.23524,     0.23624,     0.23724,     0.23824,     0.23924,\n",
       "           0.24024,     0.24124,     0.24224,     0.24324,     0.24424,     0.24525,     0.24625,     0.24725,     0.24825,     0.24925,     0.25025,     0.25125,     0.25225,     0.25325,     0.25425,     0.25526,     0.25626,     0.25726,     0.25826,     0.25926,     0.26026,     0.26126,     0.26226,     0.26326,\n",
       "           0.26426,     0.26527,     0.26627,     0.26727,     0.26827,     0.26927,     0.27027,     0.27127,     0.27227,     0.27327,     0.27427,     0.27528,     0.27628,     0.27728,     0.27828,     0.27928,     0.28028,     0.28128,     0.28228,     0.28328,     0.28428,     0.28529,     0.28629,     0.28729,\n",
       "           0.28829,     0.28929,     0.29029,     0.29129,     0.29229,     0.29329,     0.29429,      0.2953,      0.2963,      0.2973,      0.2983,      0.2993,      0.3003,      0.3013,      0.3023,      0.3033,      0.3043,     0.30531,     0.30631,     0.30731,     0.30831,     0.30931,     0.31031,     0.31131,\n",
       "           0.31231,     0.31331,     0.31431,     0.31532,     0.31632,     0.31732,     0.31832,     0.31932,     0.32032,     0.32132,     0.32232,     0.32332,     0.32432,     0.32533,     0.32633,     0.32733,     0.32833,     0.32933,     0.33033,     0.33133,     0.33233,     0.33333,     0.33433,     0.33534,\n",
       "           0.33634,     0.33734,     0.33834,     0.33934,     0.34034,     0.34134,     0.34234,     0.34334,     0.34434,     0.34535,     0.34635,     0.34735,     0.34835,     0.34935,     0.35035,     0.35135,     0.35235,     0.35335,     0.35435,     0.35536,     0.35636,     0.35736,     0.35836,     0.35936,\n",
       "           0.36036,     0.36136,     0.36236,     0.36336,     0.36436,     0.36537,     0.36637,     0.36737,     0.36837,     0.36937,     0.37037,     0.37137,     0.37237,     0.37337,     0.37437,     0.37538,     0.37638,     0.37738,     0.37838,     0.37938,     0.38038,     0.38138,     0.38238,     0.38338,\n",
       "           0.38438,     0.38539,     0.38639,     0.38739,     0.38839,     0.38939,     0.39039,     0.39139,     0.39239,     0.39339,     0.39439,      0.3954,      0.3964,      0.3974,      0.3984,      0.3994,      0.4004,      0.4014,      0.4024,      0.4034,      0.4044,     0.40541,     0.40641,     0.40741,\n",
       "           0.40841,     0.40941,     0.41041,     0.41141,     0.41241,     0.41341,     0.41441,     0.41542,     0.41642,     0.41742,     0.41842,     0.41942,     0.42042,     0.42142,     0.42242,     0.42342,     0.42442,     0.42543,     0.42643,     0.42743,     0.42843,     0.42943,     0.43043,     0.43143,\n",
       "           0.43243,     0.43343,     0.43443,     0.43544,     0.43644,     0.43744,     0.43844,     0.43944,     0.44044,     0.44144,     0.44244,     0.44344,     0.44444,     0.44545,     0.44645,     0.44745,     0.44845,     0.44945,     0.45045,     0.45145,     0.45245,     0.45345,     0.45445,     0.45546,\n",
       "           0.45646,     0.45746,     0.45846,     0.45946,     0.46046,     0.46146,     0.46246,     0.46346,     0.46446,     0.46547,     0.46647,     0.46747,     0.46847,     0.46947,     0.47047,     0.47147,     0.47247,     0.47347,     0.47447,     0.47548,     0.47648,     0.47748,     0.47848,     0.47948,\n",
       "           0.48048,     0.48148,     0.48248,     0.48348,     0.48448,     0.48549,     0.48649,     0.48749,     0.48849,     0.48949,     0.49049,     0.49149,     0.49249,     0.49349,     0.49449,      0.4955,      0.4965,      0.4975,      0.4985,      0.4995,      0.5005,      0.5015,      0.5025,      0.5035,\n",
       "            0.5045,     0.50551,     0.50651,     0.50751,     0.50851,     0.50951,     0.51051,     0.51151,     0.51251,     0.51351,     0.51451,     0.51552,     0.51652,     0.51752,     0.51852,     0.51952,     0.52052,     0.52152,     0.52252,     0.52352,     0.52452,     0.52553,     0.52653,     0.52753,\n",
       "           0.52853,     0.52953,     0.53053,     0.53153,     0.53253,     0.53353,     0.53453,     0.53554,     0.53654,     0.53754,     0.53854,     0.53954,     0.54054,     0.54154,     0.54254,     0.54354,     0.54454,     0.54555,     0.54655,     0.54755,     0.54855,     0.54955,     0.55055,     0.55155,\n",
       "           0.55255,     0.55355,     0.55455,     0.55556,     0.55656,     0.55756,     0.55856,     0.55956,     0.56056,     0.56156,     0.56256,     0.56356,     0.56456,     0.56557,     0.56657,     0.56757,     0.56857,     0.56957,     0.57057,     0.57157,     0.57257,     0.57357,     0.57457,     0.57558,\n",
       "           0.57658,     0.57758,     0.57858,     0.57958,     0.58058,     0.58158,     0.58258,     0.58358,     0.58458,     0.58559,     0.58659,     0.58759,     0.58859,     0.58959,     0.59059,     0.59159,     0.59259,     0.59359,     0.59459,      0.5956,      0.5966,      0.5976,      0.5986,      0.5996,\n",
       "            0.6006,      0.6016,      0.6026,      0.6036,      0.6046,     0.60561,     0.60661,     0.60761,     0.60861,     0.60961,     0.61061,     0.61161,     0.61261,     0.61361,     0.61461,     0.61562,     0.61662,     0.61762,     0.61862,     0.61962,     0.62062,     0.62162,     0.62262,     0.62362,\n",
       "           0.62462,     0.62563,     0.62663,     0.62763,     0.62863,     0.62963,     0.63063,     0.63163,     0.63263,     0.63363,     0.63463,     0.63564,     0.63664,     0.63764,     0.63864,     0.63964,     0.64064,     0.64164,     0.64264,     0.64364,     0.64464,     0.64565,     0.64665,     0.64765,\n",
       "           0.64865,     0.64965,     0.65065,     0.65165,     0.65265,     0.65365,     0.65465,     0.65566,     0.65666,     0.65766,     0.65866,     0.65966,     0.66066,     0.66166,     0.66266,     0.66366,     0.66466,     0.66567,     0.66667,     0.66767,     0.66867,     0.66967,     0.67067,     0.67167,\n",
       "           0.67267,     0.67367,     0.67467,     0.67568,     0.67668,     0.67768,     0.67868,     0.67968,     0.68068,     0.68168,     0.68268,     0.68368,     0.68468,     0.68569,     0.68669,     0.68769,     0.68869,     0.68969,     0.69069,     0.69169,     0.69269,     0.69369,     0.69469,      0.6957,\n",
       "            0.6967,      0.6977,      0.6987,      0.6997,      0.7007,      0.7017,      0.7027,      0.7037,      0.7047,     0.70571,     0.70671,     0.70771,     0.70871,     0.70971,     0.71071,     0.71171,     0.71271,     0.71371,     0.71471,     0.71572,     0.71672,     0.71772,     0.71872,     0.71972,\n",
       "           0.72072,     0.72172,     0.72272,     0.72372,     0.72472,     0.72573,     0.72673,     0.72773,     0.72873,     0.72973,     0.73073,     0.73173,     0.73273,     0.73373,     0.73473,     0.73574,     0.73674,     0.73774,     0.73874,     0.73974,     0.74074,     0.74174,     0.74274,     0.74374,\n",
       "           0.74474,     0.74575,     0.74675,     0.74775,     0.74875,     0.74975,     0.75075,     0.75175,     0.75275,     0.75375,     0.75475,     0.75576,     0.75676,     0.75776,     0.75876,     0.75976,     0.76076,     0.76176,     0.76276,     0.76376,     0.76476,     0.76577,     0.76677,     0.76777,\n",
       "           0.76877,     0.76977,     0.77077,     0.77177,     0.77277,     0.77377,     0.77477,     0.77578,     0.77678,     0.77778,     0.77878,     0.77978,     0.78078,     0.78178,     0.78278,     0.78378,     0.78478,     0.78579,     0.78679,     0.78779,     0.78879,     0.78979,     0.79079,     0.79179,\n",
       "           0.79279,     0.79379,     0.79479,      0.7958,      0.7968,      0.7978,      0.7988,      0.7998,      0.8008,      0.8018,      0.8028,      0.8038,      0.8048,     0.80581,     0.80681,     0.80781,     0.80881,     0.80981,     0.81081,     0.81181,     0.81281,     0.81381,     0.81481,     0.81582,\n",
       "           0.81682,     0.81782,     0.81882,     0.81982,     0.82082,     0.82182,     0.82282,     0.82382,     0.82482,     0.82583,     0.82683,     0.82783,     0.82883,     0.82983,     0.83083,     0.83183,     0.83283,     0.83383,     0.83483,     0.83584,     0.83684,     0.83784,     0.83884,     0.83984,\n",
       "           0.84084,     0.84184,     0.84284,     0.84384,     0.84484,     0.84585,     0.84685,     0.84785,     0.84885,     0.84985,     0.85085,     0.85185,     0.85285,     0.85385,     0.85485,     0.85586,     0.85686,     0.85786,     0.85886,     0.85986,     0.86086,     0.86186,     0.86286,     0.86386,\n",
       "           0.86486,     0.86587,     0.86687,     0.86787,     0.86887,     0.86987,     0.87087,     0.87187,     0.87287,     0.87387,     0.87487,     0.87588,     0.87688,     0.87788,     0.87888,     0.87988,     0.88088,     0.88188,     0.88288,     0.88388,     0.88488,     0.88589,     0.88689,     0.88789,\n",
       "           0.88889,     0.88989,     0.89089,     0.89189,     0.89289,     0.89389,     0.89489,      0.8959,      0.8969,      0.8979,      0.8989,      0.8999,      0.9009,      0.9019,      0.9029,      0.9039,      0.9049,     0.90591,     0.90691,     0.90791,     0.90891,     0.90991,     0.91091,     0.91191,\n",
       "           0.91291,     0.91391,     0.91491,     0.91592,     0.91692,     0.91792,     0.91892,     0.91992,     0.92092,     0.92192,     0.92292,     0.92392,     0.92492,     0.92593,     0.92693,     0.92793,     0.92893,     0.92993,     0.93093,     0.93193,     0.93293,     0.93393,     0.93493,     0.93594,\n",
       "           0.93694,     0.93794,     0.93894,     0.93994,     0.94094,     0.94194,     0.94294,     0.94394,     0.94494,     0.94595,     0.94695,     0.94795,     0.94895,     0.94995,     0.95095,     0.95195,     0.95295,     0.95395,     0.95495,     0.95596,     0.95696,     0.95796,     0.95896,     0.95996,\n",
       "           0.96096,     0.96196,     0.96296,     0.96396,     0.96496,     0.96597,     0.96697,     0.96797,     0.96897,     0.96997,     0.97097,     0.97197,     0.97297,     0.97397,     0.97497,     0.97598,     0.97698,     0.97798,     0.97898,     0.97998,     0.98098,     0.98198,     0.98298,     0.98398,\n",
       "           0.98498,     0.98599,     0.98699,     0.98799,     0.98899,     0.98999,     0.99099,     0.99199,     0.99299,     0.99399,     0.99499,       0.996,       0.997,       0.998,       0.999,           1]), array([[          1,           1,           1,           1,           1,           1,           1,           1,           1,           1,           1,           1,           1,           1,           1,           1,           1,           1,           1,           1,           1,           1,           1,\n",
       "                  1,           1,           1,           1,           1,           1,           1,           1,           1,           1,           1,           1,           1,           1,           1,           1,           1,           1,           1,           1,           1,           1,           1,\n",
       "                  1,           1,           1,           1,           1,           1,           1,           1,           1,           1,           1,           1,           1,           1,           1,           1,           1,           1,           1,           1,           1,           1,           1,\n",
       "                  1,           1,           1,           1,           1,           1,           1,           1,           1,           1,           1,           1,           1,           1,           1,           1,           1,           1,           1,           1,           1,           1,           1,\n",
       "                  1,     0.99894,     0.99894,     0.99894,     0.99894,     0.99894,     0.99894,     0.99894,     0.99894,     0.99894,     0.99894,     0.99894,     0.99894,     0.99894,     0.99894,     0.99894,     0.99894,     0.99894,     0.99894,     0.99894,     0.99894,     0.99894,     0.99894,\n",
       "            0.99894,     0.99894,     0.99894,     0.99894,     0.99894,     0.99894,     0.99894,     0.99894,     0.99894,     0.99894,     0.99894,     0.99894,     0.99894,     0.99894,     0.99894,     0.99894,     0.99894,     0.99894,     0.99894,     0.99894,     0.99894,     0.99894,     0.99894,\n",
       "            0.99894,     0.99894,     0.99894,     0.99894,     0.99894,     0.99894,     0.99894,     0.99894,     0.99894,     0.99894,     0.99894,     0.99894,     0.99894,     0.99894,     0.99894,     0.99894,     0.99894,     0.99894,     0.99894,     0.99894,     0.99894,     0.99894,     0.99894,\n",
       "            0.99894,     0.99894,     0.99894,     0.99894,     0.99894,     0.99894,     0.99894,     0.99894,     0.99894,     0.99894,     0.99894,     0.99894,     0.99894,     0.99894,     0.99894,     0.99894,     0.99894,     0.99894,     0.99894,     0.99894,     0.99894,     0.99894,     0.99894,\n",
       "            0.99894,     0.99894,     0.99894,     0.99894,     0.99894,     0.99894,     0.99894,     0.99894,     0.99894,     0.99894,     0.99894,     0.99894,     0.99894,     0.99894,     0.99894,     0.99894,     0.99894,     0.99894,     0.99894,     0.99894,     0.99894,     0.99894,     0.99894,\n",
       "            0.99894,     0.99894,     0.99894,     0.99894,     0.99894,     0.99894,     0.99894,     0.99894,     0.99894,     0.99894,     0.99894,     0.99894,     0.99894,     0.99894,     0.99894,     0.99894,     0.99894,     0.99894,     0.99894,     0.99894,     0.99894,     0.99894,     0.99894,\n",
       "            0.99894,     0.99894,     0.99894,     0.99894,     0.99894,     0.99894,     0.99894,     0.99894,     0.99894,     0.99894,     0.99894,     0.99894,     0.99894,     0.99894,     0.99894,     0.99894,     0.99894,     0.99894,     0.99894,     0.99894,     0.99894,     0.99894,     0.99894,\n",
       "            0.99894,     0.99894,     0.99894,     0.99894,     0.99894,     0.99894,     0.99894,     0.99894,     0.99894,     0.99894,     0.99894,     0.99894,     0.99894,     0.99894,     0.99894,     0.99894,     0.99894,     0.99894,     0.99894,     0.99894,     0.99894,     0.99894,     0.99894,\n",
       "            0.99894,     0.99894,     0.99894,     0.99894,     0.99894,     0.99894,     0.99894,     0.99894,     0.99894,     0.99894,     0.99894,     0.99894,     0.99894,     0.99894,     0.99894,     0.99894,     0.99894,     0.99894,     0.99894,     0.99894,     0.99894,     0.99894,     0.99894,\n",
       "            0.99894,     0.99894,     0.99894,     0.99894,     0.99894,     0.99894,     0.99894,     0.99894,     0.99894,     0.99894,     0.99894,     0.99894,     0.99894,     0.99894,     0.99894,     0.99894,     0.99894,     0.99894,     0.99894,     0.99894,     0.99894,     0.99894,     0.99894,\n",
       "            0.99894,     0.99894,     0.99894,     0.99894,     0.99894,     0.99894,     0.99894,     0.99894,     0.99894,     0.99894,     0.99894,     0.99894,     0.99894,     0.99894,     0.99894,     0.99894,     0.99894,     0.99894,     0.99894,     0.99894,     0.99894,     0.99894,     0.99894,\n",
       "            0.99894,     0.99894,     0.99811,     0.99811,     0.99811,     0.99811,     0.99811,     0.99811,     0.99811,     0.99811,     0.99811,     0.99811,     0.99811,     0.99811,     0.99811,     0.99811,     0.99811,     0.99811,     0.99811,     0.99811,     0.99811,     0.99811,     0.99811,\n",
       "            0.99811,     0.99811,     0.99811,     0.99811,     0.99811,     0.99811,     0.99811,     0.99811,     0.99811,     0.99811,     0.99811,     0.99811,     0.99811,     0.99811,     0.99811,     0.99811,     0.99811,     0.99811,     0.99811,     0.99811,     0.99725,     0.99725,     0.99725,\n",
       "            0.99725,     0.99725,     0.99725,     0.99725,     0.99725,     0.99725,     0.99725,     0.99725,     0.99725,     0.99669,     0.99669,     0.99669,     0.99669,     0.99669,     0.99669,     0.99669,     0.99669,     0.99669,     0.99669,     0.99669,     0.99669,     0.99669,     0.99669,\n",
       "            0.99669,     0.99669,     0.99669,     0.99669,     0.99669,     0.99669,     0.99669,     0.99669,     0.99669,     0.99669,     0.99669,     0.99669,     0.99669,     0.99669,     0.99669,     0.99669,     0.99669,     0.99669,     0.99669,     0.99669,     0.99669,     0.99669,     0.99669,\n",
       "            0.99669,     0.99669,     0.99669,     0.99669,     0.99669,     0.99669,     0.99624,     0.99624,     0.99624,     0.99624,     0.99624,     0.99624,     0.99624,     0.99624,     0.99624,     0.99624,     0.99624,     0.99624,     0.99624,     0.99624,     0.99624,     0.99624,     0.99624,\n",
       "            0.99624,     0.99624,     0.99624,     0.99624,     0.99624,     0.99624,     0.99624,     0.99624,     0.99624,     0.99624,     0.99624,     0.99624,     0.99624,     0.99624,     0.99624,     0.99624,     0.99624,     0.99624,     0.99624,     0.99624,     0.99624,     0.99624,     0.99624,\n",
       "            0.99624,     0.99624,     0.99624,     0.99624,     0.99624,     0.99624,     0.99583,     0.99583,     0.99583,     0.99583,     0.99583,     0.99583,     0.99583,     0.99583,     0.99583,     0.99583,     0.99583,     0.99583,     0.99583,     0.99583,     0.99583,     0.99583,     0.99583,\n",
       "            0.99583,     0.99583,     0.99583,     0.99583,     0.99583,     0.99583,     0.99583,     0.99583,     0.99583,     0.99583,     0.99583,     0.99583,     0.99583,     0.99583,     0.99583,     0.99583,     0.99583,     0.99583,     0.99583,     0.99583,     0.99583,     0.99583,     0.99552,\n",
       "            0.99552,     0.99552,     0.99552,     0.99552,     0.99552,     0.99552,     0.99552,     0.99552,     0.99552,     0.99552,     0.99552,     0.99552,     0.99552,     0.99552,     0.99552,     0.99552,     0.99552,     0.99552,     0.99552,     0.99552,     0.99552,     0.99552,     0.99552,\n",
       "            0.99552,     0.99552,     0.99552,     0.99552,     0.99552,     0.99552,     0.99552,     0.99552,     0.99552,     0.99552,     0.99552,     0.99552,     0.99552,     0.99552,     0.99552,     0.99552,     0.99552,     0.99552,     0.99552,     0.99552,     0.99552,       0.995,       0.995,\n",
       "              0.995,       0.995,       0.995,       0.995,       0.995,       0.995,       0.995,       0.995,       0.995,       0.995,       0.995,     0.99467,     0.99467,     0.99467,     0.99467,     0.99467,     0.99467,     0.99467,     0.99467,     0.99467,     0.99467,     0.99467,     0.99467,\n",
       "            0.99467,     0.99467,     0.99467,     0.99467,     0.99467,     0.99467,     0.99467,     0.99467,     0.99467,     0.99467,     0.99467,     0.99467,     0.99467,     0.99467,     0.99467,     0.99467,     0.99467,     0.99467,     0.99467,     0.99467,     0.99417,     0.99417,     0.99417,\n",
       "            0.99417,     0.99417,     0.99417,     0.99417,     0.99417,     0.99417,     0.99417,     0.99366,     0.99366,     0.99366,     0.99366,     0.99366,     0.99366,     0.99366,     0.99322,     0.99322,     0.99322,     0.99322,     0.99322,     0.99322,     0.99322,     0.99322,     0.99322,\n",
       "            0.99322,     0.99322,     0.99322,     0.99322,     0.99274,     0.99274,     0.99274,     0.99274,     0.99274,     0.99274,     0.99274,     0.99228,     0.99228,     0.99228,     0.99228,     0.99228,     0.99228,     0.99228,     0.99228,     0.99179,     0.99179,     0.99179,     0.99179,\n",
       "            0.99104,     0.99104,     0.99104,     0.99104,     0.99104,     0.99104,     0.99104,     0.99104,     0.99104,     0.99104,     0.99104,     0.99104,     0.99104,     0.99104,     0.99104,     0.99104,     0.99104,     0.99104,     0.99104,     0.99104,     0.99104,     0.99104,     0.99104,\n",
       "            0.99104,     0.99104,     0.99104,     0.99077,     0.99077,     0.99077,     0.99077,     0.99077,     0.99077,     0.99077,     0.99077,     0.99077,     0.99077,     0.99077,     0.99077,     0.99077,     0.99077,     0.99077,     0.99077,     0.99077,     0.99077,     0.99077,     0.99039,\n",
       "            0.99039,     0.99039,     0.99039,     0.99039,     0.99039,     0.99039,     0.99039,     0.99039,     0.99039,     0.98993,     0.98993,     0.98946,     0.98946,     0.98907,     0.98907,     0.98907,     0.98907,     0.98907,     0.98907,     0.98907,      0.9887,      0.9887,      0.9887,\n",
       "             0.9887,      0.9887,      0.9887,      0.9887,      0.9887,     0.98828,     0.98828,     0.98828,     0.98828,     0.98828,     0.98807,     0.98807,     0.98807,     0.98807,     0.98807,     0.98807,     0.98807,     0.98807,     0.98807,     0.98807,     0.98807,     0.98807,     0.98807,\n",
       "            0.98807,     0.98807,     0.98807,     0.98763,     0.98763,     0.98763,     0.98749,     0.98749,     0.98749,     0.98749,     0.98749,     0.98749,     0.98749,     0.98749,     0.98749,     0.98749,     0.98749,     0.98749,     0.98749,     0.98749,     0.98749,     0.98749,     0.98749,\n",
       "            0.98749,     0.98749,     0.98749,     0.98712,     0.98712,     0.98712,     0.98712,     0.98712,     0.98693,     0.98693,     0.98693,     0.98693,     0.98693,     0.98693,     0.98693,     0.98693,     0.98693,     0.98693,     0.98693,     0.98693,     0.98693,     0.98693,     0.98693,\n",
       "            0.98693,     0.98659,     0.98659,     0.98659,     0.98659,     0.98659,     0.98659,     0.98659,     0.98619,     0.98619,     0.98585,     0.98585,     0.98585,     0.98585,     0.98585,     0.98585,     0.98556,     0.98556,     0.98556,     0.98556,     0.98556,     0.98556,     0.98556,\n",
       "            0.98556,     0.98556,     0.98526,     0.98526,     0.98526,     0.98526,     0.98526,     0.98526,     0.98526,     0.98484,     0.98462,     0.98462,     0.98462,     0.98462,     0.98462,     0.98462,     0.98462,     0.98462,     0.98462,     0.98462,     0.98462,     0.98442,     0.98442,\n",
       "            0.98442,     0.98442,     0.98442,     0.98442,     0.98442,     0.98442,     0.98442,     0.98442,     0.98442,     0.98442,     0.98402,     0.98321,     0.98285,     0.98285,     0.98285,     0.98205,     0.98167,     0.98128,     0.98093,     0.98093,     0.98054,     0.98017,     0.98017,\n",
       "            0.97995,     0.97995,     0.97995,     0.97995,     0.97995,     0.97995,     0.97995,     0.97995,     0.97962,     0.97962,     0.97962,     0.97891,     0.97891,     0.97891,     0.97891,     0.97774,     0.97736,     0.97662,     0.97624,     0.97512,     0.97512,     0.97475,     0.97404,\n",
       "            0.97404,     0.97369,     0.97369,      0.9734,      0.9734,      0.9734,     0.97305,     0.97268,     0.97232,     0.97082,     0.97047,     0.97013,     0.96978,     0.96948,     0.96948,     0.96948,     0.96918,     0.96918,     0.96845,     0.96811,     0.96742,     0.96742,     0.96677,\n",
       "            0.96677,     0.96642,     0.96608,     0.96508,     0.96508,     0.96508,     0.96474,     0.96405,     0.96188,     0.96154,     0.96085,     0.96052,     0.96023,     0.96023,     0.95921,     0.95851,     0.95819,     0.95786,     0.95611,     0.95511,     0.95451,     0.95451,     0.95451,\n",
       "            0.95357,     0.95357,     0.95254,     0.95083,      0.9498,     0.94532,     0.94505,     0.94438,     0.94169,     0.94039,     0.93943,     0.93811,     0.93514,     0.93085,      0.9256,     0.91979,     0.91858,     0.91288,     0.90346,     0.89643,     0.89256,     0.89142,     0.88581,\n",
       "            0.87705,     0.87571,     0.87115,     0.86102,     0.85005,       0.842,     0.83339,     0.82625,     0.81547,     0.81059,     0.80608,     0.80115,     0.79982,     0.77801,     0.76943,     0.75268,     0.74923,     0.72522,     0.71421,     0.70532,     0.62976,     0.50853,      0.4817,\n",
       "            0.42664,     0.37491,     0.31501,     0.27406,      0.2349,     0.19575,      0.1566,     0.11745,    0.078301,    0.039151,           0]]), 'Recall', 'Precision'], [array([          0,    0.001001,    0.002002,    0.003003,    0.004004,    0.005005,    0.006006,    0.007007,    0.008008,    0.009009,     0.01001,    0.011011,    0.012012,    0.013013,    0.014014,    0.015015,    0.016016,    0.017017,    0.018018,    0.019019,     0.02002,    0.021021,    0.022022,    0.023023,\n",
       "          0.024024,    0.025025,    0.026026,    0.027027,    0.028028,    0.029029,     0.03003,    0.031031,    0.032032,    0.033033,    0.034034,    0.035035,    0.036036,    0.037037,    0.038038,    0.039039,     0.04004,    0.041041,    0.042042,    0.043043,    0.044044,    0.045045,    0.046046,    0.047047,\n",
       "          0.048048,    0.049049,     0.05005,    0.051051,    0.052052,    0.053053,    0.054054,    0.055055,    0.056056,    0.057057,    0.058058,    0.059059,     0.06006,    0.061061,    0.062062,    0.063063,    0.064064,    0.065065,    0.066066,    0.067067,    0.068068,    0.069069,     0.07007,    0.071071,\n",
       "          0.072072,    0.073073,    0.074074,    0.075075,    0.076076,    0.077077,    0.078078,    0.079079,     0.08008,    0.081081,    0.082082,    0.083083,    0.084084,    0.085085,    0.086086,    0.087087,    0.088088,    0.089089,     0.09009,    0.091091,    0.092092,    0.093093,    0.094094,    0.095095,\n",
       "          0.096096,    0.097097,    0.098098,    0.099099,      0.1001,      0.1011,      0.1021,      0.1031,      0.1041,     0.10511,     0.10611,     0.10711,     0.10811,     0.10911,     0.11011,     0.11111,     0.11211,     0.11311,     0.11411,     0.11512,     0.11612,     0.11712,     0.11812,     0.11912,\n",
       "           0.12012,     0.12112,     0.12212,     0.12312,     0.12412,     0.12513,     0.12613,     0.12713,     0.12813,     0.12913,     0.13013,     0.13113,     0.13213,     0.13313,     0.13413,     0.13514,     0.13614,     0.13714,     0.13814,     0.13914,     0.14014,     0.14114,     0.14214,     0.14314,\n",
       "           0.14414,     0.14515,     0.14615,     0.14715,     0.14815,     0.14915,     0.15015,     0.15115,     0.15215,     0.15315,     0.15415,     0.15516,     0.15616,     0.15716,     0.15816,     0.15916,     0.16016,     0.16116,     0.16216,     0.16316,     0.16416,     0.16517,     0.16617,     0.16717,\n",
       "           0.16817,     0.16917,     0.17017,     0.17117,     0.17217,     0.17317,     0.17417,     0.17518,     0.17618,     0.17718,     0.17818,     0.17918,     0.18018,     0.18118,     0.18218,     0.18318,     0.18418,     0.18519,     0.18619,     0.18719,     0.18819,     0.18919,     0.19019,     0.19119,\n",
       "           0.19219,     0.19319,     0.19419,      0.1952,      0.1962,      0.1972,      0.1982,      0.1992,      0.2002,      0.2012,      0.2022,      0.2032,      0.2042,     0.20521,     0.20621,     0.20721,     0.20821,     0.20921,     0.21021,     0.21121,     0.21221,     0.21321,     0.21421,     0.21522,\n",
       "           0.21622,     0.21722,     0.21822,     0.21922,     0.22022,     0.22122,     0.22222,     0.22322,     0.22422,     0.22523,     0.22623,     0.22723,     0.22823,     0.22923,     0.23023,     0.23123,     0.23223,     0.23323,     0.23423,     0.23524,     0.23624,     0.23724,     0.23824,     0.23924,\n",
       "           0.24024,     0.24124,     0.24224,     0.24324,     0.24424,     0.24525,     0.24625,     0.24725,     0.24825,     0.24925,     0.25025,     0.25125,     0.25225,     0.25325,     0.25425,     0.25526,     0.25626,     0.25726,     0.25826,     0.25926,     0.26026,     0.26126,     0.26226,     0.26326,\n",
       "           0.26426,     0.26527,     0.26627,     0.26727,     0.26827,     0.26927,     0.27027,     0.27127,     0.27227,     0.27327,     0.27427,     0.27528,     0.27628,     0.27728,     0.27828,     0.27928,     0.28028,     0.28128,     0.28228,     0.28328,     0.28428,     0.28529,     0.28629,     0.28729,\n",
       "           0.28829,     0.28929,     0.29029,     0.29129,     0.29229,     0.29329,     0.29429,      0.2953,      0.2963,      0.2973,      0.2983,      0.2993,      0.3003,      0.3013,      0.3023,      0.3033,      0.3043,     0.30531,     0.30631,     0.30731,     0.30831,     0.30931,     0.31031,     0.31131,\n",
       "           0.31231,     0.31331,     0.31431,     0.31532,     0.31632,     0.31732,     0.31832,     0.31932,     0.32032,     0.32132,     0.32232,     0.32332,     0.32432,     0.32533,     0.32633,     0.32733,     0.32833,     0.32933,     0.33033,     0.33133,     0.33233,     0.33333,     0.33433,     0.33534,\n",
       "           0.33634,     0.33734,     0.33834,     0.33934,     0.34034,     0.34134,     0.34234,     0.34334,     0.34434,     0.34535,     0.34635,     0.34735,     0.34835,     0.34935,     0.35035,     0.35135,     0.35235,     0.35335,     0.35435,     0.35536,     0.35636,     0.35736,     0.35836,     0.35936,\n",
       "           0.36036,     0.36136,     0.36236,     0.36336,     0.36436,     0.36537,     0.36637,     0.36737,     0.36837,     0.36937,     0.37037,     0.37137,     0.37237,     0.37337,     0.37437,     0.37538,     0.37638,     0.37738,     0.37838,     0.37938,     0.38038,     0.38138,     0.38238,     0.38338,\n",
       "           0.38438,     0.38539,     0.38639,     0.38739,     0.38839,     0.38939,     0.39039,     0.39139,     0.39239,     0.39339,     0.39439,      0.3954,      0.3964,      0.3974,      0.3984,      0.3994,      0.4004,      0.4014,      0.4024,      0.4034,      0.4044,     0.40541,     0.40641,     0.40741,\n",
       "           0.40841,     0.40941,     0.41041,     0.41141,     0.41241,     0.41341,     0.41441,     0.41542,     0.41642,     0.41742,     0.41842,     0.41942,     0.42042,     0.42142,     0.42242,     0.42342,     0.42442,     0.42543,     0.42643,     0.42743,     0.42843,     0.42943,     0.43043,     0.43143,\n",
       "           0.43243,     0.43343,     0.43443,     0.43544,     0.43644,     0.43744,     0.43844,     0.43944,     0.44044,     0.44144,     0.44244,     0.44344,     0.44444,     0.44545,     0.44645,     0.44745,     0.44845,     0.44945,     0.45045,     0.45145,     0.45245,     0.45345,     0.45445,     0.45546,\n",
       "           0.45646,     0.45746,     0.45846,     0.45946,     0.46046,     0.46146,     0.46246,     0.46346,     0.46446,     0.46547,     0.46647,     0.46747,     0.46847,     0.46947,     0.47047,     0.47147,     0.47247,     0.47347,     0.47447,     0.47548,     0.47648,     0.47748,     0.47848,     0.47948,\n",
       "           0.48048,     0.48148,     0.48248,     0.48348,     0.48448,     0.48549,     0.48649,     0.48749,     0.48849,     0.48949,     0.49049,     0.49149,     0.49249,     0.49349,     0.49449,      0.4955,      0.4965,      0.4975,      0.4985,      0.4995,      0.5005,      0.5015,      0.5025,      0.5035,\n",
       "            0.5045,     0.50551,     0.50651,     0.50751,     0.50851,     0.50951,     0.51051,     0.51151,     0.51251,     0.51351,     0.51451,     0.51552,     0.51652,     0.51752,     0.51852,     0.51952,     0.52052,     0.52152,     0.52252,     0.52352,     0.52452,     0.52553,     0.52653,     0.52753,\n",
       "           0.52853,     0.52953,     0.53053,     0.53153,     0.53253,     0.53353,     0.53453,     0.53554,     0.53654,     0.53754,     0.53854,     0.53954,     0.54054,     0.54154,     0.54254,     0.54354,     0.54454,     0.54555,     0.54655,     0.54755,     0.54855,     0.54955,     0.55055,     0.55155,\n",
       "           0.55255,     0.55355,     0.55455,     0.55556,     0.55656,     0.55756,     0.55856,     0.55956,     0.56056,     0.56156,     0.56256,     0.56356,     0.56456,     0.56557,     0.56657,     0.56757,     0.56857,     0.56957,     0.57057,     0.57157,     0.57257,     0.57357,     0.57457,     0.57558,\n",
       "           0.57658,     0.57758,     0.57858,     0.57958,     0.58058,     0.58158,     0.58258,     0.58358,     0.58458,     0.58559,     0.58659,     0.58759,     0.58859,     0.58959,     0.59059,     0.59159,     0.59259,     0.59359,     0.59459,      0.5956,      0.5966,      0.5976,      0.5986,      0.5996,\n",
       "            0.6006,      0.6016,      0.6026,      0.6036,      0.6046,     0.60561,     0.60661,     0.60761,     0.60861,     0.60961,     0.61061,     0.61161,     0.61261,     0.61361,     0.61461,     0.61562,     0.61662,     0.61762,     0.61862,     0.61962,     0.62062,     0.62162,     0.62262,     0.62362,\n",
       "           0.62462,     0.62563,     0.62663,     0.62763,     0.62863,     0.62963,     0.63063,     0.63163,     0.63263,     0.63363,     0.63463,     0.63564,     0.63664,     0.63764,     0.63864,     0.63964,     0.64064,     0.64164,     0.64264,     0.64364,     0.64464,     0.64565,     0.64665,     0.64765,\n",
       "           0.64865,     0.64965,     0.65065,     0.65165,     0.65265,     0.65365,     0.65465,     0.65566,     0.65666,     0.65766,     0.65866,     0.65966,     0.66066,     0.66166,     0.66266,     0.66366,     0.66466,     0.66567,     0.66667,     0.66767,     0.66867,     0.66967,     0.67067,     0.67167,\n",
       "           0.67267,     0.67367,     0.67467,     0.67568,     0.67668,     0.67768,     0.67868,     0.67968,     0.68068,     0.68168,     0.68268,     0.68368,     0.68468,     0.68569,     0.68669,     0.68769,     0.68869,     0.68969,     0.69069,     0.69169,     0.69269,     0.69369,     0.69469,      0.6957,\n",
       "            0.6967,      0.6977,      0.6987,      0.6997,      0.7007,      0.7017,      0.7027,      0.7037,      0.7047,     0.70571,     0.70671,     0.70771,     0.70871,     0.70971,     0.71071,     0.71171,     0.71271,     0.71371,     0.71471,     0.71572,     0.71672,     0.71772,     0.71872,     0.71972,\n",
       "           0.72072,     0.72172,     0.72272,     0.72372,     0.72472,     0.72573,     0.72673,     0.72773,     0.72873,     0.72973,     0.73073,     0.73173,     0.73273,     0.73373,     0.73473,     0.73574,     0.73674,     0.73774,     0.73874,     0.73974,     0.74074,     0.74174,     0.74274,     0.74374,\n",
       "           0.74474,     0.74575,     0.74675,     0.74775,     0.74875,     0.74975,     0.75075,     0.75175,     0.75275,     0.75375,     0.75475,     0.75576,     0.75676,     0.75776,     0.75876,     0.75976,     0.76076,     0.76176,     0.76276,     0.76376,     0.76476,     0.76577,     0.76677,     0.76777,\n",
       "           0.76877,     0.76977,     0.77077,     0.77177,     0.77277,     0.77377,     0.77477,     0.77578,     0.77678,     0.77778,     0.77878,     0.77978,     0.78078,     0.78178,     0.78278,     0.78378,     0.78478,     0.78579,     0.78679,     0.78779,     0.78879,     0.78979,     0.79079,     0.79179,\n",
       "           0.79279,     0.79379,     0.79479,      0.7958,      0.7968,      0.7978,      0.7988,      0.7998,      0.8008,      0.8018,      0.8028,      0.8038,      0.8048,     0.80581,     0.80681,     0.80781,     0.80881,     0.80981,     0.81081,     0.81181,     0.81281,     0.81381,     0.81481,     0.81582,\n",
       "           0.81682,     0.81782,     0.81882,     0.81982,     0.82082,     0.82182,     0.82282,     0.82382,     0.82482,     0.82583,     0.82683,     0.82783,     0.82883,     0.82983,     0.83083,     0.83183,     0.83283,     0.83383,     0.83483,     0.83584,     0.83684,     0.83784,     0.83884,     0.83984,\n",
       "           0.84084,     0.84184,     0.84284,     0.84384,     0.84484,     0.84585,     0.84685,     0.84785,     0.84885,     0.84985,     0.85085,     0.85185,     0.85285,     0.85385,     0.85485,     0.85586,     0.85686,     0.85786,     0.85886,     0.85986,     0.86086,     0.86186,     0.86286,     0.86386,\n",
       "           0.86486,     0.86587,     0.86687,     0.86787,     0.86887,     0.86987,     0.87087,     0.87187,     0.87287,     0.87387,     0.87487,     0.87588,     0.87688,     0.87788,     0.87888,     0.87988,     0.88088,     0.88188,     0.88288,     0.88388,     0.88488,     0.88589,     0.88689,     0.88789,\n",
       "           0.88889,     0.88989,     0.89089,     0.89189,     0.89289,     0.89389,     0.89489,      0.8959,      0.8969,      0.8979,      0.8989,      0.8999,      0.9009,      0.9019,      0.9029,      0.9039,      0.9049,     0.90591,     0.90691,     0.90791,     0.90891,     0.90991,     0.91091,     0.91191,\n",
       "           0.91291,     0.91391,     0.91491,     0.91592,     0.91692,     0.91792,     0.91892,     0.91992,     0.92092,     0.92192,     0.92292,     0.92392,     0.92492,     0.92593,     0.92693,     0.92793,     0.92893,     0.92993,     0.93093,     0.93193,     0.93293,     0.93393,     0.93493,     0.93594,\n",
       "           0.93694,     0.93794,     0.93894,     0.93994,     0.94094,     0.94194,     0.94294,     0.94394,     0.94494,     0.94595,     0.94695,     0.94795,     0.94895,     0.94995,     0.95095,     0.95195,     0.95295,     0.95395,     0.95495,     0.95596,     0.95696,     0.95796,     0.95896,     0.95996,\n",
       "           0.96096,     0.96196,     0.96296,     0.96396,     0.96496,     0.96597,     0.96697,     0.96797,     0.96897,     0.96997,     0.97097,     0.97197,     0.97297,     0.97397,     0.97497,     0.97598,     0.97698,     0.97798,     0.97898,     0.97998,     0.98098,     0.98198,     0.98298,     0.98398,\n",
       "           0.98498,     0.98599,     0.98699,     0.98799,     0.98899,     0.98999,     0.99099,     0.99199,     0.99299,     0.99399,     0.99499,       0.996,       0.997,       0.998,       0.999,           1]), array([[    0.44673,     0.44673,     0.53492,     0.58292,      0.6186,     0.64344,     0.66362,     0.68053,     0.69529,      0.7085,      0.7185,     0.72772,      0.7385,      0.7456,     0.75106,     0.75657,     0.76269,     0.76779,     0.77214,     0.77749,     0.78195,       0.786,      0.7903,\n",
       "            0.79365,     0.79711,      0.8004,     0.80284,     0.80618,     0.81056,     0.81334,     0.81632,     0.81886,     0.82126,     0.82232,      0.8236,     0.82627,     0.82803,     0.83036,     0.83211,       0.834,     0.83498,     0.83651,     0.83827,     0.84056,     0.84203,     0.84416,\n",
       "            0.84517,     0.84677,     0.84823,     0.84955,     0.85038,     0.85146,     0.85295,     0.85434,     0.85696,     0.85845,     0.85902,     0.86018,      0.8612,     0.86237,     0.86371,     0.86487,     0.86572,     0.86717,     0.86771,     0.86835,     0.86964,     0.87037,     0.87181,\n",
       "             0.8726,     0.87331,     0.87392,     0.87506,     0.87555,     0.87652,     0.87792,     0.87818,     0.87972,     0.88064,     0.88133,     0.88242,     0.88304,     0.88323,     0.88346,     0.88446,     0.88559,     0.88568,     0.88557,     0.88586,     0.88606,     0.88677,     0.88715,\n",
       "            0.88745,     0.88821,     0.88885,     0.88944,     0.89035,     0.89121,     0.89132,     0.89196,     0.89232,     0.89265,     0.89288,     0.89343,     0.89399,     0.89398,     0.89407,     0.89417,     0.89438,     0.89528,     0.89548,     0.89575,     0.89597,     0.89664,     0.89732,\n",
       "            0.89764,     0.89772,     0.89825,     0.89847,     0.89838,     0.89875,     0.89921,     0.89937,     0.89984,     0.90023,      0.9005,     0.90117,     0.90176,     0.90233,     0.90219,     0.90272,     0.90321,     0.90372,     0.90454,     0.90498,     0.90537,     0.90631,     0.90648,\n",
       "            0.90665,     0.90694,     0.90742,     0.90777,      0.9081,     0.90889,     0.90934,     0.90954,     0.90962,     0.90971,     0.90983,     0.91016,      0.9108,     0.91128,     0.91189,     0.91204,     0.91234,     0.91281,     0.91326,     0.91374,     0.91384,     0.91404,     0.91464,\n",
       "            0.91504,     0.91514,     0.91534,     0.91544,     0.91567,     0.91644,     0.91654,     0.91652,     0.91693,     0.91697,     0.91705,     0.91735,     0.91736,     0.91753,     0.91798,      0.9183,     0.91839,     0.91915,     0.91942,     0.91961,     0.91952,     0.91915,     0.91924,\n",
       "            0.91976,     0.91983,     0.92013,     0.92031,     0.92044,      0.9206,     0.92138,     0.92213,     0.92244,     0.92299,     0.92299,     0.92319,     0.92389,     0.92403,     0.92419,     0.92405,      0.9241,     0.92416,     0.92422,     0.92431,     0.92439,     0.92448,     0.92466,\n",
       "              0.925,     0.92509,      0.9254,     0.92556,      0.9259,     0.92612,     0.92624,     0.92669,     0.92686,     0.92693,     0.92701,      0.9269,     0.92666,     0.92717,     0.92775,     0.92815,     0.92856,     0.92895,       0.929,     0.92889,     0.92902,     0.92938,      0.9295,\n",
       "            0.93003,     0.93011,     0.93019,     0.93039,     0.93051,     0.93054,     0.93093,     0.93151,     0.93162,     0.93168,     0.93189,     0.93201,     0.93213,     0.93236,     0.93259,     0.93267,     0.93272,     0.93278,     0.93319,     0.93327,     0.93349,     0.93353,     0.93358,\n",
       "            0.93397,     0.93454,     0.93493,     0.93539,     0.93573,     0.93621,     0.93641,     0.93639,     0.93662,     0.93668,     0.93675,     0.93702,     0.93715,     0.93757,     0.93744,      0.9375,     0.93757,     0.93781,     0.93788,     0.93801,     0.93837,     0.93858,     0.93861,\n",
       "            0.93872,      0.9388,      0.9389,     0.93874,     0.93886,     0.93874,     0.93879,     0.93894,     0.93907,     0.93917,     0.93939,     0.93959,     0.93996,     0.94019,      0.9403,     0.94039,     0.94046,     0.94053,     0.94073,     0.94094,     0.94114,     0.94129,     0.94139,\n",
       "            0.94123,     0.94143,     0.94146,     0.94135,     0.94137,     0.94142,     0.94148,     0.94137,     0.94147,     0.94202,     0.94221,     0.94242,     0.94256,     0.94302,     0.94308,     0.94314,     0.94327,     0.94359,     0.94369,     0.94376,     0.94382,      0.9438,     0.94411,\n",
       "            0.94432,     0.94468,     0.94486,     0.94504,     0.94543,     0.94542,     0.94555,     0.94562,     0.94568,     0.94557,     0.94556,     0.94555,     0.94551,     0.94557,     0.94563,      0.9459,     0.94621,     0.94641,     0.94626,     0.94614,     0.94643,     0.94665,     0.94679,\n",
       "            0.94665,     0.94671,     0.94655,     0.94644,     0.94653,     0.94656,     0.94674,     0.94672,     0.94682,     0.94682,     0.94677,     0.94679,     0.94689,     0.94696,     0.94702,     0.94737,      0.9473,     0.94722,     0.94721,     0.94731,     0.94727,     0.94762,     0.94763,\n",
       "            0.94756,     0.94749,     0.94781,     0.94771,     0.94758,     0.94736,     0.94719,     0.94709,     0.94717,      0.9472,     0.94756,     0.94765,     0.94774,     0.94824,     0.94818,     0.94811,      0.9483,     0.94844,     0.94851,     0.94857,     0.94845,     0.94847,     0.94857,\n",
       "            0.94873,     0.94879,     0.94885,     0.94893,     0.94914,     0.94898,      0.9489,     0.94899,     0.94912,     0.94908,     0.94951,     0.94939,     0.94919,     0.94949,     0.94967,     0.94951,     0.94928,     0.94918,     0.94867,     0.94847,     0.94852,     0.94861,     0.94842,\n",
       "            0.94831,     0.94795,     0.94775,     0.94761,     0.94779,     0.94777,     0.94767,      0.9473,     0.94739,     0.94744,     0.94751,     0.94759,     0.94771,     0.94758,     0.94774,     0.94783,     0.94775,     0.94782,     0.94751,      0.9476,     0.94743,     0.94731,     0.94713,\n",
       "            0.94722,     0.94712,     0.94721,     0.94737,     0.94706,     0.94646,     0.94657,     0.94679,     0.94658,     0.94599,     0.94614,     0.94584,     0.94593,     0.94561,      0.9453,     0.94546,     0.94509,     0.94515,     0.94522,     0.94533,     0.94587,     0.94605,     0.94585,\n",
       "            0.94565,     0.94565,     0.94562,     0.94558,     0.94567,     0.94545,     0.94534,     0.94502,     0.94492,     0.94435,     0.94415,     0.94397,     0.94406,     0.94395,     0.94404,     0.94399,     0.94383,     0.94363,     0.94379,      0.9436,      0.9428,     0.94269,     0.94234,\n",
       "            0.94215,     0.94208,     0.94201,     0.94198,      0.9421,     0.94189,     0.94179,     0.94131,      0.9414,     0.94129,     0.94138,     0.94081,      0.9407,      0.9404,      0.9403,     0.94028,     0.94037,     0.93996,     0.93986,     0.93915,     0.93908,     0.93901,     0.93886,\n",
       "            0.93842,     0.93828,     0.93778,     0.93786,     0.93763,     0.93752,     0.93773,     0.93782,     0.93764,     0.93761,     0.93754,      0.9375,     0.93743,     0.93736,     0.93693,     0.93686,     0.93679,      0.9361,     0.93568,     0.93526,     0.93516,     0.93482,     0.93472,\n",
       "             0.9342,      0.9341,     0.93396,     0.93376,     0.93373,     0.93363,     0.93305,     0.93284,     0.93265,     0.93254,     0.93225,     0.93234,     0.93184,      0.9318,     0.93161,      0.9318,      0.9315,     0.93129,     0.93025,     0.93004,     0.93001,     0.92998,     0.92922,\n",
       "            0.92912,     0.92848,     0.92827,     0.92722,     0.92659,      0.9254,      0.9246,     0.92396,     0.92308,     0.92298,     0.92112,     0.92101,     0.92081,     0.92077,     0.92055,     0.92064,     0.92038,     0.92027,     0.91932,      0.9192,     0.91761,     0.91718,     0.91632,\n",
       "            0.91589,      0.9146,     0.91438,     0.91266,     0.91244,       0.911,     0.91024,     0.91009,     0.90925,     0.90881,     0.90736,     0.90725,     0.90649,     0.90637,     0.90539,     0.90523,     0.90413,     0.90369,      0.9008,     0.90057,     0.90019,     0.89869,     0.89824,\n",
       "            0.89718,     0.89707,     0.89552,     0.89463,      0.8929,     0.89279,     0.89144,     0.89147,     0.88892,     0.88697,     0.88686,     0.88516,     0.88504,     0.88243,     0.88231,     0.87991,     0.87979,     0.87798,     0.87765,     0.87555,     0.87532,     0.87225,     0.86922,\n",
       "            0.86875,     0.86757,     0.86733,     0.86425,     0.86368,     0.86203,     0.86173,     0.86048,        0.86,     0.85857,     0.85713,     0.85366,     0.85197,       0.851,     0.84779,     0.84754,     0.84566,     0.84491,      0.8432,     0.84043,     0.84018,     0.83665,     0.83645,\n",
       "            0.83439,     0.83364,     0.83213,     0.83038,     0.82678,     0.82413,     0.82361,     0.82107,     0.82081,     0.81893,     0.81786,     0.81581,     0.81521,      0.8134,     0.81016,     0.80912,     0.80703,     0.80676,     0.80323,     0.80059,     0.80032,     0.79765,     0.79718,\n",
       "            0.79523,     0.79486,     0.79192,     0.78927,     0.78873,     0.78576,      0.7843,     0.78117,     0.78089,     0.77733,     0.77351,     0.77295,     0.77007,      0.7663,     0.76545,      0.7632,     0.76289,     0.75928,     0.75899,     0.75586,     0.75201,     0.75171,     0.74733,\n",
       "            0.74696,     0.74493,     0.74377,     0.73779,     0.73326,     0.73284,     0.73043,     0.72984,      0.7276,     0.72568,     0.72073,     0.71891,     0.71647,     0.71512,     0.71268,     0.70732,     0.70577,     0.70138,     0.69849,      0.6963,     0.69048,     0.69001,     0.68706,\n",
       "            0.68477,     0.68221,     0.67531,     0.67322,     0.66929,      0.6657,     0.66158,     0.65794,     0.65228,     0.64957,     0.64673,     0.64436,     0.64045,     0.63527,     0.63206,     0.62635,     0.62355,     0.62136,     0.61847,      0.6137,     0.61231,     0.60763,     0.60512,\n",
       "            0.60134,     0.59865,     0.59463,      0.5875,      0.5803,     0.57805,     0.57638,     0.57338,      0.5692,     0.56725,     0.56218,     0.55678,     0.55323,     0.55002,     0.54438,     0.54073,     0.53592,     0.53176,     0.52722,     0.52315,     0.51515,     0.51154,     0.50647,\n",
       "            0.50619,     0.49832,      0.4977,     0.49415,     0.48823,     0.48361,     0.47929,       0.477,     0.46905,     0.46548,     0.45684,     0.45275,     0.44911,     0.44398,     0.44203,     0.43183,     0.42801,     0.42567,     0.42064,     0.41646,     0.40763,     0.40198,     0.39845,\n",
       "            0.39009,      0.3846,     0.37705,      0.3754,     0.37067,     0.36658,      0.3593,     0.35766,     0.35028,     0.34562,     0.33709,     0.33546,     0.32885,     0.32465,     0.31793,     0.31238,     0.31055,      0.3018,     0.29243,     0.28271,     0.27997,     0.27335,     0.27036,\n",
       "            0.26001,     0.24942,     0.24534,     0.24076,     0.23773,     0.23428,     0.22764,     0.22221,     0.21458,      0.2077,     0.20449,     0.19606,     0.18962,     0.18337,     0.17357,     0.16496,     0.16057,     0.15428,     0.14803,      0.1476,     0.14155,     0.13428,     0.12474,\n",
       "            0.11891,     0.11626,      0.1123,     0.10528,     0.10483,      0.1023,     0.10086,    0.095578,    0.088786,    0.083031,    0.078624,    0.073472,     0.07003,    0.064821,    0.061725,    0.057132,    0.051952,    0.048082,    0.044427,    0.040863,    0.040093,     0.03725,    0.034564,\n",
       "           0.033835,    0.032391,    0.031413,    0.029498,    0.028049,    0.026748,     0.02638,    0.024406,    0.020786,    0.018601,    0.017267,    0.016755,     0.01456,    0.013816,    0.013071,    0.010013,   0.0070543,   0.0050129,    0.004825,    0.004637,    0.004449,   0.0040097,   0.0026885,\n",
       "           0.002026,   0.0015233,   0.0013597,    0.001234,   0.0011082,  0.00098245,  0.00085667,           0,           0,           0,           0,           0,           0,           0,           0,           0,           0,           0,           0,           0,           0,           0,           0,\n",
       "                  0,           0,           0,           0,           0,           0,           0,           0,           0,           0,           0,           0,           0,           0,           0,           0,           0,           0,           0,           0,           0,           0,           0,\n",
       "                  0,           0,           0,           0,           0,           0,           0,           0,           0,           0,           0,           0,           0,           0,           0,           0,           0,           0,           0,           0,           0,           0,           0,\n",
       "                  0,           0,           0,           0,           0,           0,           0,           0,           0,           0,           0,           0,           0,           0,           0,           0,           0,           0,           0,           0,           0,           0,           0,\n",
       "                  0,           0,           0,           0,           0,           0,           0,           0,           0,           0,           0,           0,           0,           0,           0,           0,           0,           0,           0,           0,           0,           0,           0,\n",
       "                  0,           0,           0,           0,           0,           0,           0,           0,           0,           0,           0]]), 'Confidence', 'F1'], [array([          0,    0.001001,    0.002002,    0.003003,    0.004004,    0.005005,    0.006006,    0.007007,    0.008008,    0.009009,     0.01001,    0.011011,    0.012012,    0.013013,    0.014014,    0.015015,    0.016016,    0.017017,    0.018018,    0.019019,     0.02002,    0.021021,    0.022022,    0.023023,\n",
       "          0.024024,    0.025025,    0.026026,    0.027027,    0.028028,    0.029029,     0.03003,    0.031031,    0.032032,    0.033033,    0.034034,    0.035035,    0.036036,    0.037037,    0.038038,    0.039039,     0.04004,    0.041041,    0.042042,    0.043043,    0.044044,    0.045045,    0.046046,    0.047047,\n",
       "          0.048048,    0.049049,     0.05005,    0.051051,    0.052052,    0.053053,    0.054054,    0.055055,    0.056056,    0.057057,    0.058058,    0.059059,     0.06006,    0.061061,    0.062062,    0.063063,    0.064064,    0.065065,    0.066066,    0.067067,    0.068068,    0.069069,     0.07007,    0.071071,\n",
       "          0.072072,    0.073073,    0.074074,    0.075075,    0.076076,    0.077077,    0.078078,    0.079079,     0.08008,    0.081081,    0.082082,    0.083083,    0.084084,    0.085085,    0.086086,    0.087087,    0.088088,    0.089089,     0.09009,    0.091091,    0.092092,    0.093093,    0.094094,    0.095095,\n",
       "          0.096096,    0.097097,    0.098098,    0.099099,      0.1001,      0.1011,      0.1021,      0.1031,      0.1041,     0.10511,     0.10611,     0.10711,     0.10811,     0.10911,     0.11011,     0.11111,     0.11211,     0.11311,     0.11411,     0.11512,     0.11612,     0.11712,     0.11812,     0.11912,\n",
       "           0.12012,     0.12112,     0.12212,     0.12312,     0.12412,     0.12513,     0.12613,     0.12713,     0.12813,     0.12913,     0.13013,     0.13113,     0.13213,     0.13313,     0.13413,     0.13514,     0.13614,     0.13714,     0.13814,     0.13914,     0.14014,     0.14114,     0.14214,     0.14314,\n",
       "           0.14414,     0.14515,     0.14615,     0.14715,     0.14815,     0.14915,     0.15015,     0.15115,     0.15215,     0.15315,     0.15415,     0.15516,     0.15616,     0.15716,     0.15816,     0.15916,     0.16016,     0.16116,     0.16216,     0.16316,     0.16416,     0.16517,     0.16617,     0.16717,\n",
       "           0.16817,     0.16917,     0.17017,     0.17117,     0.17217,     0.17317,     0.17417,     0.17518,     0.17618,     0.17718,     0.17818,     0.17918,     0.18018,     0.18118,     0.18218,     0.18318,     0.18418,     0.18519,     0.18619,     0.18719,     0.18819,     0.18919,     0.19019,     0.19119,\n",
       "           0.19219,     0.19319,     0.19419,      0.1952,      0.1962,      0.1972,      0.1982,      0.1992,      0.2002,      0.2012,      0.2022,      0.2032,      0.2042,     0.20521,     0.20621,     0.20721,     0.20821,     0.20921,     0.21021,     0.21121,     0.21221,     0.21321,     0.21421,     0.21522,\n",
       "           0.21622,     0.21722,     0.21822,     0.21922,     0.22022,     0.22122,     0.22222,     0.22322,     0.22422,     0.22523,     0.22623,     0.22723,     0.22823,     0.22923,     0.23023,     0.23123,     0.23223,     0.23323,     0.23423,     0.23524,     0.23624,     0.23724,     0.23824,     0.23924,\n",
       "           0.24024,     0.24124,     0.24224,     0.24324,     0.24424,     0.24525,     0.24625,     0.24725,     0.24825,     0.24925,     0.25025,     0.25125,     0.25225,     0.25325,     0.25425,     0.25526,     0.25626,     0.25726,     0.25826,     0.25926,     0.26026,     0.26126,     0.26226,     0.26326,\n",
       "           0.26426,     0.26527,     0.26627,     0.26727,     0.26827,     0.26927,     0.27027,     0.27127,     0.27227,     0.27327,     0.27427,     0.27528,     0.27628,     0.27728,     0.27828,     0.27928,     0.28028,     0.28128,     0.28228,     0.28328,     0.28428,     0.28529,     0.28629,     0.28729,\n",
       "           0.28829,     0.28929,     0.29029,     0.29129,     0.29229,     0.29329,     0.29429,      0.2953,      0.2963,      0.2973,      0.2983,      0.2993,      0.3003,      0.3013,      0.3023,      0.3033,      0.3043,     0.30531,     0.30631,     0.30731,     0.30831,     0.30931,     0.31031,     0.31131,\n",
       "           0.31231,     0.31331,     0.31431,     0.31532,     0.31632,     0.31732,     0.31832,     0.31932,     0.32032,     0.32132,     0.32232,     0.32332,     0.32432,     0.32533,     0.32633,     0.32733,     0.32833,     0.32933,     0.33033,     0.33133,     0.33233,     0.33333,     0.33433,     0.33534,\n",
       "           0.33634,     0.33734,     0.33834,     0.33934,     0.34034,     0.34134,     0.34234,     0.34334,     0.34434,     0.34535,     0.34635,     0.34735,     0.34835,     0.34935,     0.35035,     0.35135,     0.35235,     0.35335,     0.35435,     0.35536,     0.35636,     0.35736,     0.35836,     0.35936,\n",
       "           0.36036,     0.36136,     0.36236,     0.36336,     0.36436,     0.36537,     0.36637,     0.36737,     0.36837,     0.36937,     0.37037,     0.37137,     0.37237,     0.37337,     0.37437,     0.37538,     0.37638,     0.37738,     0.37838,     0.37938,     0.38038,     0.38138,     0.38238,     0.38338,\n",
       "           0.38438,     0.38539,     0.38639,     0.38739,     0.38839,     0.38939,     0.39039,     0.39139,     0.39239,     0.39339,     0.39439,      0.3954,      0.3964,      0.3974,      0.3984,      0.3994,      0.4004,      0.4014,      0.4024,      0.4034,      0.4044,     0.40541,     0.40641,     0.40741,\n",
       "           0.40841,     0.40941,     0.41041,     0.41141,     0.41241,     0.41341,     0.41441,     0.41542,     0.41642,     0.41742,     0.41842,     0.41942,     0.42042,     0.42142,     0.42242,     0.42342,     0.42442,     0.42543,     0.42643,     0.42743,     0.42843,     0.42943,     0.43043,     0.43143,\n",
       "           0.43243,     0.43343,     0.43443,     0.43544,     0.43644,     0.43744,     0.43844,     0.43944,     0.44044,     0.44144,     0.44244,     0.44344,     0.44444,     0.44545,     0.44645,     0.44745,     0.44845,     0.44945,     0.45045,     0.45145,     0.45245,     0.45345,     0.45445,     0.45546,\n",
       "           0.45646,     0.45746,     0.45846,     0.45946,     0.46046,     0.46146,     0.46246,     0.46346,     0.46446,     0.46547,     0.46647,     0.46747,     0.46847,     0.46947,     0.47047,     0.47147,     0.47247,     0.47347,     0.47447,     0.47548,     0.47648,     0.47748,     0.47848,     0.47948,\n",
       "           0.48048,     0.48148,     0.48248,     0.48348,     0.48448,     0.48549,     0.48649,     0.48749,     0.48849,     0.48949,     0.49049,     0.49149,     0.49249,     0.49349,     0.49449,      0.4955,      0.4965,      0.4975,      0.4985,      0.4995,      0.5005,      0.5015,      0.5025,      0.5035,\n",
       "            0.5045,     0.50551,     0.50651,     0.50751,     0.50851,     0.50951,     0.51051,     0.51151,     0.51251,     0.51351,     0.51451,     0.51552,     0.51652,     0.51752,     0.51852,     0.51952,     0.52052,     0.52152,     0.52252,     0.52352,     0.52452,     0.52553,     0.52653,     0.52753,\n",
       "           0.52853,     0.52953,     0.53053,     0.53153,     0.53253,     0.53353,     0.53453,     0.53554,     0.53654,     0.53754,     0.53854,     0.53954,     0.54054,     0.54154,     0.54254,     0.54354,     0.54454,     0.54555,     0.54655,     0.54755,     0.54855,     0.54955,     0.55055,     0.55155,\n",
       "           0.55255,     0.55355,     0.55455,     0.55556,     0.55656,     0.55756,     0.55856,     0.55956,     0.56056,     0.56156,     0.56256,     0.56356,     0.56456,     0.56557,     0.56657,     0.56757,     0.56857,     0.56957,     0.57057,     0.57157,     0.57257,     0.57357,     0.57457,     0.57558,\n",
       "           0.57658,     0.57758,     0.57858,     0.57958,     0.58058,     0.58158,     0.58258,     0.58358,     0.58458,     0.58559,     0.58659,     0.58759,     0.58859,     0.58959,     0.59059,     0.59159,     0.59259,     0.59359,     0.59459,      0.5956,      0.5966,      0.5976,      0.5986,      0.5996,\n",
       "            0.6006,      0.6016,      0.6026,      0.6036,      0.6046,     0.60561,     0.60661,     0.60761,     0.60861,     0.60961,     0.61061,     0.61161,     0.61261,     0.61361,     0.61461,     0.61562,     0.61662,     0.61762,     0.61862,     0.61962,     0.62062,     0.62162,     0.62262,     0.62362,\n",
       "           0.62462,     0.62563,     0.62663,     0.62763,     0.62863,     0.62963,     0.63063,     0.63163,     0.63263,     0.63363,     0.63463,     0.63564,     0.63664,     0.63764,     0.63864,     0.63964,     0.64064,     0.64164,     0.64264,     0.64364,     0.64464,     0.64565,     0.64665,     0.64765,\n",
       "           0.64865,     0.64965,     0.65065,     0.65165,     0.65265,     0.65365,     0.65465,     0.65566,     0.65666,     0.65766,     0.65866,     0.65966,     0.66066,     0.66166,     0.66266,     0.66366,     0.66466,     0.66567,     0.66667,     0.66767,     0.66867,     0.66967,     0.67067,     0.67167,\n",
       "           0.67267,     0.67367,     0.67467,     0.67568,     0.67668,     0.67768,     0.67868,     0.67968,     0.68068,     0.68168,     0.68268,     0.68368,     0.68468,     0.68569,     0.68669,     0.68769,     0.68869,     0.68969,     0.69069,     0.69169,     0.69269,     0.69369,     0.69469,      0.6957,\n",
       "            0.6967,      0.6977,      0.6987,      0.6997,      0.7007,      0.7017,      0.7027,      0.7037,      0.7047,     0.70571,     0.70671,     0.70771,     0.70871,     0.70971,     0.71071,     0.71171,     0.71271,     0.71371,     0.71471,     0.71572,     0.71672,     0.71772,     0.71872,     0.71972,\n",
       "           0.72072,     0.72172,     0.72272,     0.72372,     0.72472,     0.72573,     0.72673,     0.72773,     0.72873,     0.72973,     0.73073,     0.73173,     0.73273,     0.73373,     0.73473,     0.73574,     0.73674,     0.73774,     0.73874,     0.73974,     0.74074,     0.74174,     0.74274,     0.74374,\n",
       "           0.74474,     0.74575,     0.74675,     0.74775,     0.74875,     0.74975,     0.75075,     0.75175,     0.75275,     0.75375,     0.75475,     0.75576,     0.75676,     0.75776,     0.75876,     0.75976,     0.76076,     0.76176,     0.76276,     0.76376,     0.76476,     0.76577,     0.76677,     0.76777,\n",
       "           0.76877,     0.76977,     0.77077,     0.77177,     0.77277,     0.77377,     0.77477,     0.77578,     0.77678,     0.77778,     0.77878,     0.77978,     0.78078,     0.78178,     0.78278,     0.78378,     0.78478,     0.78579,     0.78679,     0.78779,     0.78879,     0.78979,     0.79079,     0.79179,\n",
       "           0.79279,     0.79379,     0.79479,      0.7958,      0.7968,      0.7978,      0.7988,      0.7998,      0.8008,      0.8018,      0.8028,      0.8038,      0.8048,     0.80581,     0.80681,     0.80781,     0.80881,     0.80981,     0.81081,     0.81181,     0.81281,     0.81381,     0.81481,     0.81582,\n",
       "           0.81682,     0.81782,     0.81882,     0.81982,     0.82082,     0.82182,     0.82282,     0.82382,     0.82482,     0.82583,     0.82683,     0.82783,     0.82883,     0.82983,     0.83083,     0.83183,     0.83283,     0.83383,     0.83483,     0.83584,     0.83684,     0.83784,     0.83884,     0.83984,\n",
       "           0.84084,     0.84184,     0.84284,     0.84384,     0.84484,     0.84585,     0.84685,     0.84785,     0.84885,     0.84985,     0.85085,     0.85185,     0.85285,     0.85385,     0.85485,     0.85586,     0.85686,     0.85786,     0.85886,     0.85986,     0.86086,     0.86186,     0.86286,     0.86386,\n",
       "           0.86486,     0.86587,     0.86687,     0.86787,     0.86887,     0.86987,     0.87087,     0.87187,     0.87287,     0.87387,     0.87487,     0.87588,     0.87688,     0.87788,     0.87888,     0.87988,     0.88088,     0.88188,     0.88288,     0.88388,     0.88488,     0.88589,     0.88689,     0.88789,\n",
       "           0.88889,     0.88989,     0.89089,     0.89189,     0.89289,     0.89389,     0.89489,      0.8959,      0.8969,      0.8979,      0.8989,      0.8999,      0.9009,      0.9019,      0.9029,      0.9039,      0.9049,     0.90591,     0.90691,     0.90791,     0.90891,     0.90991,     0.91091,     0.91191,\n",
       "           0.91291,     0.91391,     0.91491,     0.91592,     0.91692,     0.91792,     0.91892,     0.91992,     0.92092,     0.92192,     0.92292,     0.92392,     0.92492,     0.92593,     0.92693,     0.92793,     0.92893,     0.92993,     0.93093,     0.93193,     0.93293,     0.93393,     0.93493,     0.93594,\n",
       "           0.93694,     0.93794,     0.93894,     0.93994,     0.94094,     0.94194,     0.94294,     0.94394,     0.94494,     0.94595,     0.94695,     0.94795,     0.94895,     0.94995,     0.95095,     0.95195,     0.95295,     0.95395,     0.95495,     0.95596,     0.95696,     0.95796,     0.95896,     0.95996,\n",
       "           0.96096,     0.96196,     0.96296,     0.96396,     0.96496,     0.96597,     0.96697,     0.96797,     0.96897,     0.96997,     0.97097,     0.97197,     0.97297,     0.97397,     0.97497,     0.97598,     0.97698,     0.97798,     0.97898,     0.97998,     0.98098,     0.98198,     0.98298,     0.98398,\n",
       "           0.98498,     0.98599,     0.98699,     0.98799,     0.98899,     0.98999,     0.99099,     0.99199,     0.99299,     0.99399,     0.99499,       0.996,       0.997,       0.998,       0.999,           1]), array([[    0.28822,     0.28822,      0.3662,     0.41306,     0.44991,     0.47676,     0.49945,     0.51905,     0.53643,     0.55243,     0.56469,     0.57616,      0.5898,     0.59903,     0.60613,     0.61333,     0.62142,     0.62822,     0.63422,     0.64146,     0.64772,      0.6533,     0.65942,\n",
       "             0.6641,     0.66896,      0.6736,     0.67707,     0.68184,     0.68812,     0.69214,     0.69647,     0.70017,     0.70369,     0.70525,     0.70732,     0.71147,     0.71427,     0.71774,     0.72059,      0.7236,     0.72527,     0.72759,     0.73025,     0.73373,     0.73598,     0.73924,\n",
       "            0.74101,     0.74368,     0.74594,     0.74798,     0.74947,     0.75137,     0.75391,     0.75608,     0.76019,     0.76255,     0.76367,     0.76551,     0.76735,     0.76944,     0.77156,     0.77374,     0.77524,     0.77757,     0.77868,     0.77971,      0.7818,     0.78297,     0.78531,\n",
       "            0.78659,     0.78774,     0.78898,     0.79083,     0.79187,     0.79347,     0.79576,     0.79619,     0.79873,     0.80049,     0.80237,     0.80418,     0.80546,     0.80602,     0.80642,     0.80807,     0.80996,     0.81019,     0.81056,     0.81119,     0.81152,     0.81296,      0.8136,\n",
       "            0.81411,     0.81545,     0.81674,     0.81773,     0.81926,     0.82073,     0.82091,     0.82199,     0.82261,     0.82316,     0.82375,     0.82501,     0.82598,     0.82623,     0.82637,     0.82655,     0.82691,     0.82845,     0.82879,     0.82926,      0.8298,     0.83105,     0.83223,\n",
       "            0.83289,     0.83344,     0.83437,     0.83474,     0.83508,     0.83577,     0.83657,     0.83685,     0.83766,     0.83833,     0.83879,     0.83997,       0.841,       0.842,     0.84196,     0.84294,     0.84379,     0.84468,     0.84612,     0.84689,     0.84757,     0.84951,      0.8498,\n",
       "            0.85039,     0.85118,     0.85202,     0.85263,     0.85322,     0.85461,     0.85569,     0.85605,     0.85619,     0.85636,     0.85656,     0.85715,     0.85829,     0.85914,     0.86022,      0.8605,     0.86132,     0.86216,     0.86297,     0.86381,     0.86399,     0.86436,     0.86544,\n",
       "            0.86615,     0.86633,     0.86668,     0.86686,     0.86727,     0.86865,     0.86883,      0.8691,     0.86984,     0.87002,     0.87036,     0.87089,     0.87112,     0.87181,     0.87263,      0.8732,     0.87337,     0.87473,     0.87523,     0.87558,     0.87567,     0.87563,     0.87581,\n",
       "            0.87674,     0.87717,     0.87772,     0.87805,     0.87829,     0.87858,     0.88001,     0.88138,     0.88194,     0.88295,     0.88317,     0.88374,     0.88522,     0.88546,     0.88581,     0.88582,     0.88592,     0.88601,     0.88614,     0.88629,     0.88645,     0.88661,     0.88693,\n",
       "            0.88788,     0.88803,     0.88861,      0.8889,     0.88954,     0.89025,     0.89048,     0.89141,     0.89194,     0.89227,     0.89253,     0.89254,     0.89277,     0.89378,     0.89485,      0.8956,     0.89636,     0.89742,     0.89762,     0.89763,     0.89786,     0.89854,     0.89877,\n",
       "            0.89976,     0.89991,     0.90006,     0.90043,     0.90066,     0.90102,     0.90176,     0.90285,     0.90306,     0.90343,     0.90422,     0.90444,     0.90467,      0.9051,     0.90553,     0.90568,     0.90579,      0.9059,     0.90667,     0.90683,     0.90723,     0.90732,      0.9074,\n",
       "            0.90814,     0.90921,     0.90996,     0.91084,     0.91147,     0.91239,     0.91287,     0.91306,     0.91349,     0.91362,     0.91375,     0.91426,      0.9145,      0.9154,     0.91538,      0.9155,     0.91563,      0.9161,     0.91624,     0.91648,     0.91718,     0.91757,     0.91796,\n",
       "            0.91818,     0.91867,     0.91886,     0.91889,     0.91911,     0.91914,     0.91931,     0.91961,      0.9202,     0.92039,      0.9208,      0.9212,     0.92191,     0.92236,     0.92256,     0.92273,     0.92287,       0.923,      0.9234,      0.9238,     0.92418,     0.92446,     0.92465,\n",
       "            0.92504,     0.92543,     0.92559,     0.92557,     0.92565,     0.92576,     0.92586,       0.926,     0.92619,     0.92726,     0.92763,     0.92803,     0.92831,     0.92919,     0.92932,     0.92944,     0.92969,     0.93031,      0.9305,     0.93063,     0.93076,     0.93084,     0.93167,\n",
       "            0.93208,     0.93277,     0.93383,     0.93418,     0.93494,     0.93512,     0.93554,     0.93566,     0.93579,     0.93577,      0.9359,     0.93609,     0.93615,     0.93628,      0.9364,     0.93694,     0.93753,     0.93794,     0.93808,     0.93807,     0.93868,     0.93911,     0.93942,\n",
       "            0.93947,     0.93974,     0.93972,     0.93971,     0.93995,     0.94037,     0.94072,     0.94104,     0.94124,     0.94136,     0.94168,      0.9419,      0.9421,     0.94223,     0.94235,     0.94304,     0.94304,     0.94303,     0.94309,     0.94329,     0.94357,     0.94427,     0.94438,\n",
       "            0.94437,     0.94436,     0.94505,     0.94504,     0.94503,     0.94501,     0.94499,     0.94498,      0.9452,     0.94562,     0.94633,     0.94651,      0.9467,     0.94773,     0.94773,     0.94772,     0.94819,     0.94846,     0.94859,     0.94873,     0.94875,     0.94889,      0.9491,\n",
       "            0.94978,      0.9499,     0.95002,     0.95018,     0.95062,     0.95081,     0.95087,     0.95105,     0.95132,     0.95149,     0.95246,     0.95253,     0.95251,     0.95316,     0.95353,     0.95355,     0.95353,     0.95352,     0.95348,     0.95346,     0.95385,     0.95403,     0.95447,\n",
       "            0.95446,     0.95443,     0.95442,     0.95464,       0.955,      0.9551,     0.95509,     0.95554,     0.95572,     0.95621,     0.95634,     0.95651,     0.95681,     0.95687,      0.9572,     0.95738,      0.9576,     0.95786,     0.95789,     0.95807,     0.95817,     0.95816,     0.95826,\n",
       "            0.95845,     0.95862,      0.9588,     0.95913,     0.95919,     0.95914,     0.95944,     0.96021,      0.9602,     0.96015,     0.96049,     0.96066,     0.96085,     0.96118,     0.96152,     0.96187,     0.96186,     0.96199,     0.96213,     0.96236,     0.96348,     0.96386,     0.96403,\n",
       "            0.96402,     0.96421,     0.96437,     0.96448,     0.96467,     0.96472,     0.96471,     0.96505,     0.96504,       0.965,     0.96499,     0.96512,     0.96531,     0.96549,     0.96568,     0.96638,     0.96641,      0.9664,     0.96676,     0.96676,     0.96671,      0.9667,      0.9674,\n",
       "            0.96739,     0.96739,     0.96738,     0.96744,     0.96775,      0.9681,      0.9681,     0.96848,     0.96868,     0.96886,     0.96905,     0.96914,     0.96913,     0.96911,     0.96911,     0.96919,     0.96939,     0.96946,     0.96945,     0.96978,     0.96977,     0.96977,     0.96976,\n",
       "            0.97011,     0.97035,     0.97044,     0.97072,      0.9708,      0.9708,     0.97171,     0.97191,      0.9723,     0.97267,     0.97301,     0.97304,     0.97304,     0.97304,     0.97339,     0.97339,     0.97338,     0.97335,     0.97333,     0.97368,     0.97368,     0.97404,     0.97404,\n",
       "            0.97401,       0.974,       0.974,     0.97399,     0.97475,     0.97474,      0.9751,     0.97509,     0.97546,     0.97546,     0.97669,     0.97689,     0.97756,     0.97774,     0.97796,     0.97836,     0.97889,     0.97888,     0.97884,     0.97883,     0.97922,     0.97961,     0.97958,\n",
       "            0.97958,     0.97994,     0.97994,     0.97989,     0.97987,     0.97982,     0.97979,     0.97976,     0.98093,     0.98092,     0.98166,     0.98165,     0.98205,     0.98245,     0.98258,     0.98279,     0.98284,     0.98284,     0.98312,     0.98321,     0.98438,     0.98437,     0.98434,\n",
       "            0.98433,     0.98429,     0.98428,     0.98423,     0.98422,     0.98459,     0.98457,     0.98456,     0.98454,     0.98453,     0.98448,     0.98448,     0.98445,     0.98445,     0.98473,     0.98526,     0.98523,     0.98521,     0.98555,     0.98555,     0.98554,     0.98549,     0.98548,\n",
       "            0.98545,     0.98544,     0.98583,     0.98581,     0.98576,     0.98575,     0.98615,     0.98643,     0.98652,     0.98691,      0.9869,     0.98686,     0.98686,     0.98679,     0.98678,     0.98672,     0.98672,     0.98712,     0.98711,     0.98706,     0.98705,     0.98742,     0.98735,\n",
       "            0.98734,     0.98731,      0.9873,     0.98722,     0.98721,     0.98716,     0.98762,     0.98806,     0.98805,     0.98801,     0.98798,     0.98789,     0.98785,     0.98783,     0.98823,     0.98822,     0.98866,     0.98864,      0.9886,     0.98903,     0.98902,     0.98944,     0.98952,\n",
       "            0.99038,     0.99037,     0.99034,      0.9903,     0.99074,     0.99069,     0.99068,     0.99063,     0.99062,     0.99059,     0.99057,     0.99053,     0.99103,       0.991,     0.99094,     0.99092,     0.99088,     0.99088,     0.99081,     0.99076,     0.99076,     0.99132,     0.99177,\n",
       "            0.99174,     0.99228,     0.99223,     0.99274,     0.99273,     0.99269,     0.99266,     0.99318,     0.99317,     0.99312,     0.99364,     0.99363,     0.99417,     0.99412,     0.99411,     0.99409,     0.99408,     0.99463,     0.99462,     0.99459,     0.99454,     0.99454,     0.99449,\n",
       "            0.99449,     0.99446,     0.99445,     0.99438,     0.99495,     0.99494,     0.99492,     0.99491,     0.99489,      0.9955,     0.99545,     0.99544,     0.99541,      0.9954,     0.99537,     0.99532,      0.9953,     0.99526,     0.99523,     0.99521,     0.99514,     0.99583,      0.9958,\n",
       "            0.99578,     0.99576,     0.99569,     0.99567,     0.99563,      0.9956,     0.99556,     0.99552,     0.99621,     0.99619,     0.99617,     0.99615,     0.99611,     0.99607,     0.99604,     0.99598,     0.99596,     0.99594,     0.99591,     0.99586,     0.99668,     0.99664,     0.99662,\n",
       "            0.99659,     0.99657,     0.99653,     0.99647,     0.99641,     0.99639,     0.99638,     0.99635,     0.99723,     0.99722,     0.99718,     0.99809,     0.99808,     0.99806,     0.99803,     0.99802,     0.99799,     0.99797,     0.99795,     0.99793,     0.99877,     0.99893,     0.99892,\n",
       "            0.99891,     0.99889,     0.99889,     0.99888,     0.99886,     0.99885,     0.99883,     0.99883,      0.9988,     0.99879,     0.99876,     0.99874,     0.99873,     0.99871,      0.9987,     0.99866,     0.99865,     0.99864,     0.99862,      0.9986,     0.99856,     0.99854,     0.99852,\n",
       "            0.99848,     0.99846,     0.99842,     0.99841,     0.99838,     0.99836,     0.99832,     0.99831,     0.99827,     0.99824,     0.99819,     0.99818,     0.99813,      0.9981,     0.99806,     0.99801,       0.998,     0.99793,     0.99785,     0.99777,     0.99774,     0.99768,     0.99765,\n",
       "            0.99754,     0.99742,     0.99737,     0.99732,     0.99728,     0.99723,     0.99714,     0.99706,     0.99694,     0.99683,     0.99678,     0.99662,      0.9965,     0.99636,     0.99614,           1,           1,           1,           1,           1,           1,           1,           1,\n",
       "                  1,           1,           1,           1,           1,           1,           1,           1,           1,           1,           1,           1,           1,           1,           1,           1,           1,           1,           1,           1,           1,           1,           1,\n",
       "                  1,           1,           1,           1,           1,           1,           1,           1,           1,           1,           1,           1,           1,           1,           1,           1,           1,           1,           1,           1,           1,           1,           1,\n",
       "                  1,           1,           1,           1,           1,           1,           1,           1,           1,           1,           1,           1,           1,           1,           1,           1,           1,           1,           1,           1,           1,           1,           1,\n",
       "                  1,           1,           1,           1,           1,           1,           1,           1,           1,           1,           1,           1,           1,           1,           1,           1,           1,           1,           1,           1,           1,           1,           1,\n",
       "                  1,           1,           1,           1,           1,           1,           1,           1,           1,           1,           1,           1,           1,           1,           1,           1,           1,           1,           1,           1,           1,           1,           1,\n",
       "                  1,           1,           1,           1,           1,           1,           1,           1,           1,           1,           1,           1,           1,           1,           1,           1,           1,           1,           1,           1,           1,           1,           1,\n",
       "                  1,           1,           1,           1,           1,           1,           1,           1,           1,           1,           1,           1,           1,           1,           1,           1,           1,           1,           1,           1,           1,           1,           1,\n",
       "                  1,           1,           1,           1,           1,           1,           1,           1,           1,           1,           1]]), 'Confidence', 'Precision'], [array([          0,    0.001001,    0.002002,    0.003003,    0.004004,    0.005005,    0.006006,    0.007007,    0.008008,    0.009009,     0.01001,    0.011011,    0.012012,    0.013013,    0.014014,    0.015015,    0.016016,    0.017017,    0.018018,    0.019019,     0.02002,    0.021021,    0.022022,    0.023023,\n",
       "          0.024024,    0.025025,    0.026026,    0.027027,    0.028028,    0.029029,     0.03003,    0.031031,    0.032032,    0.033033,    0.034034,    0.035035,    0.036036,    0.037037,    0.038038,    0.039039,     0.04004,    0.041041,    0.042042,    0.043043,    0.044044,    0.045045,    0.046046,    0.047047,\n",
       "          0.048048,    0.049049,     0.05005,    0.051051,    0.052052,    0.053053,    0.054054,    0.055055,    0.056056,    0.057057,    0.058058,    0.059059,     0.06006,    0.061061,    0.062062,    0.063063,    0.064064,    0.065065,    0.066066,    0.067067,    0.068068,    0.069069,     0.07007,    0.071071,\n",
       "          0.072072,    0.073073,    0.074074,    0.075075,    0.076076,    0.077077,    0.078078,    0.079079,     0.08008,    0.081081,    0.082082,    0.083083,    0.084084,    0.085085,    0.086086,    0.087087,    0.088088,    0.089089,     0.09009,    0.091091,    0.092092,    0.093093,    0.094094,    0.095095,\n",
       "          0.096096,    0.097097,    0.098098,    0.099099,      0.1001,      0.1011,      0.1021,      0.1031,      0.1041,     0.10511,     0.10611,     0.10711,     0.10811,     0.10911,     0.11011,     0.11111,     0.11211,     0.11311,     0.11411,     0.11512,     0.11612,     0.11712,     0.11812,     0.11912,\n",
       "           0.12012,     0.12112,     0.12212,     0.12312,     0.12412,     0.12513,     0.12613,     0.12713,     0.12813,     0.12913,     0.13013,     0.13113,     0.13213,     0.13313,     0.13413,     0.13514,     0.13614,     0.13714,     0.13814,     0.13914,     0.14014,     0.14114,     0.14214,     0.14314,\n",
       "           0.14414,     0.14515,     0.14615,     0.14715,     0.14815,     0.14915,     0.15015,     0.15115,     0.15215,     0.15315,     0.15415,     0.15516,     0.15616,     0.15716,     0.15816,     0.15916,     0.16016,     0.16116,     0.16216,     0.16316,     0.16416,     0.16517,     0.16617,     0.16717,\n",
       "           0.16817,     0.16917,     0.17017,     0.17117,     0.17217,     0.17317,     0.17417,     0.17518,     0.17618,     0.17718,     0.17818,     0.17918,     0.18018,     0.18118,     0.18218,     0.18318,     0.18418,     0.18519,     0.18619,     0.18719,     0.18819,     0.18919,     0.19019,     0.19119,\n",
       "           0.19219,     0.19319,     0.19419,      0.1952,      0.1962,      0.1972,      0.1982,      0.1992,      0.2002,      0.2012,      0.2022,      0.2032,      0.2042,     0.20521,     0.20621,     0.20721,     0.20821,     0.20921,     0.21021,     0.21121,     0.21221,     0.21321,     0.21421,     0.21522,\n",
       "           0.21622,     0.21722,     0.21822,     0.21922,     0.22022,     0.22122,     0.22222,     0.22322,     0.22422,     0.22523,     0.22623,     0.22723,     0.22823,     0.22923,     0.23023,     0.23123,     0.23223,     0.23323,     0.23423,     0.23524,     0.23624,     0.23724,     0.23824,     0.23924,\n",
       "           0.24024,     0.24124,     0.24224,     0.24324,     0.24424,     0.24525,     0.24625,     0.24725,     0.24825,     0.24925,     0.25025,     0.25125,     0.25225,     0.25325,     0.25425,     0.25526,     0.25626,     0.25726,     0.25826,     0.25926,     0.26026,     0.26126,     0.26226,     0.26326,\n",
       "           0.26426,     0.26527,     0.26627,     0.26727,     0.26827,     0.26927,     0.27027,     0.27127,     0.27227,     0.27327,     0.27427,     0.27528,     0.27628,     0.27728,     0.27828,     0.27928,     0.28028,     0.28128,     0.28228,     0.28328,     0.28428,     0.28529,     0.28629,     0.28729,\n",
       "           0.28829,     0.28929,     0.29029,     0.29129,     0.29229,     0.29329,     0.29429,      0.2953,      0.2963,      0.2973,      0.2983,      0.2993,      0.3003,      0.3013,      0.3023,      0.3033,      0.3043,     0.30531,     0.30631,     0.30731,     0.30831,     0.30931,     0.31031,     0.31131,\n",
       "           0.31231,     0.31331,     0.31431,     0.31532,     0.31632,     0.31732,     0.31832,     0.31932,     0.32032,     0.32132,     0.32232,     0.32332,     0.32432,     0.32533,     0.32633,     0.32733,     0.32833,     0.32933,     0.33033,     0.33133,     0.33233,     0.33333,     0.33433,     0.33534,\n",
       "           0.33634,     0.33734,     0.33834,     0.33934,     0.34034,     0.34134,     0.34234,     0.34334,     0.34434,     0.34535,     0.34635,     0.34735,     0.34835,     0.34935,     0.35035,     0.35135,     0.35235,     0.35335,     0.35435,     0.35536,     0.35636,     0.35736,     0.35836,     0.35936,\n",
       "           0.36036,     0.36136,     0.36236,     0.36336,     0.36436,     0.36537,     0.36637,     0.36737,     0.36837,     0.36937,     0.37037,     0.37137,     0.37237,     0.37337,     0.37437,     0.37538,     0.37638,     0.37738,     0.37838,     0.37938,     0.38038,     0.38138,     0.38238,     0.38338,\n",
       "           0.38438,     0.38539,     0.38639,     0.38739,     0.38839,     0.38939,     0.39039,     0.39139,     0.39239,     0.39339,     0.39439,      0.3954,      0.3964,      0.3974,      0.3984,      0.3994,      0.4004,      0.4014,      0.4024,      0.4034,      0.4044,     0.40541,     0.40641,     0.40741,\n",
       "           0.40841,     0.40941,     0.41041,     0.41141,     0.41241,     0.41341,     0.41441,     0.41542,     0.41642,     0.41742,     0.41842,     0.41942,     0.42042,     0.42142,     0.42242,     0.42342,     0.42442,     0.42543,     0.42643,     0.42743,     0.42843,     0.42943,     0.43043,     0.43143,\n",
       "           0.43243,     0.43343,     0.43443,     0.43544,     0.43644,     0.43744,     0.43844,     0.43944,     0.44044,     0.44144,     0.44244,     0.44344,     0.44444,     0.44545,     0.44645,     0.44745,     0.44845,     0.44945,     0.45045,     0.45145,     0.45245,     0.45345,     0.45445,     0.45546,\n",
       "           0.45646,     0.45746,     0.45846,     0.45946,     0.46046,     0.46146,     0.46246,     0.46346,     0.46446,     0.46547,     0.46647,     0.46747,     0.46847,     0.46947,     0.47047,     0.47147,     0.47247,     0.47347,     0.47447,     0.47548,     0.47648,     0.47748,     0.47848,     0.47948,\n",
       "           0.48048,     0.48148,     0.48248,     0.48348,     0.48448,     0.48549,     0.48649,     0.48749,     0.48849,     0.48949,     0.49049,     0.49149,     0.49249,     0.49349,     0.49449,      0.4955,      0.4965,      0.4975,      0.4985,      0.4995,      0.5005,      0.5015,      0.5025,      0.5035,\n",
       "            0.5045,     0.50551,     0.50651,     0.50751,     0.50851,     0.50951,     0.51051,     0.51151,     0.51251,     0.51351,     0.51451,     0.51552,     0.51652,     0.51752,     0.51852,     0.51952,     0.52052,     0.52152,     0.52252,     0.52352,     0.52452,     0.52553,     0.52653,     0.52753,\n",
       "           0.52853,     0.52953,     0.53053,     0.53153,     0.53253,     0.53353,     0.53453,     0.53554,     0.53654,     0.53754,     0.53854,     0.53954,     0.54054,     0.54154,     0.54254,     0.54354,     0.54454,     0.54555,     0.54655,     0.54755,     0.54855,     0.54955,     0.55055,     0.55155,\n",
       "           0.55255,     0.55355,     0.55455,     0.55556,     0.55656,     0.55756,     0.55856,     0.55956,     0.56056,     0.56156,     0.56256,     0.56356,     0.56456,     0.56557,     0.56657,     0.56757,     0.56857,     0.56957,     0.57057,     0.57157,     0.57257,     0.57357,     0.57457,     0.57558,\n",
       "           0.57658,     0.57758,     0.57858,     0.57958,     0.58058,     0.58158,     0.58258,     0.58358,     0.58458,     0.58559,     0.58659,     0.58759,     0.58859,     0.58959,     0.59059,     0.59159,     0.59259,     0.59359,     0.59459,      0.5956,      0.5966,      0.5976,      0.5986,      0.5996,\n",
       "            0.6006,      0.6016,      0.6026,      0.6036,      0.6046,     0.60561,     0.60661,     0.60761,     0.60861,     0.60961,     0.61061,     0.61161,     0.61261,     0.61361,     0.61461,     0.61562,     0.61662,     0.61762,     0.61862,     0.61962,     0.62062,     0.62162,     0.62262,     0.62362,\n",
       "           0.62462,     0.62563,     0.62663,     0.62763,     0.62863,     0.62963,     0.63063,     0.63163,     0.63263,     0.63363,     0.63463,     0.63564,     0.63664,     0.63764,     0.63864,     0.63964,     0.64064,     0.64164,     0.64264,     0.64364,     0.64464,     0.64565,     0.64665,     0.64765,\n",
       "           0.64865,     0.64965,     0.65065,     0.65165,     0.65265,     0.65365,     0.65465,     0.65566,     0.65666,     0.65766,     0.65866,     0.65966,     0.66066,     0.66166,     0.66266,     0.66366,     0.66466,     0.66567,     0.66667,     0.66767,     0.66867,     0.66967,     0.67067,     0.67167,\n",
       "           0.67267,     0.67367,     0.67467,     0.67568,     0.67668,     0.67768,     0.67868,     0.67968,     0.68068,     0.68168,     0.68268,     0.68368,     0.68468,     0.68569,     0.68669,     0.68769,     0.68869,     0.68969,     0.69069,     0.69169,     0.69269,     0.69369,     0.69469,      0.6957,\n",
       "            0.6967,      0.6977,      0.6987,      0.6997,      0.7007,      0.7017,      0.7027,      0.7037,      0.7047,     0.70571,     0.70671,     0.70771,     0.70871,     0.70971,     0.71071,     0.71171,     0.71271,     0.71371,     0.71471,     0.71572,     0.71672,     0.71772,     0.71872,     0.71972,\n",
       "           0.72072,     0.72172,     0.72272,     0.72372,     0.72472,     0.72573,     0.72673,     0.72773,     0.72873,     0.72973,     0.73073,     0.73173,     0.73273,     0.73373,     0.73473,     0.73574,     0.73674,     0.73774,     0.73874,     0.73974,     0.74074,     0.74174,     0.74274,     0.74374,\n",
       "           0.74474,     0.74575,     0.74675,     0.74775,     0.74875,     0.74975,     0.75075,     0.75175,     0.75275,     0.75375,     0.75475,     0.75576,     0.75676,     0.75776,     0.75876,     0.75976,     0.76076,     0.76176,     0.76276,     0.76376,     0.76476,     0.76577,     0.76677,     0.76777,\n",
       "           0.76877,     0.76977,     0.77077,     0.77177,     0.77277,     0.77377,     0.77477,     0.77578,     0.77678,     0.77778,     0.77878,     0.77978,     0.78078,     0.78178,     0.78278,     0.78378,     0.78478,     0.78579,     0.78679,     0.78779,     0.78879,     0.78979,     0.79079,     0.79179,\n",
       "           0.79279,     0.79379,     0.79479,      0.7958,      0.7968,      0.7978,      0.7988,      0.7998,      0.8008,      0.8018,      0.8028,      0.8038,      0.8048,     0.80581,     0.80681,     0.80781,     0.80881,     0.80981,     0.81081,     0.81181,     0.81281,     0.81381,     0.81481,     0.81582,\n",
       "           0.81682,     0.81782,     0.81882,     0.81982,     0.82082,     0.82182,     0.82282,     0.82382,     0.82482,     0.82583,     0.82683,     0.82783,     0.82883,     0.82983,     0.83083,     0.83183,     0.83283,     0.83383,     0.83483,     0.83584,     0.83684,     0.83784,     0.83884,     0.83984,\n",
       "           0.84084,     0.84184,     0.84284,     0.84384,     0.84484,     0.84585,     0.84685,     0.84785,     0.84885,     0.84985,     0.85085,     0.85185,     0.85285,     0.85385,     0.85485,     0.85586,     0.85686,     0.85786,     0.85886,     0.85986,     0.86086,     0.86186,     0.86286,     0.86386,\n",
       "           0.86486,     0.86587,     0.86687,     0.86787,     0.86887,     0.86987,     0.87087,     0.87187,     0.87287,     0.87387,     0.87487,     0.87588,     0.87688,     0.87788,     0.87888,     0.87988,     0.88088,     0.88188,     0.88288,     0.88388,     0.88488,     0.88589,     0.88689,     0.88789,\n",
       "           0.88889,     0.88989,     0.89089,     0.89189,     0.89289,     0.89389,     0.89489,      0.8959,      0.8969,      0.8979,      0.8989,      0.8999,      0.9009,      0.9019,      0.9029,      0.9039,      0.9049,     0.90591,     0.90691,     0.90791,     0.90891,     0.90991,     0.91091,     0.91191,\n",
       "           0.91291,     0.91391,     0.91491,     0.91592,     0.91692,     0.91792,     0.91892,     0.91992,     0.92092,     0.92192,     0.92292,     0.92392,     0.92492,     0.92593,     0.92693,     0.92793,     0.92893,     0.92993,     0.93093,     0.93193,     0.93293,     0.93393,     0.93493,     0.93594,\n",
       "           0.93694,     0.93794,     0.93894,     0.93994,     0.94094,     0.94194,     0.94294,     0.94394,     0.94494,     0.94595,     0.94695,     0.94795,     0.94895,     0.94995,     0.95095,     0.95195,     0.95295,     0.95395,     0.95495,     0.95596,     0.95696,     0.95796,     0.95896,     0.95996,\n",
       "           0.96096,     0.96196,     0.96296,     0.96396,     0.96496,     0.96597,     0.96697,     0.96797,     0.96897,     0.96997,     0.97097,     0.97197,     0.97297,     0.97397,     0.97497,     0.97598,     0.97698,     0.97798,     0.97898,     0.97998,     0.98098,     0.98198,     0.98298,     0.98398,\n",
       "           0.98498,     0.98599,     0.98699,     0.98799,     0.98899,     0.98999,     0.99099,     0.99199,     0.99299,     0.99399,     0.99499,       0.996,       0.997,       0.998,       0.999,           1]), array([[    0.99263,     0.99263,     0.99189,     0.99005,     0.98968,     0.98931,     0.98858,     0.98784,     0.98784,     0.98747,     0.98747,     0.98747,     0.98747,      0.9871,      0.9871,      0.9871,      0.9871,      0.9871,     0.98674,     0.98674,     0.98637,     0.98637,       0.986,\n",
       "              0.986,       0.986,       0.986,       0.986,       0.986,       0.986,       0.986,       0.986,       0.986,       0.986,       0.986,     0.98563,     0.98526,     0.98489,     0.98489,     0.98447,     0.98416,     0.98379,     0.98379,     0.98379,     0.98379,     0.98379,     0.98379,\n",
       "            0.98342,     0.98305,     0.98305,     0.98305,     0.98268,     0.98231,     0.98195,     0.98195,     0.98195,     0.98195,     0.98158,     0.98158,     0.98121,     0.98084,     0.98084,     0.98032,      0.9801,      0.9801,     0.97973,     0.97973,     0.97973,     0.97973,     0.97973,\n",
       "            0.97973,     0.97973,     0.97937,     0.97937,       0.979,       0.979,       0.979,       0.979,       0.979,     0.97863,     0.97752,     0.97752,     0.97716,      0.9768,     0.97679,     0.97679,     0.97679,     0.97668,     0.97588,     0.97568,     0.97568,     0.97531,     0.97531,\n",
       "            0.97531,     0.97522,     0.97494,     0.97494,     0.97494,     0.97494,     0.97494,     0.97494,     0.97494,     0.97494,     0.97467,     0.97421,     0.97421,     0.97384,     0.97384,     0.97384,     0.97384,     0.97384,     0.97384,     0.97384,     0.97362,     0.97347,     0.97347,\n",
       "             0.9733,     0.97273,     0.97273,     0.97273,     0.97207,       0.972,       0.972,       0.972,       0.972,       0.972,       0.972,       0.972,       0.972,     0.97198,      0.9717,     0.97163,     0.97163,     0.97163,     0.97163,     0.97163,     0.97163,     0.97126,     0.97126,\n",
       "            0.97089,     0.97052,     0.97052,     0.97052,     0.97052,     0.97052,     0.97015,     0.97015,     0.97015,     0.97015,     0.97015,     0.97015,     0.97015,     0.97015,     0.97015,     0.97015,     0.96979,     0.96979,     0.96979,     0.96979,     0.96979,     0.96979,     0.96979,\n",
       "            0.96979,     0.96979,     0.96979,     0.96979,     0.96979,     0.96979,     0.96979,     0.96942,     0.96942,     0.96927,     0.96905,     0.96905,     0.96878,     0.96831,     0.96831,     0.96831,     0.96831,     0.96831,     0.96831,     0.96831,       0.968,     0.96721,     0.96721,\n",
       "            0.96721,     0.96684,     0.96684,     0.96684,     0.96684,     0.96684,     0.96684,     0.96684,     0.96684,     0.96684,     0.96656,     0.96632,      0.9661,      0.9661,     0.96605,     0.96573,     0.96573,     0.96573,     0.96573,     0.96573,     0.96573,     0.96573,     0.96573,\n",
       "            0.96536,     0.96536,     0.96536,     0.96536,     0.96536,       0.965,       0.965,     0.96488,     0.96463,     0.96439,     0.96426,       0.964,     0.96323,     0.96315,     0.96315,     0.96315,     0.96315,     0.96279,     0.96265,     0.96242,     0.96242,     0.96242,     0.96242,\n",
       "            0.96242,     0.96242,     0.96242,     0.96242,     0.96242,     0.96205,     0.96205,     0.96205,     0.96205,     0.96175,     0.96131,     0.96131,     0.96131,     0.96131,     0.96131,     0.96131,     0.96131,     0.96131,     0.96131,     0.96131,     0.96131,     0.96131,     0.96131,\n",
       "            0.96131,     0.96131,     0.96131,     0.96131,     0.96131,     0.96131,      0.9612,     0.96094,     0.96094,     0.96094,     0.96094,     0.96094,     0.96094,     0.96084,     0.96059,     0.96057,     0.96057,     0.96057,     0.96057,     0.96057,     0.96057,     0.96057,     0.96021,\n",
       "            0.96021,     0.95984,     0.95984,     0.95947,     0.95947,     0.95918,      0.9591,      0.9591,     0.95873,     0.95873,     0.95873,     0.95873,     0.95873,     0.95873,     0.95873,     0.95873,     0.95873,     0.95873,     0.95873,     0.95873,     0.95873,     0.95873,     0.95873,\n",
       "              0.958,       0.958,     0.95788,     0.95767,     0.95763,     0.95763,     0.95763,     0.95726,     0.95726,     0.95726,     0.95726,     0.95726,     0.95726,     0.95726,     0.95726,     0.95726,     0.95726,     0.95726,     0.95726,     0.95726,     0.95726,     0.95713,     0.95689,\n",
       "            0.95689,     0.95689,     0.95615,     0.95615,     0.95615,     0.95594,     0.95578,     0.95578,     0.95578,     0.95557,     0.95542,      0.9552,     0.95505,     0.95505,     0.95505,     0.95505,     0.95505,     0.95505,     0.95457,     0.95436,     0.95431,     0.95431,     0.95427,\n",
       "            0.95394,     0.95379,     0.95348,     0.95327,     0.95321,     0.95284,     0.95284,     0.95247,     0.95247,     0.95234,     0.95191,     0.95173,     0.95173,     0.95173,     0.95173,     0.95173,     0.95159,     0.95146,     0.95136,     0.95136,     0.95099,     0.95099,      0.9509,\n",
       "            0.95077,     0.95063,     0.95058,     0.95039,     0.95014,     0.94973,     0.94941,     0.94922,     0.94915,     0.94878,     0.94878,     0.94878,     0.94878,     0.94875,     0.94862,      0.9485,     0.94842,     0.94842,     0.94842,     0.94842,     0.94815,     0.94805,     0.94805,\n",
       "            0.94768,     0.94768,     0.94768,     0.94768,     0.94768,     0.94716,     0.94694,     0.94694,     0.94694,     0.94669,     0.94657,     0.94627,      0.9459,     0.94584,     0.94584,      0.9455,     0.94507,     0.94488,     0.94391,     0.94353,     0.94326,     0.94326,     0.94245,\n",
       "            0.94223,     0.94155,     0.94117,     0.94068,     0.94068,     0.94054,     0.94035,      0.9392,      0.9392,     0.93884,     0.93884,     0.93884,     0.93878,     0.93847,     0.93847,     0.93847,      0.9381,     0.93799,     0.93736,     0.93736,     0.93692,      0.9367,     0.93626,\n",
       "            0.93626,     0.93589,     0.93589,     0.93589,     0.93523,     0.93412,     0.93405,     0.93373,     0.93335,     0.93224,      0.9322,     0.93147,     0.93147,     0.93054,     0.92962,      0.9296,     0.92889,     0.92889,     0.92889,     0.92889,     0.92889,     0.92889,     0.92834,\n",
       "            0.92796,     0.92778,     0.92757,     0.92741,     0.92741,     0.92693,     0.92674,     0.92581,     0.92562,     0.92456,     0.92419,     0.92373,     0.92373,     0.92336,     0.92336,     0.92262,     0.92229,     0.92191,     0.92189,     0.92152,     0.92004,     0.91985,     0.91855,\n",
       "            0.91819,     0.91807,     0.91794,     0.91783,     0.91776,     0.91706,     0.91687,     0.91562,     0.91562,     0.91525,     0.91525,     0.91408,     0.91389,     0.91334,     0.91315,     0.91304,     0.91304,     0.91221,     0.91202,      0.9104,     0.91027,     0.91014,     0.90986,\n",
       "            0.90875,     0.90825,     0.90725,     0.90715,     0.90664,     0.90645,     0.90604,     0.90604,     0.90536,     0.90498,     0.90457,     0.90445,     0.90433,      0.9042,     0.90309,     0.90297,     0.90284,     0.90159,     0.90084,     0.89975,     0.89956,     0.89864,     0.89845,\n",
       "            0.89752,     0.89734,     0.89709,     0.89672,     0.89603,     0.89584,     0.89448,      0.8941,     0.89343,     0.89325,     0.89167,     0.89167,      0.8902,     0.88999,     0.88946,     0.88946,     0.88849,     0.88811,     0.88626,     0.88588,     0.88551,     0.88513,     0.88379,\n",
       "             0.8836,     0.88215,     0.88177,     0.87992,     0.87881,      0.8767,     0.87529,     0.87418,     0.87168,     0.87149,     0.86762,     0.86743,     0.86676,     0.86638,     0.86588,     0.86588,     0.86538,     0.86519,      0.8633,     0.86301,     0.85932,     0.85857,     0.85709,\n",
       "            0.85634,     0.85412,     0.85374,     0.85079,     0.85041,     0.84764,     0.84634,     0.84609,     0.84466,     0.84392,     0.84144,     0.84126,     0.83996,     0.83977,     0.83788,     0.83723,     0.83538,     0.83463,     0.82946,     0.82908,     0.82845,     0.82593,     0.82519,\n",
       "            0.82342,     0.82323,     0.82037,     0.81889,     0.81603,     0.81585,     0.81333,     0.81319,     0.80889,     0.80542,     0.80523,     0.80246,     0.80227,     0.79803,     0.79784,     0.79397,     0.79378,     0.79057,     0.79004,     0.78668,     0.78631,     0.78114,     0.77634,\n",
       "            0.77559,     0.77374,     0.77336,     0.76852,     0.76763,     0.76505,      0.7643,     0.76208,     0.76133,     0.75911,     0.75689,     0.75154,     0.74895,     0.74747,      0.7423,     0.74192,     0.73881,     0.73767,     0.73508,     0.73065,     0.73027,     0.72474,     0.72439,\n",
       "            0.72085,     0.71973,     0.71751,     0.71493,     0.70939,     0.70551,     0.70477,     0.70107,     0.70069,     0.69798,     0.69644,     0.69348,     0.69237,     0.68978,     0.68516,     0.68368,     0.68072,     0.68035,     0.67536,     0.67167,     0.67129,     0.66728,     0.66642,\n",
       "            0.66371,     0.66296,      0.6589,     0.65502,     0.65428,     0.65021,     0.64824,     0.64375,     0.64337,     0.63857,     0.63322,     0.63247,     0.62841,     0.62343,     0.62231,     0.61936,     0.61894,       0.614,     0.61362,     0.60956,     0.60457,     0.60419,     0.59857,\n",
       "             0.5981,     0.59551,     0.59402,     0.58646,     0.58056,     0.58004,     0.57704,     0.57629,     0.57352,     0.57093,     0.56484,     0.56262,     0.55964,       0.558,     0.55504,     0.54858,     0.54673,     0.54149,     0.53806,     0.53547,     0.52864,      0.5279,     0.52445,\n",
       "             0.5218,     0.51884,     0.51091,     0.50854,     0.50407,     0.50001,      0.4954,     0.49133,     0.48488,      0.4819,     0.47878,     0.47619,     0.47194,     0.46635,      0.4629,     0.45681,     0.45385,     0.45153,     0.44849,     0.44351,      0.4419,     0.43704,     0.43445,\n",
       "            0.43058,     0.42782,     0.42374,     0.41655,     0.40935,     0.40712,     0.40546,     0.40251,     0.39826,     0.39636,     0.39143,     0.38607,     0.38267,     0.37961,     0.37426,     0.37082,     0.36632,     0.36244,     0.35824,      0.3545,     0.34709,     0.34379,     0.33924,\n",
       "            0.33898,     0.33197,     0.33141,     0.32827,     0.32307,     0.31904,      0.3153,     0.31331,     0.30649,     0.30345,     0.29615,     0.29273,     0.28969,     0.28544,     0.28383,     0.27547,     0.27237,     0.27048,     0.26644,     0.26309,     0.25608,     0.25164,     0.24888,\n",
       "             0.2424,     0.23817,     0.23241,     0.23116,     0.22758,      0.2245,     0.21907,     0.21785,      0.2124,     0.20899,     0.20279,      0.2016,     0.19685,     0.19385,     0.18908,     0.18517,     0.18388,     0.17778,     0.17132,     0.16468,     0.16283,     0.15837,     0.15637,\n",
       "            0.14949,     0.14253,     0.13987,      0.1369,     0.13495,     0.13273,     0.12848,     0.12504,     0.12023,     0.11593,     0.11393,     0.10872,     0.10478,     0.10098,    0.095066,    0.089897,    0.087291,    0.083588,    0.079932,    0.079681,    0.076164,    0.071971,     0.06652,\n",
       "           0.063212,     0.06172,    0.059491,    0.055565,    0.055313,    0.053909,    0.053106,    0.050187,    0.046455,    0.043314,     0.04092,    0.038137,    0.036286,    0.033496,    0.031846,    0.029406,    0.026669,    0.024633,    0.022718,    0.020858,    0.020457,    0.018978,    0.017586,\n",
       "           0.017208,    0.016462,    0.015957,     0.01497,    0.014224,    0.013555,    0.013367,    0.012354,    0.010502,   0.0093878,   0.0087088,   0.0084482,   0.0073336,   0.0069559,   0.0065782,   0.0050319,   0.0035396,   0.0025127,   0.0024183,   0.0023239,   0.0022295,   0.0020089,    0.001346,\n",
       "           0.001014,  0.00076225,   0.0006803,  0.00061736,  0.00055441,  0.00049146,  0.00042852,           0,           0,           0,           0,           0,           0,           0,           0,           0,           0,           0,           0,           0,           0,           0,           0,\n",
       "                  0,           0,           0,           0,           0,           0,           0,           0,           0,           0,           0,           0,           0,           0,           0,           0,           0,           0,           0,           0,           0,           0,           0,\n",
       "                  0,           0,           0,           0,           0,           0,           0,           0,           0,           0,           0,           0,           0,           0,           0,           0,           0,           0,           0,           0,           0,           0,           0,\n",
       "                  0,           0,           0,           0,           0,           0,           0,           0,           0,           0,           0,           0,           0,           0,           0,           0,           0,           0,           0,           0,           0,           0,           0,\n",
       "                  0,           0,           0,           0,           0,           0,           0,           0,           0,           0,           0,           0,           0,           0,           0,           0,           0,           0,           0,           0,           0,           0,           0,\n",
       "                  0,           0,           0,           0,           0,           0,           0,           0,           0,           0,           0]]), 'Confidence', 'Recall']]\n",
       "fitness: 0.6388465352923147\n",
       "keys: ['metrics/precision(B)', 'metrics/recall(B)', 'metrics/mAP50(B)', 'metrics/mAP50-95(B)']\n",
       "maps: array([    0.60117])\n",
       "names: {0: 'class1'}\n",
       "plot: True\n",
       "results_dict: {'metrics/precision(B)': 0.9501807263366925, 'metrics/recall(B)': 0.9476787030213707, 'metrics/mAP50(B)': 0.9779235066748053, 'metrics/mAP50-95(B)': 0.6011713162498157, 'fitness': 0.6388465352923147}\n",
       "save_dir: WindowsPath('runs/detect/train2')\n",
       "speed: {'preprocess': 0.08008625752524363, 'inference': 0.7623080080916381, 'loss': 0.0, 'postprocess': 0.4998066208579323}\n",
       "task: 'detect'"
      ]
     },
     "execution_count": 11,
     "metadata": {},
     "output_type": "execute_result"
    }
   ],
   "source": [
    "model.train(data=\"dataset.yaml\", imgsz=512, batch=32, epochs=20, workers=1, device=0)"
   ]
  },
  {
   "cell_type": "code",
   "execution_count": 13,
   "metadata": {},
   "outputs": [
    {
     "name": "stdout",
     "output_type": "stream",
     "text": [
      "Ultralytics 8.3.56  Python-3.12.3 torch-2.4.1 CUDA:0 (NVIDIA GeForce RTX 3070, 8192MiB)\n",
      "YOLO11n summary (fused): 238 layers, 2,582,347 parameters, 0 gradients, 6.3 GFLOPs\n"
     ]
    },
    {
     "name": "stderr",
     "output_type": "stream",
     "text": [
      "\u001b[34m\u001b[1mval: \u001b[0mScanning D:\\Datasets\\YOLO_Dataset\\test\\labels... 5370 images, 2670 backgrounds, 0 corrupt: 100%|██████████| 5370/5370 [00:05<00:00, 1012.44it/s]\n"
     ]
    },
    {
     "name": "stdout",
     "output_type": "stream",
     "text": [
      "\u001b[34m\u001b[1mval: \u001b[0mNew cache created: D:\\Datasets\\YOLO_Dataset\\test\\labels.cache\n"
     ]
    },
    {
     "name": "stderr",
     "output_type": "stream",
     "text": [
      "                 Class     Images  Instances      Box(P          R      mAP50  mAP50-95): 100%|██████████| 336/336 [00:19<00:00, 17.40it/s]\n"
     ]
    },
    {
     "name": "stdout",
     "output_type": "stream",
     "text": [
      "                   all       5370       2700      0.938      0.938      0.971      0.586\n",
      "Speed: 0.1ms preprocess, 1.4ms inference, 0.0ms loss, 0.5ms postprocess per image\n",
      "Results saved to \u001b[1mruns\\detect\\val\u001b[0m\n"
     ]
    },
    {
     "data": {
      "text/plain": [
       "ultralytics.utils.metrics.DetMetrics object with attributes:\n",
       "\n",
       "ap_class_index: array([0])\n",
       "box: ultralytics.utils.metrics.Metric object\n",
       "confusion_matrix: <ultralytics.utils.metrics.ConfusionMatrix object at 0x0000018BE885BB30>\n",
       "curves: ['Precision-Recall(B)', 'F1-Confidence(B)', 'Precision-Confidence(B)', 'Recall-Confidence(B)']\n",
       "curves_results: [[array([          0,    0.001001,    0.002002,    0.003003,    0.004004,    0.005005,    0.006006,    0.007007,    0.008008,    0.009009,     0.01001,    0.011011,    0.012012,    0.013013,    0.014014,    0.015015,    0.016016,    0.017017,    0.018018,    0.019019,     0.02002,    0.021021,    0.022022,    0.023023,\n",
       "          0.024024,    0.025025,    0.026026,    0.027027,    0.028028,    0.029029,     0.03003,    0.031031,    0.032032,    0.033033,    0.034034,    0.035035,    0.036036,    0.037037,    0.038038,    0.039039,     0.04004,    0.041041,    0.042042,    0.043043,    0.044044,    0.045045,    0.046046,    0.047047,\n",
       "          0.048048,    0.049049,     0.05005,    0.051051,    0.052052,    0.053053,    0.054054,    0.055055,    0.056056,    0.057057,    0.058058,    0.059059,     0.06006,    0.061061,    0.062062,    0.063063,    0.064064,    0.065065,    0.066066,    0.067067,    0.068068,    0.069069,     0.07007,    0.071071,\n",
       "          0.072072,    0.073073,    0.074074,    0.075075,    0.076076,    0.077077,    0.078078,    0.079079,     0.08008,    0.081081,    0.082082,    0.083083,    0.084084,    0.085085,    0.086086,    0.087087,    0.088088,    0.089089,     0.09009,    0.091091,    0.092092,    0.093093,    0.094094,    0.095095,\n",
       "          0.096096,    0.097097,    0.098098,    0.099099,      0.1001,      0.1011,      0.1021,      0.1031,      0.1041,     0.10511,     0.10611,     0.10711,     0.10811,     0.10911,     0.11011,     0.11111,     0.11211,     0.11311,     0.11411,     0.11512,     0.11612,     0.11712,     0.11812,     0.11912,\n",
       "           0.12012,     0.12112,     0.12212,     0.12312,     0.12412,     0.12513,     0.12613,     0.12713,     0.12813,     0.12913,     0.13013,     0.13113,     0.13213,     0.13313,     0.13413,     0.13514,     0.13614,     0.13714,     0.13814,     0.13914,     0.14014,     0.14114,     0.14214,     0.14314,\n",
       "           0.14414,     0.14515,     0.14615,     0.14715,     0.14815,     0.14915,     0.15015,     0.15115,     0.15215,     0.15315,     0.15415,     0.15516,     0.15616,     0.15716,     0.15816,     0.15916,     0.16016,     0.16116,     0.16216,     0.16316,     0.16416,     0.16517,     0.16617,     0.16717,\n",
       "           0.16817,     0.16917,     0.17017,     0.17117,     0.17217,     0.17317,     0.17417,     0.17518,     0.17618,     0.17718,     0.17818,     0.17918,     0.18018,     0.18118,     0.18218,     0.18318,     0.18418,     0.18519,     0.18619,     0.18719,     0.18819,     0.18919,     0.19019,     0.19119,\n",
       "           0.19219,     0.19319,     0.19419,      0.1952,      0.1962,      0.1972,      0.1982,      0.1992,      0.2002,      0.2012,      0.2022,      0.2032,      0.2042,     0.20521,     0.20621,     0.20721,     0.20821,     0.20921,     0.21021,     0.21121,     0.21221,     0.21321,     0.21421,     0.21522,\n",
       "           0.21622,     0.21722,     0.21822,     0.21922,     0.22022,     0.22122,     0.22222,     0.22322,     0.22422,     0.22523,     0.22623,     0.22723,     0.22823,     0.22923,     0.23023,     0.23123,     0.23223,     0.23323,     0.23423,     0.23524,     0.23624,     0.23724,     0.23824,     0.23924,\n",
       "           0.24024,     0.24124,     0.24224,     0.24324,     0.24424,     0.24525,     0.24625,     0.24725,     0.24825,     0.24925,     0.25025,     0.25125,     0.25225,     0.25325,     0.25425,     0.25526,     0.25626,     0.25726,     0.25826,     0.25926,     0.26026,     0.26126,     0.26226,     0.26326,\n",
       "           0.26426,     0.26527,     0.26627,     0.26727,     0.26827,     0.26927,     0.27027,     0.27127,     0.27227,     0.27327,     0.27427,     0.27528,     0.27628,     0.27728,     0.27828,     0.27928,     0.28028,     0.28128,     0.28228,     0.28328,     0.28428,     0.28529,     0.28629,     0.28729,\n",
       "           0.28829,     0.28929,     0.29029,     0.29129,     0.29229,     0.29329,     0.29429,      0.2953,      0.2963,      0.2973,      0.2983,      0.2993,      0.3003,      0.3013,      0.3023,      0.3033,      0.3043,     0.30531,     0.30631,     0.30731,     0.30831,     0.30931,     0.31031,     0.31131,\n",
       "           0.31231,     0.31331,     0.31431,     0.31532,     0.31632,     0.31732,     0.31832,     0.31932,     0.32032,     0.32132,     0.32232,     0.32332,     0.32432,     0.32533,     0.32633,     0.32733,     0.32833,     0.32933,     0.33033,     0.33133,     0.33233,     0.33333,     0.33433,     0.33534,\n",
       "           0.33634,     0.33734,     0.33834,     0.33934,     0.34034,     0.34134,     0.34234,     0.34334,     0.34434,     0.34535,     0.34635,     0.34735,     0.34835,     0.34935,     0.35035,     0.35135,     0.35235,     0.35335,     0.35435,     0.35536,     0.35636,     0.35736,     0.35836,     0.35936,\n",
       "           0.36036,     0.36136,     0.36236,     0.36336,     0.36436,     0.36537,     0.36637,     0.36737,     0.36837,     0.36937,     0.37037,     0.37137,     0.37237,     0.37337,     0.37437,     0.37538,     0.37638,     0.37738,     0.37838,     0.37938,     0.38038,     0.38138,     0.38238,     0.38338,\n",
       "           0.38438,     0.38539,     0.38639,     0.38739,     0.38839,     0.38939,     0.39039,     0.39139,     0.39239,     0.39339,     0.39439,      0.3954,      0.3964,      0.3974,      0.3984,      0.3994,      0.4004,      0.4014,      0.4024,      0.4034,      0.4044,     0.40541,     0.40641,     0.40741,\n",
       "           0.40841,     0.40941,     0.41041,     0.41141,     0.41241,     0.41341,     0.41441,     0.41542,     0.41642,     0.41742,     0.41842,     0.41942,     0.42042,     0.42142,     0.42242,     0.42342,     0.42442,     0.42543,     0.42643,     0.42743,     0.42843,     0.42943,     0.43043,     0.43143,\n",
       "           0.43243,     0.43343,     0.43443,     0.43544,     0.43644,     0.43744,     0.43844,     0.43944,     0.44044,     0.44144,     0.44244,     0.44344,     0.44444,     0.44545,     0.44645,     0.44745,     0.44845,     0.44945,     0.45045,     0.45145,     0.45245,     0.45345,     0.45445,     0.45546,\n",
       "           0.45646,     0.45746,     0.45846,     0.45946,     0.46046,     0.46146,     0.46246,     0.46346,     0.46446,     0.46547,     0.46647,     0.46747,     0.46847,     0.46947,     0.47047,     0.47147,     0.47247,     0.47347,     0.47447,     0.47548,     0.47648,     0.47748,     0.47848,     0.47948,\n",
       "           0.48048,     0.48148,     0.48248,     0.48348,     0.48448,     0.48549,     0.48649,     0.48749,     0.48849,     0.48949,     0.49049,     0.49149,     0.49249,     0.49349,     0.49449,      0.4955,      0.4965,      0.4975,      0.4985,      0.4995,      0.5005,      0.5015,      0.5025,      0.5035,\n",
       "            0.5045,     0.50551,     0.50651,     0.50751,     0.50851,     0.50951,     0.51051,     0.51151,     0.51251,     0.51351,     0.51451,     0.51552,     0.51652,     0.51752,     0.51852,     0.51952,     0.52052,     0.52152,     0.52252,     0.52352,     0.52452,     0.52553,     0.52653,     0.52753,\n",
       "           0.52853,     0.52953,     0.53053,     0.53153,     0.53253,     0.53353,     0.53453,     0.53554,     0.53654,     0.53754,     0.53854,     0.53954,     0.54054,     0.54154,     0.54254,     0.54354,     0.54454,     0.54555,     0.54655,     0.54755,     0.54855,     0.54955,     0.55055,     0.55155,\n",
       "           0.55255,     0.55355,     0.55455,     0.55556,     0.55656,     0.55756,     0.55856,     0.55956,     0.56056,     0.56156,     0.56256,     0.56356,     0.56456,     0.56557,     0.56657,     0.56757,     0.56857,     0.56957,     0.57057,     0.57157,     0.57257,     0.57357,     0.57457,     0.57558,\n",
       "           0.57658,     0.57758,     0.57858,     0.57958,     0.58058,     0.58158,     0.58258,     0.58358,     0.58458,     0.58559,     0.58659,     0.58759,     0.58859,     0.58959,     0.59059,     0.59159,     0.59259,     0.59359,     0.59459,      0.5956,      0.5966,      0.5976,      0.5986,      0.5996,\n",
       "            0.6006,      0.6016,      0.6026,      0.6036,      0.6046,     0.60561,     0.60661,     0.60761,     0.60861,     0.60961,     0.61061,     0.61161,     0.61261,     0.61361,     0.61461,     0.61562,     0.61662,     0.61762,     0.61862,     0.61962,     0.62062,     0.62162,     0.62262,     0.62362,\n",
       "           0.62462,     0.62563,     0.62663,     0.62763,     0.62863,     0.62963,     0.63063,     0.63163,     0.63263,     0.63363,     0.63463,     0.63564,     0.63664,     0.63764,     0.63864,     0.63964,     0.64064,     0.64164,     0.64264,     0.64364,     0.64464,     0.64565,     0.64665,     0.64765,\n",
       "           0.64865,     0.64965,     0.65065,     0.65165,     0.65265,     0.65365,     0.65465,     0.65566,     0.65666,     0.65766,     0.65866,     0.65966,     0.66066,     0.66166,     0.66266,     0.66366,     0.66466,     0.66567,     0.66667,     0.66767,     0.66867,     0.66967,     0.67067,     0.67167,\n",
       "           0.67267,     0.67367,     0.67467,     0.67568,     0.67668,     0.67768,     0.67868,     0.67968,     0.68068,     0.68168,     0.68268,     0.68368,     0.68468,     0.68569,     0.68669,     0.68769,     0.68869,     0.68969,     0.69069,     0.69169,     0.69269,     0.69369,     0.69469,      0.6957,\n",
       "            0.6967,      0.6977,      0.6987,      0.6997,      0.7007,      0.7017,      0.7027,      0.7037,      0.7047,     0.70571,     0.70671,     0.70771,     0.70871,     0.70971,     0.71071,     0.71171,     0.71271,     0.71371,     0.71471,     0.71572,     0.71672,     0.71772,     0.71872,     0.71972,\n",
       "           0.72072,     0.72172,     0.72272,     0.72372,     0.72472,     0.72573,     0.72673,     0.72773,     0.72873,     0.72973,     0.73073,     0.73173,     0.73273,     0.73373,     0.73473,     0.73574,     0.73674,     0.73774,     0.73874,     0.73974,     0.74074,     0.74174,     0.74274,     0.74374,\n",
       "           0.74474,     0.74575,     0.74675,     0.74775,     0.74875,     0.74975,     0.75075,     0.75175,     0.75275,     0.75375,     0.75475,     0.75576,     0.75676,     0.75776,     0.75876,     0.75976,     0.76076,     0.76176,     0.76276,     0.76376,     0.76476,     0.76577,     0.76677,     0.76777,\n",
       "           0.76877,     0.76977,     0.77077,     0.77177,     0.77277,     0.77377,     0.77477,     0.77578,     0.77678,     0.77778,     0.77878,     0.77978,     0.78078,     0.78178,     0.78278,     0.78378,     0.78478,     0.78579,     0.78679,     0.78779,     0.78879,     0.78979,     0.79079,     0.79179,\n",
       "           0.79279,     0.79379,     0.79479,      0.7958,      0.7968,      0.7978,      0.7988,      0.7998,      0.8008,      0.8018,      0.8028,      0.8038,      0.8048,     0.80581,     0.80681,     0.80781,     0.80881,     0.80981,     0.81081,     0.81181,     0.81281,     0.81381,     0.81481,     0.81582,\n",
       "           0.81682,     0.81782,     0.81882,     0.81982,     0.82082,     0.82182,     0.82282,     0.82382,     0.82482,     0.82583,     0.82683,     0.82783,     0.82883,     0.82983,     0.83083,     0.83183,     0.83283,     0.83383,     0.83483,     0.83584,     0.83684,     0.83784,     0.83884,     0.83984,\n",
       "           0.84084,     0.84184,     0.84284,     0.84384,     0.84484,     0.84585,     0.84685,     0.84785,     0.84885,     0.84985,     0.85085,     0.85185,     0.85285,     0.85385,     0.85485,     0.85586,     0.85686,     0.85786,     0.85886,     0.85986,     0.86086,     0.86186,     0.86286,     0.86386,\n",
       "           0.86486,     0.86587,     0.86687,     0.86787,     0.86887,     0.86987,     0.87087,     0.87187,     0.87287,     0.87387,     0.87487,     0.87588,     0.87688,     0.87788,     0.87888,     0.87988,     0.88088,     0.88188,     0.88288,     0.88388,     0.88488,     0.88589,     0.88689,     0.88789,\n",
       "           0.88889,     0.88989,     0.89089,     0.89189,     0.89289,     0.89389,     0.89489,      0.8959,      0.8969,      0.8979,      0.8989,      0.8999,      0.9009,      0.9019,      0.9029,      0.9039,      0.9049,     0.90591,     0.90691,     0.90791,     0.90891,     0.90991,     0.91091,     0.91191,\n",
       "           0.91291,     0.91391,     0.91491,     0.91592,     0.91692,     0.91792,     0.91892,     0.91992,     0.92092,     0.92192,     0.92292,     0.92392,     0.92492,     0.92593,     0.92693,     0.92793,     0.92893,     0.92993,     0.93093,     0.93193,     0.93293,     0.93393,     0.93493,     0.93594,\n",
       "           0.93694,     0.93794,     0.93894,     0.93994,     0.94094,     0.94194,     0.94294,     0.94394,     0.94494,     0.94595,     0.94695,     0.94795,     0.94895,     0.94995,     0.95095,     0.95195,     0.95295,     0.95395,     0.95495,     0.95596,     0.95696,     0.95796,     0.95896,     0.95996,\n",
       "           0.96096,     0.96196,     0.96296,     0.96396,     0.96496,     0.96597,     0.96697,     0.96797,     0.96897,     0.96997,     0.97097,     0.97197,     0.97297,     0.97397,     0.97497,     0.97598,     0.97698,     0.97798,     0.97898,     0.97998,     0.98098,     0.98198,     0.98298,     0.98398,\n",
       "           0.98498,     0.98599,     0.98699,     0.98799,     0.98899,     0.98999,     0.99099,     0.99199,     0.99299,     0.99399,     0.99499,       0.996,       0.997,       0.998,       0.999,           1]), array([[          1,           1,           1,           1,           1,           1,           1,           1,           1,           1,           1,           1,           1,           1,           1,           1,           1,           1,           1,           1,           1,           1,           1,\n",
       "                  1,           1,           1,           1,           1,           1,           1,           1,           1,           1,           1,           1,           1,           1,           1,           1,           1,           1,           1,           1,           1,           1,           1,\n",
       "                  1,           1,           1,           1,           1,           1,           1,           1,           1,           1,           1,           1,           1,           1,           1,           1,           1,           1,           1,           1,           1,           1,           1,\n",
       "                  1,           1,           1,           1,           1,           1,           1,           1,           1,           1,           1,           1,           1,           1,           1,           1,           1,           1,           1,           1,           1,           1,           1,\n",
       "                  1,           1,           1,           1,           1,           1,           1,           1,           1,           1,           1,           1,           1,           1,           1,           1,           1,           1,           1,           1,           1,           1,           1,\n",
       "                  1,           1,           1,           1,           1,           1,           1,           1,           1,           1,           1,           1,           1,           1,           1,           1,           1,           1,           1,           1,           1,           1,           1,\n",
       "                  1,           1,           1,           1,           1,           1,           1,           1,           1,           1,           1,           1,           1,           1,           1,           1,           1,           1,           1,           1,           1,           1,           1,\n",
       "                  1,           1,           1,           1,           1,           1,     0.99873,     0.99873,     0.99873,     0.99873,     0.99873,     0.99873,     0.99873,     0.99873,     0.99873,     0.99873,     0.99873,     0.99873,     0.99873,     0.99873,     0.99873,     0.99873,     0.99873,\n",
       "            0.99873,     0.99873,     0.99873,     0.99873,     0.99873,     0.99873,     0.99873,     0.99873,     0.99873,     0.99873,     0.99873,     0.99873,     0.99873,     0.99873,     0.99873,     0.99873,     0.99873,     0.99873,     0.99873,     0.99873,     0.99873,     0.99873,     0.99873,\n",
       "            0.99873,     0.99873,     0.99873,     0.99873,     0.99873,     0.99873,     0.99873,     0.99873,     0.99873,     0.99873,     0.99873,     0.99873,     0.99873,     0.99873,     0.99873,     0.99873,     0.99873,     0.99873,     0.99873,     0.99873,     0.99873,     0.99873,     0.99873,\n",
       "            0.99873,     0.99873,     0.99873,     0.99873,     0.99873,     0.99873,     0.99873,     0.99873,     0.99873,     0.99873,     0.99873,     0.99873,     0.99873,     0.99873,     0.99873,     0.99873,     0.99873,     0.99873,     0.99873,     0.99873,     0.99873,     0.99873,     0.99873,\n",
       "            0.99873,     0.99873,     0.99873,     0.99873,     0.99873,     0.99873,     0.99873,     0.99873,     0.99873,     0.99873,     0.99873,     0.99873,     0.99873,     0.99873,     0.99873,     0.99873,     0.99873,     0.99873,     0.99873,     0.99873,     0.99873,     0.99873,     0.99873,\n",
       "            0.99873,     0.99873,     0.99873,     0.99873,     0.99873,     0.99873,     0.99873,     0.99873,     0.99873,     0.99873,     0.99873,     0.99873,     0.99873,     0.99873,     0.99873,     0.99789,     0.99789,     0.99789,     0.99789,     0.99789,     0.99789,     0.99789,     0.99789,\n",
       "            0.99789,     0.99789,     0.99789,     0.99789,     0.99789,     0.99789,     0.99789,     0.99789,     0.99789,     0.99789,     0.99789,     0.99789,     0.99789,     0.99789,     0.99789,     0.99789,     0.99789,     0.99789,     0.99789,     0.99789,     0.99789,     0.99789,     0.99789,\n",
       "            0.99789,     0.99789,     0.99789,     0.99789,     0.99789,     0.99789,     0.99789,     0.99789,     0.99789,     0.99789,     0.99789,     0.99789,     0.99789,     0.99789,     0.99789,     0.99789,     0.99789,     0.99789,     0.99789,     0.99789,     0.99789,     0.99789,     0.99789,\n",
       "            0.99789,     0.99789,     0.99789,     0.99789,     0.99789,     0.99708,     0.99708,     0.99708,     0.99708,     0.99708,     0.99708,     0.99708,     0.99708,     0.99708,     0.99708,     0.99708,     0.99708,     0.99708,     0.99708,     0.99708,     0.99708,     0.99708,     0.99708,\n",
       "            0.99708,     0.99708,     0.99708,     0.99708,     0.99708,     0.99708,     0.99708,     0.99708,     0.99708,     0.99708,     0.99708,     0.99708,      0.9965,      0.9965,      0.9965,      0.9965,      0.9965,      0.9965,      0.9965,      0.9965,      0.9965,      0.9965,      0.9965,\n",
       "             0.9965,      0.9965,      0.9965,      0.9965,      0.9965,      0.9965,      0.9965,      0.9965,      0.9965,      0.9965,      0.9965,      0.9965,      0.9965,      0.9965,      0.9965,      0.9965,      0.9965,      0.9965,      0.9965,      0.9965,      0.9965,      0.9965,      0.9965,\n",
       "             0.9965,      0.9965,      0.9965,      0.9965,      0.9965,      0.9965,      0.9965,      0.9965,      0.9957,      0.9957,      0.9957,      0.9957,      0.9957,      0.9957,      0.9957,     0.99536,     0.99536,     0.99536,     0.99536,     0.99536,     0.99536,     0.99536,     0.99536,\n",
       "            0.99536,     0.99536,     0.99536,     0.99536,     0.99536,     0.99536,     0.99536,     0.99536,     0.99536,     0.99536,     0.99536,     0.99536,     0.99536,     0.99536,     0.99536,     0.99536,     0.99536,     0.99536,     0.99536,     0.99536,     0.99536,     0.99536,     0.99536,\n",
       "            0.99536,     0.99536,     0.99536,     0.99536,     0.99536,     0.99536,     0.99536,     0.99536,     0.99536,     0.99536,     0.99536,     0.99536,     0.99536,     0.99536,     0.99536,     0.99536,     0.99536,     0.99536,     0.99536,     0.99536,     0.99536,     0.99536,     0.99536,\n",
       "            0.99536,     0.99536,     0.99536,     0.99536,     0.99536,     0.99536,     0.99536,     0.99536,     0.99536,     0.99536,     0.99536,     0.99536,     0.99536,     0.99536,     0.99536,     0.99536,     0.99536,     0.99536,     0.99536,     0.99536,     0.99536,     0.99536,     0.99536,\n",
       "            0.99536,     0.99536,     0.99536,     0.99536,     0.99536,     0.99536,     0.99536,     0.99536,     0.99536,     0.99536,     0.99536,     0.99536,     0.99536,     0.99536,     0.99536,     0.99536,     0.99536,     0.99536,     0.99536,     0.99536,     0.99536,     0.99536,     0.99536,\n",
       "            0.99536,     0.99536,     0.99536,     0.99536,     0.99536,     0.99536,     0.99536,     0.99536,     0.99536,     0.99536,     0.99536,     0.99536,     0.99536,     0.99536,     0.99536,     0.99536,     0.99536,     0.99536,     0.99536,     0.99536,     0.99536,     0.99536,     0.99536,\n",
       "            0.99536,     0.99536,     0.99536,     0.99475,     0.99475,     0.99475,     0.99475,     0.99475,     0.99475,     0.99429,     0.99429,     0.99429,     0.99429,     0.99429,     0.99429,     0.99429,     0.99429,     0.99429,     0.99429,     0.99429,     0.99429,     0.99429,     0.99429,\n",
       "            0.99429,     0.99429,     0.99429,     0.99429,     0.99429,     0.99376,     0.99376,     0.99376,     0.99376,     0.99376,     0.99376,     0.99376,     0.99376,     0.99376,     0.99376,     0.99337,     0.99337,     0.99337,     0.99337,     0.99337,     0.99337,     0.99337,     0.99337,\n",
       "            0.99337,     0.99337,     0.99337,     0.99337,     0.99337,     0.99337,     0.99337,     0.99337,     0.99337,     0.99337,     0.99337,     0.99337,     0.99337,     0.99337,     0.99337,     0.99337,     0.99337,     0.99337,     0.99337,     0.99337,     0.99337,     0.99337,     0.99337,\n",
       "            0.99337,     0.99337,     0.99337,     0.99337,     0.99337,     0.99337,     0.99337,     0.99337,     0.99337,     0.99337,     0.99337,     0.99337,     0.99337,     0.99337,     0.99337,     0.99337,     0.99337,     0.99337,     0.99337,     0.99337,     0.99337,     0.99337,     0.99337,\n",
       "            0.99337,     0.99337,     0.99337,     0.99337,     0.99337,     0.99337,     0.99337,     0.99337,     0.99337,     0.99337,     0.99337,     0.99337,     0.99337,     0.99337,     0.99337,     0.99337,     0.99337,     0.99337,     0.99337,     0.99337,     0.99337,     0.99337,     0.99289,\n",
       "            0.99289,     0.99289,     0.99289,     0.99289,     0.99289,      0.9924,      0.9924,      0.9924,      0.9924,      0.9924,     0.99199,     0.99199,     0.99199,     0.99199,     0.99199,     0.99199,     0.99199,     0.99199,     0.99199,     0.99199,     0.99199,     0.99157,     0.99157,\n",
       "            0.99157,     0.99157,     0.99157,     0.99157,     0.99157,     0.99157,     0.99157,     0.99114,     0.99114,     0.99114,     0.99114,     0.99114,     0.99114,     0.99114,     0.99073,     0.99073,     0.99073,     0.99073,     0.99073,     0.99073,     0.99073,     0.99073,     0.99023,\n",
       "            0.98978,     0.98978,     0.98978,     0.98978,     0.98928,     0.98831,     0.98831,     0.98736,     0.98736,     0.98736,     0.98697,     0.98697,     0.98697,     0.98697,     0.98697,     0.98697,     0.98651,     0.98651,     0.98617,     0.98617,     0.98617,     0.98617,     0.98617,\n",
       "            0.98617,     0.98617,     0.98617,     0.98581,     0.98581,     0.98581,     0.98581,     0.98581,     0.98581,     0.98581,     0.98539,     0.98539,     0.98539,     0.98493,     0.98447,     0.98409,     0.98409,     0.98409,     0.98409,     0.98409,     0.98376,     0.98376,     0.98376,\n",
       "            0.98376,     0.98376,     0.98376,     0.98349,     0.98349,     0.98349,     0.98349,     0.98349,     0.98349,     0.98349,     0.98349,     0.98349,     0.98349,     0.98311,     0.98311,     0.98311,     0.98311,     0.98221,      0.9819,      0.9819,      0.9819,      0.9819,      0.9819,\n",
       "             0.9819,     0.98165,     0.98165,     0.98165,     0.98165,     0.98165,     0.98165,     0.98165,     0.98165,     0.98165,     0.98133,     0.98133,     0.98133,     0.98133,     0.98133,     0.98133,     0.98091,     0.98054,     0.98054,     0.98054,     0.98018,     0.98018,     0.98018,\n",
       "            0.98018,     0.97978,     0.97897,     0.97897,     0.97897,     0.97731,     0.97731,     0.97731,     0.97691,      0.9765,     0.97612,     0.97612,     0.97574,     0.97574,      0.9741,      0.9741,      0.9741,     0.97288,     0.97256,     0.97256,     0.97256,     0.97256,     0.97217,\n",
       "            0.97185,     0.97185,     0.97185,     0.97147,     0.97065,     0.97028,     0.97001,     0.97001,     0.97001,     0.97001,     0.96963,     0.96937,     0.96937,     0.96937,     0.96937,     0.96937,      0.9688,      0.9688,      0.9688,      0.9688,      0.9688,      0.9688,      0.9688,\n",
       "            0.96843,     0.96813,     0.96813,     0.96813,     0.96776,     0.96742,     0.96704,     0.96667,     0.96632,     0.96595,     0.96559,     0.96522,     0.96485,     0.96452,     0.96452,     0.96417,     0.96314,     0.96314,     0.96314,     0.96314,     0.96251,     0.96251,     0.96251,\n",
       "            0.96223,     0.96223,     0.96223,     0.96191,     0.96191,     0.96171,     0.96171,     0.96171,     0.96171,      0.9606,     0.95986,     0.95949,     0.95917,      0.9589,      0.9589,      0.9589,     0.95787,     0.95787,     0.95736,     0.95736,     0.95736,     0.95736,     0.95736,\n",
       "            0.95736,     0.95562,     0.95562,     0.95562,     0.95499,     0.95499,     0.95405,     0.95405,     0.95405,     0.95405,     0.95334,     0.95273,     0.95273,     0.95201,     0.95174,     0.95174,     0.95108,     0.95059,     0.95059,     0.95059,     0.95059,     0.95059,     0.95029,\n",
       "            0.95002,     0.95002,     0.94897,     0.94833,     0.94801,     0.94629,       0.946,     0.94501,     0.94501,     0.94434,     0.94369,      0.9427,     0.94239,     0.94076,     0.94076,     0.93908,     0.93843,     0.93713,     0.93579,      0.9355,     0.93316,     0.93085,     0.93032,\n",
       "            0.93032,     0.92766,     0.92542,     0.92377,     0.91891,     0.91634,     0.91382,     0.90938,     0.90656,     0.90408,     0.90358,     0.90017,     0.89965,     0.89695,      0.8933,     0.88942,     0.88706,      0.8851,     0.88458,      0.8811,     0.87673,     0.86784,     0.86419,\n",
       "             0.8586,     0.85119,     0.84283,     0.83969,     0.81606,     0.81194,     0.79157,     0.78134,     0.77761,      0.7417,     0.73625,     0.72237,     0.70188,     0.67933,     0.65716,     0.59117,     0.56864,     0.52272,     0.48718,     0.43112,     0.33221,     0.27974,     0.25643,\n",
       "            0.23311,      0.2098,     0.18649,     0.16318,     0.13987,     0.11656,    0.093245,    0.069934,    0.046623,    0.023311,           0]]), 'Recall', 'Precision'], [array([          0,    0.001001,    0.002002,    0.003003,    0.004004,    0.005005,    0.006006,    0.007007,    0.008008,    0.009009,     0.01001,    0.011011,    0.012012,    0.013013,    0.014014,    0.015015,    0.016016,    0.017017,    0.018018,    0.019019,     0.02002,    0.021021,    0.022022,    0.023023,\n",
       "          0.024024,    0.025025,    0.026026,    0.027027,    0.028028,    0.029029,     0.03003,    0.031031,    0.032032,    0.033033,    0.034034,    0.035035,    0.036036,    0.037037,    0.038038,    0.039039,     0.04004,    0.041041,    0.042042,    0.043043,    0.044044,    0.045045,    0.046046,    0.047047,\n",
       "          0.048048,    0.049049,     0.05005,    0.051051,    0.052052,    0.053053,    0.054054,    0.055055,    0.056056,    0.057057,    0.058058,    0.059059,     0.06006,    0.061061,    0.062062,    0.063063,    0.064064,    0.065065,    0.066066,    0.067067,    0.068068,    0.069069,     0.07007,    0.071071,\n",
       "          0.072072,    0.073073,    0.074074,    0.075075,    0.076076,    0.077077,    0.078078,    0.079079,     0.08008,    0.081081,    0.082082,    0.083083,    0.084084,    0.085085,    0.086086,    0.087087,    0.088088,    0.089089,     0.09009,    0.091091,    0.092092,    0.093093,    0.094094,    0.095095,\n",
       "          0.096096,    0.097097,    0.098098,    0.099099,      0.1001,      0.1011,      0.1021,      0.1031,      0.1041,     0.10511,     0.10611,     0.10711,     0.10811,     0.10911,     0.11011,     0.11111,     0.11211,     0.11311,     0.11411,     0.11512,     0.11612,     0.11712,     0.11812,     0.11912,\n",
       "           0.12012,     0.12112,     0.12212,     0.12312,     0.12412,     0.12513,     0.12613,     0.12713,     0.12813,     0.12913,     0.13013,     0.13113,     0.13213,     0.13313,     0.13413,     0.13514,     0.13614,     0.13714,     0.13814,     0.13914,     0.14014,     0.14114,     0.14214,     0.14314,\n",
       "           0.14414,     0.14515,     0.14615,     0.14715,     0.14815,     0.14915,     0.15015,     0.15115,     0.15215,     0.15315,     0.15415,     0.15516,     0.15616,     0.15716,     0.15816,     0.15916,     0.16016,     0.16116,     0.16216,     0.16316,     0.16416,     0.16517,     0.16617,     0.16717,\n",
       "           0.16817,     0.16917,     0.17017,     0.17117,     0.17217,     0.17317,     0.17417,     0.17518,     0.17618,     0.17718,     0.17818,     0.17918,     0.18018,     0.18118,     0.18218,     0.18318,     0.18418,     0.18519,     0.18619,     0.18719,     0.18819,     0.18919,     0.19019,     0.19119,\n",
       "           0.19219,     0.19319,     0.19419,      0.1952,      0.1962,      0.1972,      0.1982,      0.1992,      0.2002,      0.2012,      0.2022,      0.2032,      0.2042,     0.20521,     0.20621,     0.20721,     0.20821,     0.20921,     0.21021,     0.21121,     0.21221,     0.21321,     0.21421,     0.21522,\n",
       "           0.21622,     0.21722,     0.21822,     0.21922,     0.22022,     0.22122,     0.22222,     0.22322,     0.22422,     0.22523,     0.22623,     0.22723,     0.22823,     0.22923,     0.23023,     0.23123,     0.23223,     0.23323,     0.23423,     0.23524,     0.23624,     0.23724,     0.23824,     0.23924,\n",
       "           0.24024,     0.24124,     0.24224,     0.24324,     0.24424,     0.24525,     0.24625,     0.24725,     0.24825,     0.24925,     0.25025,     0.25125,     0.25225,     0.25325,     0.25425,     0.25526,     0.25626,     0.25726,     0.25826,     0.25926,     0.26026,     0.26126,     0.26226,     0.26326,\n",
       "           0.26426,     0.26527,     0.26627,     0.26727,     0.26827,     0.26927,     0.27027,     0.27127,     0.27227,     0.27327,     0.27427,     0.27528,     0.27628,     0.27728,     0.27828,     0.27928,     0.28028,     0.28128,     0.28228,     0.28328,     0.28428,     0.28529,     0.28629,     0.28729,\n",
       "           0.28829,     0.28929,     0.29029,     0.29129,     0.29229,     0.29329,     0.29429,      0.2953,      0.2963,      0.2973,      0.2983,      0.2993,      0.3003,      0.3013,      0.3023,      0.3033,      0.3043,     0.30531,     0.30631,     0.30731,     0.30831,     0.30931,     0.31031,     0.31131,\n",
       "           0.31231,     0.31331,     0.31431,     0.31532,     0.31632,     0.31732,     0.31832,     0.31932,     0.32032,     0.32132,     0.32232,     0.32332,     0.32432,     0.32533,     0.32633,     0.32733,     0.32833,     0.32933,     0.33033,     0.33133,     0.33233,     0.33333,     0.33433,     0.33534,\n",
       "           0.33634,     0.33734,     0.33834,     0.33934,     0.34034,     0.34134,     0.34234,     0.34334,     0.34434,     0.34535,     0.34635,     0.34735,     0.34835,     0.34935,     0.35035,     0.35135,     0.35235,     0.35335,     0.35435,     0.35536,     0.35636,     0.35736,     0.35836,     0.35936,\n",
       "           0.36036,     0.36136,     0.36236,     0.36336,     0.36436,     0.36537,     0.36637,     0.36737,     0.36837,     0.36937,     0.37037,     0.37137,     0.37237,     0.37337,     0.37437,     0.37538,     0.37638,     0.37738,     0.37838,     0.37938,     0.38038,     0.38138,     0.38238,     0.38338,\n",
       "           0.38438,     0.38539,     0.38639,     0.38739,     0.38839,     0.38939,     0.39039,     0.39139,     0.39239,     0.39339,     0.39439,      0.3954,      0.3964,      0.3974,      0.3984,      0.3994,      0.4004,      0.4014,      0.4024,      0.4034,      0.4044,     0.40541,     0.40641,     0.40741,\n",
       "           0.40841,     0.40941,     0.41041,     0.41141,     0.41241,     0.41341,     0.41441,     0.41542,     0.41642,     0.41742,     0.41842,     0.41942,     0.42042,     0.42142,     0.42242,     0.42342,     0.42442,     0.42543,     0.42643,     0.42743,     0.42843,     0.42943,     0.43043,     0.43143,\n",
       "           0.43243,     0.43343,     0.43443,     0.43544,     0.43644,     0.43744,     0.43844,     0.43944,     0.44044,     0.44144,     0.44244,     0.44344,     0.44444,     0.44545,     0.44645,     0.44745,     0.44845,     0.44945,     0.45045,     0.45145,     0.45245,     0.45345,     0.45445,     0.45546,\n",
       "           0.45646,     0.45746,     0.45846,     0.45946,     0.46046,     0.46146,     0.46246,     0.46346,     0.46446,     0.46547,     0.46647,     0.46747,     0.46847,     0.46947,     0.47047,     0.47147,     0.47247,     0.47347,     0.47447,     0.47548,     0.47648,     0.47748,     0.47848,     0.47948,\n",
       "           0.48048,     0.48148,     0.48248,     0.48348,     0.48448,     0.48549,     0.48649,     0.48749,     0.48849,     0.48949,     0.49049,     0.49149,     0.49249,     0.49349,     0.49449,      0.4955,      0.4965,      0.4975,      0.4985,      0.4995,      0.5005,      0.5015,      0.5025,      0.5035,\n",
       "            0.5045,     0.50551,     0.50651,     0.50751,     0.50851,     0.50951,     0.51051,     0.51151,     0.51251,     0.51351,     0.51451,     0.51552,     0.51652,     0.51752,     0.51852,     0.51952,     0.52052,     0.52152,     0.52252,     0.52352,     0.52452,     0.52553,     0.52653,     0.52753,\n",
       "           0.52853,     0.52953,     0.53053,     0.53153,     0.53253,     0.53353,     0.53453,     0.53554,     0.53654,     0.53754,     0.53854,     0.53954,     0.54054,     0.54154,     0.54254,     0.54354,     0.54454,     0.54555,     0.54655,     0.54755,     0.54855,     0.54955,     0.55055,     0.55155,\n",
       "           0.55255,     0.55355,     0.55455,     0.55556,     0.55656,     0.55756,     0.55856,     0.55956,     0.56056,     0.56156,     0.56256,     0.56356,     0.56456,     0.56557,     0.56657,     0.56757,     0.56857,     0.56957,     0.57057,     0.57157,     0.57257,     0.57357,     0.57457,     0.57558,\n",
       "           0.57658,     0.57758,     0.57858,     0.57958,     0.58058,     0.58158,     0.58258,     0.58358,     0.58458,     0.58559,     0.58659,     0.58759,     0.58859,     0.58959,     0.59059,     0.59159,     0.59259,     0.59359,     0.59459,      0.5956,      0.5966,      0.5976,      0.5986,      0.5996,\n",
       "            0.6006,      0.6016,      0.6026,      0.6036,      0.6046,     0.60561,     0.60661,     0.60761,     0.60861,     0.60961,     0.61061,     0.61161,     0.61261,     0.61361,     0.61461,     0.61562,     0.61662,     0.61762,     0.61862,     0.61962,     0.62062,     0.62162,     0.62262,     0.62362,\n",
       "           0.62462,     0.62563,     0.62663,     0.62763,     0.62863,     0.62963,     0.63063,     0.63163,     0.63263,     0.63363,     0.63463,     0.63564,     0.63664,     0.63764,     0.63864,     0.63964,     0.64064,     0.64164,     0.64264,     0.64364,     0.64464,     0.64565,     0.64665,     0.64765,\n",
       "           0.64865,     0.64965,     0.65065,     0.65165,     0.65265,     0.65365,     0.65465,     0.65566,     0.65666,     0.65766,     0.65866,     0.65966,     0.66066,     0.66166,     0.66266,     0.66366,     0.66466,     0.66567,     0.66667,     0.66767,     0.66867,     0.66967,     0.67067,     0.67167,\n",
       "           0.67267,     0.67367,     0.67467,     0.67568,     0.67668,     0.67768,     0.67868,     0.67968,     0.68068,     0.68168,     0.68268,     0.68368,     0.68468,     0.68569,     0.68669,     0.68769,     0.68869,     0.68969,     0.69069,     0.69169,     0.69269,     0.69369,     0.69469,      0.6957,\n",
       "            0.6967,      0.6977,      0.6987,      0.6997,      0.7007,      0.7017,      0.7027,      0.7037,      0.7047,     0.70571,     0.70671,     0.70771,     0.70871,     0.70971,     0.71071,     0.71171,     0.71271,     0.71371,     0.71471,     0.71572,     0.71672,     0.71772,     0.71872,     0.71972,\n",
       "           0.72072,     0.72172,     0.72272,     0.72372,     0.72472,     0.72573,     0.72673,     0.72773,     0.72873,     0.72973,     0.73073,     0.73173,     0.73273,     0.73373,     0.73473,     0.73574,     0.73674,     0.73774,     0.73874,     0.73974,     0.74074,     0.74174,     0.74274,     0.74374,\n",
       "           0.74474,     0.74575,     0.74675,     0.74775,     0.74875,     0.74975,     0.75075,     0.75175,     0.75275,     0.75375,     0.75475,     0.75576,     0.75676,     0.75776,     0.75876,     0.75976,     0.76076,     0.76176,     0.76276,     0.76376,     0.76476,     0.76577,     0.76677,     0.76777,\n",
       "           0.76877,     0.76977,     0.77077,     0.77177,     0.77277,     0.77377,     0.77477,     0.77578,     0.77678,     0.77778,     0.77878,     0.77978,     0.78078,     0.78178,     0.78278,     0.78378,     0.78478,     0.78579,     0.78679,     0.78779,     0.78879,     0.78979,     0.79079,     0.79179,\n",
       "           0.79279,     0.79379,     0.79479,      0.7958,      0.7968,      0.7978,      0.7988,      0.7998,      0.8008,      0.8018,      0.8028,      0.8038,      0.8048,     0.80581,     0.80681,     0.80781,     0.80881,     0.80981,     0.81081,     0.81181,     0.81281,     0.81381,     0.81481,     0.81582,\n",
       "           0.81682,     0.81782,     0.81882,     0.81982,     0.82082,     0.82182,     0.82282,     0.82382,     0.82482,     0.82583,     0.82683,     0.82783,     0.82883,     0.82983,     0.83083,     0.83183,     0.83283,     0.83383,     0.83483,     0.83584,     0.83684,     0.83784,     0.83884,     0.83984,\n",
       "           0.84084,     0.84184,     0.84284,     0.84384,     0.84484,     0.84585,     0.84685,     0.84785,     0.84885,     0.84985,     0.85085,     0.85185,     0.85285,     0.85385,     0.85485,     0.85586,     0.85686,     0.85786,     0.85886,     0.85986,     0.86086,     0.86186,     0.86286,     0.86386,\n",
       "           0.86486,     0.86587,     0.86687,     0.86787,     0.86887,     0.86987,     0.87087,     0.87187,     0.87287,     0.87387,     0.87487,     0.87588,     0.87688,     0.87788,     0.87888,     0.87988,     0.88088,     0.88188,     0.88288,     0.88388,     0.88488,     0.88589,     0.88689,     0.88789,\n",
       "           0.88889,     0.88989,     0.89089,     0.89189,     0.89289,     0.89389,     0.89489,      0.8959,      0.8969,      0.8979,      0.8989,      0.8999,      0.9009,      0.9019,      0.9029,      0.9039,      0.9049,     0.90591,     0.90691,     0.90791,     0.90891,     0.90991,     0.91091,     0.91191,\n",
       "           0.91291,     0.91391,     0.91491,     0.91592,     0.91692,     0.91792,     0.91892,     0.91992,     0.92092,     0.92192,     0.92292,     0.92392,     0.92492,     0.92593,     0.92693,     0.92793,     0.92893,     0.92993,     0.93093,     0.93193,     0.93293,     0.93393,     0.93493,     0.93594,\n",
       "           0.93694,     0.93794,     0.93894,     0.93994,     0.94094,     0.94194,     0.94294,     0.94394,     0.94494,     0.94595,     0.94695,     0.94795,     0.94895,     0.94995,     0.95095,     0.95195,     0.95295,     0.95395,     0.95495,     0.95596,     0.95696,     0.95796,     0.95896,     0.95996,\n",
       "           0.96096,     0.96196,     0.96296,     0.96396,     0.96496,     0.96597,     0.96697,     0.96797,     0.96897,     0.96997,     0.97097,     0.97197,     0.97297,     0.97397,     0.97497,     0.97598,     0.97698,     0.97798,     0.97898,     0.97998,     0.98098,     0.98198,     0.98298,     0.98398,\n",
       "           0.98498,     0.98599,     0.98699,     0.98799,     0.98899,     0.98999,     0.99099,     0.99199,     0.99299,     0.99399,     0.99499,       0.996,       0.997,       0.998,       0.999,           1]), array([[    0.44192,     0.44218,     0.53098,     0.58118,     0.61594,     0.64007,     0.66132,     0.67711,     0.69131,     0.70325,     0.71407,     0.72364,     0.73144,     0.73839,     0.74432,     0.75131,     0.75804,     0.76346,     0.76724,     0.77323,     0.77764,     0.78223,     0.78504,\n",
       "             0.7882,     0.79189,     0.79542,     0.79858,     0.80049,     0.80306,     0.80584,     0.80819,     0.81098,     0.81321,     0.81515,     0.81708,     0.81876,     0.82041,     0.82166,     0.82427,     0.82641,     0.82831,     0.83047,     0.83236,     0.83383,     0.83512,     0.83716,\n",
       "            0.83841,     0.83968,     0.84091,     0.84267,     0.84381,     0.84497,     0.84595,     0.84678,     0.84767,     0.84881,     0.85042,      0.8516,     0.85316,     0.85421,     0.85538,     0.85677,     0.85768,     0.85912,     0.86019,     0.86151,     0.86259,     0.86271,     0.86443,\n",
       "            0.86509,     0.86534,     0.86641,     0.86692,     0.86706,     0.86727,     0.86834,     0.86939,     0.87039,     0.87099,     0.87148,     0.87208,     0.87254,     0.87298,     0.87367,      0.8742,      0.8744,     0.87548,     0.87634,     0.87707,     0.87775,     0.87816,     0.87919,\n",
       "            0.87933,     0.87975,     0.88043,     0.88103,     0.88135,     0.88202,     0.88281,     0.88327,     0.88404,     0.88461,     0.88488,     0.88524,     0.88557,     0.88594,     0.88601,      0.8866,     0.88667,      0.8875,     0.88767,     0.88833,     0.88855,     0.88886,     0.88944,\n",
       "            0.88997,     0.89069,     0.89186,     0.89253,     0.89284,     0.89378,     0.89444,     0.89464,     0.89503,     0.89525,     0.89541,     0.89594,     0.89621,     0.89677,     0.89807,     0.89855,     0.89873,     0.89926,     0.89965,     0.90006,     0.90073,     0.90073,     0.90085,\n",
       "            0.90161,     0.90116,     0.90163,     0.90192,     0.90223,     0.90315,     0.90353,     0.90367,     0.90407,     0.90471,     0.90516,     0.90543,     0.90553,     0.90564,     0.90589,     0.90585,     0.90622,      0.9066,     0.90676,     0.90705,     0.90732,     0.90787,     0.90859,\n",
       "            0.90885,     0.90931,     0.90948,     0.90996,     0.91053,     0.91077,     0.91112,     0.91147,     0.91173,     0.91227,     0.91222,     0.91252,     0.91244,     0.91236,     0.91289,     0.91341,     0.91362,     0.91396,     0.91397,     0.91419,     0.91485,     0.91491,     0.91498,\n",
       "            0.91501,     0.91554,      0.9156,     0.91582,     0.91623,     0.91662,     0.91692,     0.91704,     0.91734,     0.91774,     0.91821,      0.9182,     0.91854,     0.91868,     0.91886,     0.91934,     0.91949,     0.91968,     0.91978,     0.91988,     0.91977,     0.91986,     0.92009,\n",
       "            0.92022,     0.92034,     0.92036,     0.92042,     0.92048,     0.92058,     0.92081,     0.92092,     0.92104,     0.92133,     0.92171,     0.92172,     0.92166,      0.9216,     0.92166,     0.92167,     0.92144,     0.92194,     0.92166,     0.92168,     0.92183,     0.92194,     0.92214,\n",
       "            0.92216,     0.92204,     0.92257,     0.92299,      0.9227,     0.92277,     0.92288,     0.92308,     0.92332,     0.92353,     0.92369,     0.92384,     0.92397,     0.92407,      0.9242,     0.92444,     0.92444,     0.92499,     0.92514,     0.92504,     0.92515,     0.92532,     0.92574,\n",
       "            0.92584,     0.92595,     0.92606,     0.92645,     0.92633,     0.92652,     0.92677,     0.92703,     0.92706,     0.92697,     0.92673,      0.9267,     0.92696,     0.92726,     0.92753,     0.92773,     0.92801,     0.92812,     0.92821,      0.9283,     0.92795,     0.92774,     0.92772,\n",
       "             0.9276,     0.92793,     0.92805,     0.92814,     0.92823,     0.92831,     0.92875,     0.92869,     0.92868,     0.92885,     0.92932,     0.92939,     0.92948,     0.92961,     0.92993,      0.9299,     0.92987,     0.92984,     0.92981,     0.92978,     0.92965,     0.93017,      0.9305,\n",
       "            0.93085,     0.93131,     0.93136,     0.93156,     0.93162,     0.93167,     0.93172,     0.93163,     0.93177,     0.93192,     0.93222,     0.93227,     0.93235,     0.93245,     0.93232,     0.93229,     0.93236,     0.93243,     0.93259,     0.93283,     0.93311,     0.93339,     0.93317,\n",
       "            0.93326,     0.93343,     0.93357,     0.93373,     0.93392,     0.93404,     0.93408,     0.93431,     0.93449,     0.93473,     0.93511,     0.93559,     0.93566,     0.93574,     0.93589,     0.93553,     0.93557,     0.93561,     0.93564,     0.93568,     0.93579,     0.93574,      0.9358,\n",
       "            0.93586,     0.93595,     0.93605,     0.93619,     0.93608,     0.93605,     0.93624,     0.93653,     0.93686,     0.93694,     0.93707,      0.9372,     0.93731,      0.9369,     0.93651,     0.93636,     0.93637,     0.93642,     0.93647,     0.93633,     0.93627,     0.93638,     0.93647,\n",
       "            0.93663,     0.93697,     0.93733,     0.93743,     0.93756,     0.93759,     0.93771,     0.93767,     0.93759,      0.9374,      0.9375,     0.93737,     0.93758,     0.93781,     0.93769,     0.93743,      0.9376,     0.93769,     0.93777,     0.93783,     0.93766,     0.93763,     0.93765,\n",
       "            0.93731,      0.9374,     0.93746,     0.93759,     0.93733,     0.93723,     0.93706,     0.93705,     0.93701,     0.93715,     0.93723,      0.9373,      0.9374,      0.9376,     0.93742,     0.93733,     0.93741,     0.93735,     0.93727,      0.9373,     0.93734,     0.93729,     0.93724,\n",
       "            0.93724,     0.93726,     0.93709,     0.93685,     0.93684,     0.93696,     0.93703,     0.93673,     0.93633,     0.93675,     0.93667,     0.93628,     0.93622,     0.93619,     0.93593,     0.93614,      0.9363,     0.93646,     0.93607,     0.93616,      0.9362,       0.936,     0.93573,\n",
       "            0.93565,     0.93567,     0.93549,     0.93543,     0.93537,     0.93525,       0.935,     0.93497,     0.93503,     0.93481,     0.93465,      0.9345,     0.93465,     0.93457,     0.93449,     0.93428,     0.93395,     0.93325,     0.93279,     0.93245,     0.93233,     0.93219,     0.93224,\n",
       "             0.9324,     0.93225,     0.93187,     0.93173,     0.93166,     0.93163,     0.93183,     0.93148,     0.93119,     0.93101,     0.93115,     0.93081,     0.93051,     0.93018,     0.93007,     0.92978,     0.92923,     0.92859,     0.92839,     0.92813,     0.92846,     0.92785,     0.92749,\n",
       "            0.92751,     0.92755,     0.92735,     0.92666,     0.92636,      0.9265,     0.92644,     0.92666,     0.92678,      0.9261,     0.92569,     0.92557,     0.92532,     0.92523,      0.9251,     0.92451,     0.92436,     0.92374,     0.92379,     0.92384,     0.92389,     0.92404,     0.92384,\n",
       "            0.92377,     0.92369,     0.92349,     0.92332,     0.92313,     0.92327,     0.92339,     0.92313,     0.92256,     0.92183,     0.92177,     0.92157,      0.9212,     0.92118,     0.92083,     0.92107,     0.92054,     0.92062,     0.92075,     0.92015,     0.91951,     0.91905,     0.91867,\n",
       "            0.91872,     0.91865,     0.91858,     0.91842,     0.91769,     0.91776,     0.91783,     0.91751,     0.91676,     0.91648,     0.91614,       0.916,     0.91559,     0.91522,     0.91463,      0.9145,     0.91369,     0.91329,     0.91316,     0.91289,      0.9129,     0.91261,     0.91237,\n",
       "            0.91148,     0.91126,     0.91075,     0.91056,     0.91046,      0.9103,     0.90922,     0.90888,     0.90839,     0.90825,     0.90813,     0.90747,     0.90709,     0.90669,     0.90636,     0.90611,     0.90596,      0.9051,     0.90469,     0.90361,     0.90242,     0.90224,     0.90223,\n",
       "            0.90159,     0.90113,     0.90056,     0.89986,     0.89948,     0.89866,      0.8982,     0.89676,     0.89638,     0.89625,     0.89587,     0.89546,     0.89459,     0.89384,      0.8935,      0.8924,     0.89149,      0.8914,     0.89133,     0.89037,     0.89041,     0.89014,     0.88941,\n",
       "            0.88846,      0.8879,     0.88701,     0.88653,     0.88647,     0.88617,     0.88558,     0.88526,     0.88521,     0.88476,     0.88427,     0.88326,     0.88256,     0.88124,     0.88076,     0.87977,     0.87872,      0.8772,     0.87673,     0.87514,     0.87334,     0.87175,     0.87036,\n",
       "             0.8695,     0.86835,      0.8676,     0.86691,     0.86564,     0.86499,     0.86285,     0.86118,     0.86027,     0.85867,     0.85677,     0.85609,       0.854,     0.85198,     0.85129,     0.85041,     0.84902,     0.84737,     0.84559,      0.8443,     0.84352,     0.84277,     0.84038,\n",
       "            0.83872,     0.83753,     0.83505,     0.83386,       0.833,     0.83175,     0.83087,     0.82888,     0.82761,     0.82517,     0.82427,     0.82306,     0.82142,     0.81992,     0.81872,     0.81787,     0.81516,     0.81313,     0.81228,     0.81047,     0.80721,     0.80507,     0.80192,\n",
       "            0.80045,     0.79677,     0.79488,     0.79272,     0.79123,     0.78964,     0.78843,      0.7869,     0.78386,     0.78154,     0.77912,     0.77412,     0.77266,      0.7704,     0.76796,     0.76637,     0.76546,      0.7637,     0.76193,     0.75867,     0.75545,      0.7526,     0.74997,\n",
       "            0.74762,      0.7455,     0.74292,      0.7403,     0.73738,      0.7323,     0.73091,     0.72819,     0.72521,     0.72143,     0.71962,     0.71716,     0.71546,     0.71253,     0.70923,     0.70644,     0.70481,     0.70095,     0.69715,     0.69317,      0.6904,     0.68723,     0.68403,\n",
       "            0.68125,     0.67692,     0.67242,     0.66877,     0.66512,     0.66166,     0.65768,     0.65552,     0.65094,     0.64815,     0.64443,     0.64143,     0.63936,     0.63502,     0.63248,     0.62796,     0.62541,     0.62107,     0.61747,     0.61317,     0.61032,     0.60506,     0.60193,\n",
       "            0.59904,     0.59635,     0.59226,     0.59059,     0.58801,     0.58518,     0.58204,     0.58064,     0.57775,     0.57315,     0.56851,     0.56443,     0.56045,     0.55724,     0.55337,     0.54825,     0.54451,     0.54185,     0.53763,     0.53354,     0.53035,     0.52363,      0.5182,\n",
       "            0.51334,     0.50483,     0.50127,     0.49646,     0.48994,      0.4866,     0.48088,      0.4745,     0.46831,      0.4585,     0.45285,     0.45008,     0.44596,     0.44069,     0.43537,     0.43003,     0.42597,     0.42024,     0.41495,     0.40595,     0.40112,     0.39755,     0.39095,\n",
       "             0.3858,     0.38171,      0.3765,     0.37359,     0.36741,     0.35944,      0.3542,      0.3499,     0.34535,     0.33835,     0.33363,     0.33062,     0.31987,      0.3144,     0.30889,     0.30168,     0.29562,     0.28618,     0.27695,     0.26963,     0.26287,     0.25486,     0.24719,\n",
       "            0.24294,     0.23544,     0.23146,     0.22359,     0.21993,     0.21238,     0.20628,     0.20122,     0.19711,     0.19254,      0.1859,     0.17756,     0.17122,     0.16425,     0.15656,     0.15246,     0.14365,     0.13793,     0.13218,     0.12647,     0.11878,     0.11334,     0.10704,\n",
       "            0.10345,    0.097812,    0.093632,    0.088471,    0.086471,    0.081419,    0.076312,    0.069327,    0.066718,    0.064562,    0.059299,    0.056452,    0.052378,    0.048617,    0.045231,    0.043891,    0.042426,    0.039776,    0.035457,    0.032368,    0.029988,    0.026845,    0.025867,\n",
       "           0.025367,    0.025024,    0.023414,    0.022344,    0.021254,    0.018871,    0.017033,    0.015739,    0.013734,     0.01301,    0.011634,    0.011027,   0.0099576,   0.0091916,    0.008763,   0.0083911,   0.0079183,   0.0065679,   0.0060814,   0.0054881,   0.0039085,   0.0025734,   0.0019628,\n",
       "          0.0014746,   0.0011934,  0.00091216,           0,           0,           0,           0,           0,           0,           0,           0,           0,           0,           0,           0,           0,           0,           0,           0,           0,           0,           0,           0,\n",
       "                  0,           0,           0,           0,           0,           0,           0,           0,           0,           0,           0,           0,           0,           0,           0,           0,           0,           0,           0,           0,           0,           0,           0,\n",
       "                  0,           0,           0,           0,           0,           0,           0,           0,           0,           0,           0,           0,           0,           0,           0,           0,           0,           0,           0,           0,           0,           0,           0,\n",
       "                  0,           0,           0,           0,           0,           0,           0,           0,           0,           0,           0,           0,           0,           0,           0,           0,           0,           0,           0,           0,           0,           0,           0,\n",
       "                  0,           0,           0,           0,           0,           0,           0,           0,           0,           0,           0,           0,           0,           0,           0,           0,           0,           0,           0,           0,           0,           0,           0,\n",
       "                  0,           0,           0,           0,           0,           0,           0,           0,           0,           0,           0]]), 'Confidence', 'F1'], [array([          0,    0.001001,    0.002002,    0.003003,    0.004004,    0.005005,    0.006006,    0.007007,    0.008008,    0.009009,     0.01001,    0.011011,    0.012012,    0.013013,    0.014014,    0.015015,    0.016016,    0.017017,    0.018018,    0.019019,     0.02002,    0.021021,    0.022022,    0.023023,\n",
       "          0.024024,    0.025025,    0.026026,    0.027027,    0.028028,    0.029029,     0.03003,    0.031031,    0.032032,    0.033033,    0.034034,    0.035035,    0.036036,    0.037037,    0.038038,    0.039039,     0.04004,    0.041041,    0.042042,    0.043043,    0.044044,    0.045045,    0.046046,    0.047047,\n",
       "          0.048048,    0.049049,     0.05005,    0.051051,    0.052052,    0.053053,    0.054054,    0.055055,    0.056056,    0.057057,    0.058058,    0.059059,     0.06006,    0.061061,    0.062062,    0.063063,    0.064064,    0.065065,    0.066066,    0.067067,    0.068068,    0.069069,     0.07007,    0.071071,\n",
       "          0.072072,    0.073073,    0.074074,    0.075075,    0.076076,    0.077077,    0.078078,    0.079079,     0.08008,    0.081081,    0.082082,    0.083083,    0.084084,    0.085085,    0.086086,    0.087087,    0.088088,    0.089089,     0.09009,    0.091091,    0.092092,    0.093093,    0.094094,    0.095095,\n",
       "          0.096096,    0.097097,    0.098098,    0.099099,      0.1001,      0.1011,      0.1021,      0.1031,      0.1041,     0.10511,     0.10611,     0.10711,     0.10811,     0.10911,     0.11011,     0.11111,     0.11211,     0.11311,     0.11411,     0.11512,     0.11612,     0.11712,     0.11812,     0.11912,\n",
       "           0.12012,     0.12112,     0.12212,     0.12312,     0.12412,     0.12513,     0.12613,     0.12713,     0.12813,     0.12913,     0.13013,     0.13113,     0.13213,     0.13313,     0.13413,     0.13514,     0.13614,     0.13714,     0.13814,     0.13914,     0.14014,     0.14114,     0.14214,     0.14314,\n",
       "           0.14414,     0.14515,     0.14615,     0.14715,     0.14815,     0.14915,     0.15015,     0.15115,     0.15215,     0.15315,     0.15415,     0.15516,     0.15616,     0.15716,     0.15816,     0.15916,     0.16016,     0.16116,     0.16216,     0.16316,     0.16416,     0.16517,     0.16617,     0.16717,\n",
       "           0.16817,     0.16917,     0.17017,     0.17117,     0.17217,     0.17317,     0.17417,     0.17518,     0.17618,     0.17718,     0.17818,     0.17918,     0.18018,     0.18118,     0.18218,     0.18318,     0.18418,     0.18519,     0.18619,     0.18719,     0.18819,     0.18919,     0.19019,     0.19119,\n",
       "           0.19219,     0.19319,     0.19419,      0.1952,      0.1962,      0.1972,      0.1982,      0.1992,      0.2002,      0.2012,      0.2022,      0.2032,      0.2042,     0.20521,     0.20621,     0.20721,     0.20821,     0.20921,     0.21021,     0.21121,     0.21221,     0.21321,     0.21421,     0.21522,\n",
       "           0.21622,     0.21722,     0.21822,     0.21922,     0.22022,     0.22122,     0.22222,     0.22322,     0.22422,     0.22523,     0.22623,     0.22723,     0.22823,     0.22923,     0.23023,     0.23123,     0.23223,     0.23323,     0.23423,     0.23524,     0.23624,     0.23724,     0.23824,     0.23924,\n",
       "           0.24024,     0.24124,     0.24224,     0.24324,     0.24424,     0.24525,     0.24625,     0.24725,     0.24825,     0.24925,     0.25025,     0.25125,     0.25225,     0.25325,     0.25425,     0.25526,     0.25626,     0.25726,     0.25826,     0.25926,     0.26026,     0.26126,     0.26226,     0.26326,\n",
       "           0.26426,     0.26527,     0.26627,     0.26727,     0.26827,     0.26927,     0.27027,     0.27127,     0.27227,     0.27327,     0.27427,     0.27528,     0.27628,     0.27728,     0.27828,     0.27928,     0.28028,     0.28128,     0.28228,     0.28328,     0.28428,     0.28529,     0.28629,     0.28729,\n",
       "           0.28829,     0.28929,     0.29029,     0.29129,     0.29229,     0.29329,     0.29429,      0.2953,      0.2963,      0.2973,      0.2983,      0.2993,      0.3003,      0.3013,      0.3023,      0.3033,      0.3043,     0.30531,     0.30631,     0.30731,     0.30831,     0.30931,     0.31031,     0.31131,\n",
       "           0.31231,     0.31331,     0.31431,     0.31532,     0.31632,     0.31732,     0.31832,     0.31932,     0.32032,     0.32132,     0.32232,     0.32332,     0.32432,     0.32533,     0.32633,     0.32733,     0.32833,     0.32933,     0.33033,     0.33133,     0.33233,     0.33333,     0.33433,     0.33534,\n",
       "           0.33634,     0.33734,     0.33834,     0.33934,     0.34034,     0.34134,     0.34234,     0.34334,     0.34434,     0.34535,     0.34635,     0.34735,     0.34835,     0.34935,     0.35035,     0.35135,     0.35235,     0.35335,     0.35435,     0.35536,     0.35636,     0.35736,     0.35836,     0.35936,\n",
       "           0.36036,     0.36136,     0.36236,     0.36336,     0.36436,     0.36537,     0.36637,     0.36737,     0.36837,     0.36937,     0.37037,     0.37137,     0.37237,     0.37337,     0.37437,     0.37538,     0.37638,     0.37738,     0.37838,     0.37938,     0.38038,     0.38138,     0.38238,     0.38338,\n",
       "           0.38438,     0.38539,     0.38639,     0.38739,     0.38839,     0.38939,     0.39039,     0.39139,     0.39239,     0.39339,     0.39439,      0.3954,      0.3964,      0.3974,      0.3984,      0.3994,      0.4004,      0.4014,      0.4024,      0.4034,      0.4044,     0.40541,     0.40641,     0.40741,\n",
       "           0.40841,     0.40941,     0.41041,     0.41141,     0.41241,     0.41341,     0.41441,     0.41542,     0.41642,     0.41742,     0.41842,     0.41942,     0.42042,     0.42142,     0.42242,     0.42342,     0.42442,     0.42543,     0.42643,     0.42743,     0.42843,     0.42943,     0.43043,     0.43143,\n",
       "           0.43243,     0.43343,     0.43443,     0.43544,     0.43644,     0.43744,     0.43844,     0.43944,     0.44044,     0.44144,     0.44244,     0.44344,     0.44444,     0.44545,     0.44645,     0.44745,     0.44845,     0.44945,     0.45045,     0.45145,     0.45245,     0.45345,     0.45445,     0.45546,\n",
       "           0.45646,     0.45746,     0.45846,     0.45946,     0.46046,     0.46146,     0.46246,     0.46346,     0.46446,     0.46547,     0.46647,     0.46747,     0.46847,     0.46947,     0.47047,     0.47147,     0.47247,     0.47347,     0.47447,     0.47548,     0.47648,     0.47748,     0.47848,     0.47948,\n",
       "           0.48048,     0.48148,     0.48248,     0.48348,     0.48448,     0.48549,     0.48649,     0.48749,     0.48849,     0.48949,     0.49049,     0.49149,     0.49249,     0.49349,     0.49449,      0.4955,      0.4965,      0.4975,      0.4985,      0.4995,      0.5005,      0.5015,      0.5025,      0.5035,\n",
       "            0.5045,     0.50551,     0.50651,     0.50751,     0.50851,     0.50951,     0.51051,     0.51151,     0.51251,     0.51351,     0.51451,     0.51552,     0.51652,     0.51752,     0.51852,     0.51952,     0.52052,     0.52152,     0.52252,     0.52352,     0.52452,     0.52553,     0.52653,     0.52753,\n",
       "           0.52853,     0.52953,     0.53053,     0.53153,     0.53253,     0.53353,     0.53453,     0.53554,     0.53654,     0.53754,     0.53854,     0.53954,     0.54054,     0.54154,     0.54254,     0.54354,     0.54454,     0.54555,     0.54655,     0.54755,     0.54855,     0.54955,     0.55055,     0.55155,\n",
       "           0.55255,     0.55355,     0.55455,     0.55556,     0.55656,     0.55756,     0.55856,     0.55956,     0.56056,     0.56156,     0.56256,     0.56356,     0.56456,     0.56557,     0.56657,     0.56757,     0.56857,     0.56957,     0.57057,     0.57157,     0.57257,     0.57357,     0.57457,     0.57558,\n",
       "           0.57658,     0.57758,     0.57858,     0.57958,     0.58058,     0.58158,     0.58258,     0.58358,     0.58458,     0.58559,     0.58659,     0.58759,     0.58859,     0.58959,     0.59059,     0.59159,     0.59259,     0.59359,     0.59459,      0.5956,      0.5966,      0.5976,      0.5986,      0.5996,\n",
       "            0.6006,      0.6016,      0.6026,      0.6036,      0.6046,     0.60561,     0.60661,     0.60761,     0.60861,     0.60961,     0.61061,     0.61161,     0.61261,     0.61361,     0.61461,     0.61562,     0.61662,     0.61762,     0.61862,     0.61962,     0.62062,     0.62162,     0.62262,     0.62362,\n",
       "           0.62462,     0.62563,     0.62663,     0.62763,     0.62863,     0.62963,     0.63063,     0.63163,     0.63263,     0.63363,     0.63463,     0.63564,     0.63664,     0.63764,     0.63864,     0.63964,     0.64064,     0.64164,     0.64264,     0.64364,     0.64464,     0.64565,     0.64665,     0.64765,\n",
       "           0.64865,     0.64965,     0.65065,     0.65165,     0.65265,     0.65365,     0.65465,     0.65566,     0.65666,     0.65766,     0.65866,     0.65966,     0.66066,     0.66166,     0.66266,     0.66366,     0.66466,     0.66567,     0.66667,     0.66767,     0.66867,     0.66967,     0.67067,     0.67167,\n",
       "           0.67267,     0.67367,     0.67467,     0.67568,     0.67668,     0.67768,     0.67868,     0.67968,     0.68068,     0.68168,     0.68268,     0.68368,     0.68468,     0.68569,     0.68669,     0.68769,     0.68869,     0.68969,     0.69069,     0.69169,     0.69269,     0.69369,     0.69469,      0.6957,\n",
       "            0.6967,      0.6977,      0.6987,      0.6997,      0.7007,      0.7017,      0.7027,      0.7037,      0.7047,     0.70571,     0.70671,     0.70771,     0.70871,     0.70971,     0.71071,     0.71171,     0.71271,     0.71371,     0.71471,     0.71572,     0.71672,     0.71772,     0.71872,     0.71972,\n",
       "           0.72072,     0.72172,     0.72272,     0.72372,     0.72472,     0.72573,     0.72673,     0.72773,     0.72873,     0.72973,     0.73073,     0.73173,     0.73273,     0.73373,     0.73473,     0.73574,     0.73674,     0.73774,     0.73874,     0.73974,     0.74074,     0.74174,     0.74274,     0.74374,\n",
       "           0.74474,     0.74575,     0.74675,     0.74775,     0.74875,     0.74975,     0.75075,     0.75175,     0.75275,     0.75375,     0.75475,     0.75576,     0.75676,     0.75776,     0.75876,     0.75976,     0.76076,     0.76176,     0.76276,     0.76376,     0.76476,     0.76577,     0.76677,     0.76777,\n",
       "           0.76877,     0.76977,     0.77077,     0.77177,     0.77277,     0.77377,     0.77477,     0.77578,     0.77678,     0.77778,     0.77878,     0.77978,     0.78078,     0.78178,     0.78278,     0.78378,     0.78478,     0.78579,     0.78679,     0.78779,     0.78879,     0.78979,     0.79079,     0.79179,\n",
       "           0.79279,     0.79379,     0.79479,      0.7958,      0.7968,      0.7978,      0.7988,      0.7998,      0.8008,      0.8018,      0.8028,      0.8038,      0.8048,     0.80581,     0.80681,     0.80781,     0.80881,     0.80981,     0.81081,     0.81181,     0.81281,     0.81381,     0.81481,     0.81582,\n",
       "           0.81682,     0.81782,     0.81882,     0.81982,     0.82082,     0.82182,     0.82282,     0.82382,     0.82482,     0.82583,     0.82683,     0.82783,     0.82883,     0.82983,     0.83083,     0.83183,     0.83283,     0.83383,     0.83483,     0.83584,     0.83684,     0.83784,     0.83884,     0.83984,\n",
       "           0.84084,     0.84184,     0.84284,     0.84384,     0.84484,     0.84585,     0.84685,     0.84785,     0.84885,     0.84985,     0.85085,     0.85185,     0.85285,     0.85385,     0.85485,     0.85586,     0.85686,     0.85786,     0.85886,     0.85986,     0.86086,     0.86186,     0.86286,     0.86386,\n",
       "           0.86486,     0.86587,     0.86687,     0.86787,     0.86887,     0.86987,     0.87087,     0.87187,     0.87287,     0.87387,     0.87487,     0.87588,     0.87688,     0.87788,     0.87888,     0.87988,     0.88088,     0.88188,     0.88288,     0.88388,     0.88488,     0.88589,     0.88689,     0.88789,\n",
       "           0.88889,     0.88989,     0.89089,     0.89189,     0.89289,     0.89389,     0.89489,      0.8959,      0.8969,      0.8979,      0.8989,      0.8999,      0.9009,      0.9019,      0.9029,      0.9039,      0.9049,     0.90591,     0.90691,     0.90791,     0.90891,     0.90991,     0.91091,     0.91191,\n",
       "           0.91291,     0.91391,     0.91491,     0.91592,     0.91692,     0.91792,     0.91892,     0.91992,     0.92092,     0.92192,     0.92292,     0.92392,     0.92492,     0.92593,     0.92693,     0.92793,     0.92893,     0.92993,     0.93093,     0.93193,     0.93293,     0.93393,     0.93493,     0.93594,\n",
       "           0.93694,     0.93794,     0.93894,     0.93994,     0.94094,     0.94194,     0.94294,     0.94394,     0.94494,     0.94595,     0.94695,     0.94795,     0.94895,     0.94995,     0.95095,     0.95195,     0.95295,     0.95395,     0.95495,     0.95596,     0.95696,     0.95796,     0.95896,     0.95996,\n",
       "           0.96096,     0.96196,     0.96296,     0.96396,     0.96496,     0.96597,     0.96697,     0.96797,     0.96897,     0.96997,     0.97097,     0.97197,     0.97297,     0.97397,     0.97497,     0.97598,     0.97698,     0.97798,     0.97898,     0.97998,     0.98098,     0.98198,     0.98298,     0.98398,\n",
       "           0.98498,     0.98599,     0.98699,     0.98799,     0.98899,     0.98999,     0.99099,     0.99199,     0.99299,     0.99399,     0.99499,       0.996,       0.997,       0.998,       0.999,           1]), array([[    0.28463,     0.28485,     0.36323,     0.41196,     0.44795,     0.47402,      0.4978,     0.51602,     0.53291,     0.54723,     0.56057,     0.57283,     0.58267,     0.59168,     0.59933,     0.60844,     0.61747,      0.6247,     0.62978,     0.63789,     0.64391,     0.65023,     0.65429,\n",
       "            0.65885,     0.66403,     0.66918,     0.67383,     0.67657,      0.6806,      0.6846,       0.688,     0.69205,     0.69531,     0.69815,     0.70098,     0.70365,      0.7061,     0.70795,     0.71183,     0.71503,     0.71788,     0.72154,     0.72459,     0.72683,     0.72879,      0.7319,\n",
       "            0.73402,     0.73639,      0.7385,     0.74122,     0.74321,       0.745,     0.74652,     0.74782,     0.74942,     0.75121,     0.75396,     0.75581,     0.75828,     0.75994,     0.76179,       0.764,     0.76545,     0.76774,     0.76946,     0.77158,     0.77331,      0.7735,     0.77627,\n",
       "            0.77756,     0.77818,        0.78,       0.781,     0.78132,     0.78205,     0.78379,     0.78551,     0.78713,     0.78812,     0.78892,      0.7899,     0.79066,     0.79153,     0.79277,     0.79388,     0.79422,     0.79601,     0.79743,     0.79864,     0.79975,     0.80069,      0.8024,\n",
       "            0.80264,     0.80334,     0.80448,     0.80548,     0.80601,     0.80713,     0.80846,     0.80923,     0.81053,     0.81149,     0.81219,      0.8128,     0.81336,     0.81398,     0.81436,     0.81556,       0.816,     0.81741,      0.8177,     0.81882,      0.8192,     0.81971,     0.82071,\n",
       "             0.8216,     0.82283,     0.82483,     0.82599,     0.82652,     0.82812,     0.82925,     0.82961,     0.83028,     0.83065,     0.83093,     0.83185,     0.83231,     0.83328,     0.83552,     0.83635,     0.83704,     0.83813,     0.83881,     0.83953,     0.84097,     0.84124,     0.84147,\n",
       "            0.84283,     0.84271,     0.84366,     0.84417,     0.84472,     0.84633,     0.84699,     0.84724,     0.84795,     0.84907,     0.84986,     0.85034,     0.85052,     0.85071,     0.85118,     0.85137,     0.85203,     0.85269,     0.85298,     0.85349,     0.85397,     0.85494,     0.85623,\n",
       "            0.85668,      0.8575,     0.85808,     0.85955,     0.86056,     0.86099,     0.86162,     0.86254,       0.863,     0.86396,     0.86415,     0.86472,      0.8647,     0.86468,     0.86567,     0.86661,     0.86699,      0.8676,     0.86822,     0.86862,      0.8698,     0.86992,     0.87004,\n",
       "            0.87039,     0.87136,     0.87177,     0.87216,     0.87292,     0.87362,     0.87416,     0.87438,     0.87494,     0.87566,     0.87651,     0.87681,     0.87743,     0.87768,     0.87801,     0.87888,     0.87915,     0.87951,     0.87968,     0.87987,     0.87998,     0.88014,     0.88057,\n",
       "            0.88081,     0.88102,     0.88136,     0.88147,     0.88159,     0.88178,      0.8822,      0.8827,     0.88309,     0.88377,     0.88446,     0.88457,     0.88455,     0.88454,     0.88469,     0.88509,     0.88522,     0.88615,     0.88617,      0.8863,     0.88657,      0.8871,     0.88746,\n",
       "            0.88762,      0.8876,     0.88859,     0.88942,     0.88946,      0.8896,     0.88979,     0.89018,     0.89094,     0.89132,     0.89163,     0.89191,     0.89214,     0.89233,     0.89258,     0.89303,     0.89327,     0.89437,     0.89465,     0.89477,       0.895,     0.89531,     0.89609,\n",
       "            0.89629,      0.8969,     0.89736,     0.89809,     0.89818,     0.89854,     0.89901,     0.89951,     0.89989,     0.89991,     0.89987,     0.90015,     0.90102,     0.90158,     0.90208,     0.90248,       0.903,     0.90321,     0.90339,     0.90355,     0.90351,     0.90383,     0.90405,\n",
       "            0.90422,     0.90484,     0.90507,     0.90524,     0.90541,     0.90557,     0.90641,     0.90654,     0.90683,     0.90727,     0.90816,      0.9083,     0.90846,     0.90873,     0.90938,     0.90937,     0.90937,     0.90936,     0.90936,     0.90935,     0.90948,     0.91048,     0.91111,\n",
       "            0.91178,     0.91265,     0.91309,     0.91349,     0.91359,     0.91369,     0.91379,     0.91429,     0.91457,     0.91485,     0.91544,      0.9157,     0.91604,     0.91633,     0.91631,     0.91661,     0.91675,     0.91688,     0.91719,     0.91765,      0.9182,     0.91874,     0.91886,\n",
       "            0.91952,     0.91986,     0.92013,     0.92043,     0.92081,     0.92104,     0.92147,     0.92192,     0.92227,     0.92274,     0.92383,     0.92476,     0.92491,     0.92506,     0.92536,     0.92536,     0.92544,     0.92551,     0.92559,     0.92566,     0.92602,     0.92612,     0.92623,\n",
       "            0.92636,     0.92654,     0.92674,     0.92702,       0.927,     0.92709,     0.92765,     0.92874,     0.92939,     0.92956,     0.92981,     0.93007,     0.93028,     0.93026,     0.93053,     0.93051,     0.93058,     0.93068,     0.93078,     0.93082,     0.93112,     0.93147,     0.93188,\n",
       "            0.93219,     0.93314,     0.93393,     0.93414,     0.93439,     0.93483,     0.93543,     0.93549,     0.93548,     0.93555,     0.93579,     0.93585,     0.93628,     0.93713,     0.93711,     0.93708,     0.93743,     0.93759,     0.93775,     0.93811,     0.93842,     0.93874,     0.93907,\n",
       "            0.93904,     0.93925,     0.93975,     0.94072,     0.94069,     0.94068,     0.94081,     0.94099,      0.9411,     0.94137,     0.94153,     0.94168,     0.94188,     0.94238,     0.94236,     0.94235,     0.94266,     0.94269,     0.94268,     0.94282,     0.94302,     0.94335,     0.94368,\n",
       "            0.94382,     0.94402,     0.94434,     0.94431,     0.94455,     0.94479,     0.94492,     0.94497,     0.94504,      0.9459,     0.94598,     0.94594,     0.94628,     0.94669,     0.94693,     0.94736,     0.94768,     0.94801,     0.94799,     0.94818,     0.94832,     0.94831,     0.94897,\n",
       "            0.94948,        0.95,     0.94998,     0.94997,     0.94997,     0.94996,     0.94993,     0.95005,     0.95028,     0.95026,     0.95025,     0.95023,     0.95059,     0.95058,     0.95058,     0.95056,     0.95053,     0.95046,     0.95042,     0.95038,     0.95037,     0.95036,     0.95073,\n",
       "            0.95107,     0.95106,     0.95103,     0.95102,     0.95101,     0.95108,     0.95149,     0.95169,     0.95167,       0.952,     0.95249,     0.95269,     0.95266,     0.95332,     0.95389,     0.95402,     0.95397,     0.95391,      0.9539,     0.95391,      0.9546,     0.95492,     0.95503,\n",
       "            0.95525,     0.95559,      0.9556,     0.95554,     0.95556,     0.95585,     0.95624,     0.95705,      0.9573,      0.9573,     0.95727,     0.95726,     0.95724,     0.95723,     0.95722,     0.95717,     0.95716,     0.95714,     0.95725,     0.95735,     0.95746,     0.95787,     0.95785,\n",
       "            0.95784,     0.95784,     0.95782,     0.95781,     0.95779,     0.95826,     0.95853,     0.95883,     0.95885,     0.95903,     0.95916,     0.95914,     0.95948,     0.95978,     0.95983,     0.96043,     0.96059,     0.96076,     0.96104,     0.96164,     0.96159,     0.96156,     0.96153,\n",
       "            0.96191,     0.96191,      0.9619,     0.96189,     0.96185,       0.962,     0.96215,      0.9622,     0.96215,     0.96232,     0.96248,     0.96247,     0.96244,     0.96241,     0.96237,     0.96312,     0.96306,     0.96304,     0.96303,      0.9634,     0.96388,     0.96414,     0.96451,\n",
       "            0.96483,     0.96521,     0.96556,     0.96555,     0.96593,     0.96631,     0.96702,     0.96739,     0.96736,     0.96738,     0.96813,     0.96809,     0.96807,     0.96804,     0.96842,      0.9687,     0.96879,     0.96874,     0.96871,     0.96865,     0.96857,       0.969,     0.96936,\n",
       "            0.96933,      0.9693,     0.96926,     0.96922,     0.96999,     0.96996,     0.96993,     0.97026,     0.97023,     0.97095,     0.97143,     0.97182,     0.97177,     0.97238,     0.97254,     0.97248,     0.97285,     0.97381,     0.97409,     0.97404,      0.9751,     0.97571,      0.9761,\n",
       "            0.97691,     0.97688,     0.97727,     0.97725,     0.97834,     0.97895,     0.97892,     0.97934,     0.97962,     0.97975,     0.98017,     0.98013,     0.98022,     0.98049,     0.98076,     0.98131,     0.98127,     0.98121,     0.98164,     0.98158,     0.98152,     0.98146,     0.98185,\n",
       "            0.98182,     0.98178,     0.98175,     0.98309,     0.98305,     0.98349,     0.98341,     0.98336,     0.98333,     0.98374,     0.98368,     0.98365,     0.98406,     0.98416,     0.98491,     0.98536,      0.9858,     0.98575,      0.9857,     0.98615,     0.98612,      0.9861,     0.98603,\n",
       "            0.98697,     0.98693,     0.98687,     0.98733,     0.98739,     0.98876,     0.98976,     0.99022,     0.99071,     0.99066,     0.99064,     0.99113,      0.9911,     0.99108,     0.99157,     0.99156,     0.99151,     0.99147,     0.99183,     0.99196,      0.9919,      0.9924,     0.99235,\n",
       "            0.99287,     0.99336,     0.99334,     0.99331,     0.99329,     0.99326,     0.99325,     0.99322,     0.99318,     0.99315,     0.99311,     0.99304,     0.99302,     0.99299,     0.99295,     0.99293,     0.99291,     0.99289,     0.99286,     0.99281,     0.99297,     0.99332,     0.99328,\n",
       "            0.99325,     0.99322,     0.99318,     0.99314,     0.99372,     0.99428,     0.99426,     0.99423,     0.99419,     0.99415,     0.99412,     0.99474,     0.99472,     0.99535,     0.99532,     0.99529,     0.99527,     0.99523,     0.99519,     0.99515,     0.99512,     0.99508,     0.99505,\n",
       "            0.99502,     0.99497,     0.99492,     0.99488,     0.99484,      0.9948,     0.99475,     0.99472,     0.99467,     0.99464,     0.99459,     0.99465,      0.9953,     0.99526,     0.99523,     0.99518,     0.99515,      0.9951,     0.99506,     0.99501,     0.99498,     0.99491,     0.99488,\n",
       "            0.99499,     0.99567,     0.99563,     0.99648,     0.99646,     0.99644,     0.99641,      0.9964,     0.99637,     0.99633,     0.99629,     0.99625,     0.99621,     0.99618,     0.99615,     0.99707,     0.99704,     0.99702,     0.99699,     0.99696,     0.99693,     0.99688,     0.99684,\n",
       "            0.99786,     0.99781,     0.99779,     0.99776,     0.99772,      0.9977,     0.99767,     0.99763,     0.99758,     0.99752,     0.99748,     0.99873,     0.99871,     0.99869,     0.99867,     0.99865,     0.99863,     0.99861,     0.99859,     0.99855,     0.99853,     0.99851,     0.99848,\n",
       "            0.99845,     0.99843,     0.99841,     0.99839,     0.99836,     0.99831,     0.99828,     0.99826,     0.99823,     0.99819,     0.99815,     0.99813,     0.99806,     0.99802,     0.99798,     0.99792,     0.99787,     0.99817,           1,           1,           1,           1,           1,\n",
       "                  1,           1,           1,           1,           1,           1,           1,           1,           1,           1,           1,           1,           1,           1,           1,           1,           1,           1,           1,           1,           1,           1,           1,\n",
       "                  1,           1,           1,           1,           1,           1,           1,           1,           1,           1,           1,           1,           1,           1,           1,           1,           1,           1,           1,           1,           1,           1,           1,\n",
       "                  1,           1,           1,           1,           1,           1,           1,           1,           1,           1,           1,           1,           1,           1,           1,           1,           1,           1,           1,           1,           1,           1,           1,\n",
       "                  1,           1,           1,           1,           1,           1,           1,           1,           1,           1,           1,           1,           1,           1,           1,           1,           1,           1,           1,           1,           1,           1,           1,\n",
       "                  1,           1,           1,           1,           1,           1,           1,           1,           1,           1,           1,           1,           1,           1,           1,           1,           1,           1,           1,           1,           1,           1,           1,\n",
       "                  1,           1,           1,           1,           1,           1,           1,           1,           1,           1,           1,           1,           1,           1,           1,           1,           1,           1,           1,           1,           1,           1,           1,\n",
       "                  1,           1,           1,           1,           1,           1,           1,           1,           1,           1,           1,           1,           1,           1,           1,           1,           1,           1,           1,           1,           1,           1,           1,\n",
       "                  1,           1,           1,           1,           1,           1,           1,           1,           1,           1,           1,           1,           1,           1,           1,           1,           1,           1,           1,           1,           1,           1,           1,\n",
       "                  1,           1,           1,           1,           1,           1,           1,           1,           1,           1,           1]]), 'Confidence', 'Precision'], [array([          0,    0.001001,    0.002002,    0.003003,    0.004004,    0.005005,    0.006006,    0.007007,    0.008008,    0.009009,     0.01001,    0.011011,    0.012012,    0.013013,    0.014014,    0.015015,    0.016016,    0.017017,    0.018018,    0.019019,     0.02002,    0.021021,    0.022022,    0.023023,\n",
       "          0.024024,    0.025025,    0.026026,    0.027027,    0.028028,    0.029029,     0.03003,    0.031031,    0.032032,    0.033033,    0.034034,    0.035035,    0.036036,    0.037037,    0.038038,    0.039039,     0.04004,    0.041041,    0.042042,    0.043043,    0.044044,    0.045045,    0.046046,    0.047047,\n",
       "          0.048048,    0.049049,     0.05005,    0.051051,    0.052052,    0.053053,    0.054054,    0.055055,    0.056056,    0.057057,    0.058058,    0.059059,     0.06006,    0.061061,    0.062062,    0.063063,    0.064064,    0.065065,    0.066066,    0.067067,    0.068068,    0.069069,     0.07007,    0.071071,\n",
       "          0.072072,    0.073073,    0.074074,    0.075075,    0.076076,    0.077077,    0.078078,    0.079079,     0.08008,    0.081081,    0.082082,    0.083083,    0.084084,    0.085085,    0.086086,    0.087087,    0.088088,    0.089089,     0.09009,    0.091091,    0.092092,    0.093093,    0.094094,    0.095095,\n",
       "          0.096096,    0.097097,    0.098098,    0.099099,      0.1001,      0.1011,      0.1021,      0.1031,      0.1041,     0.10511,     0.10611,     0.10711,     0.10811,     0.10911,     0.11011,     0.11111,     0.11211,     0.11311,     0.11411,     0.11512,     0.11612,     0.11712,     0.11812,     0.11912,\n",
       "           0.12012,     0.12112,     0.12212,     0.12312,     0.12412,     0.12513,     0.12613,     0.12713,     0.12813,     0.12913,     0.13013,     0.13113,     0.13213,     0.13313,     0.13413,     0.13514,     0.13614,     0.13714,     0.13814,     0.13914,     0.14014,     0.14114,     0.14214,     0.14314,\n",
       "           0.14414,     0.14515,     0.14615,     0.14715,     0.14815,     0.14915,     0.15015,     0.15115,     0.15215,     0.15315,     0.15415,     0.15516,     0.15616,     0.15716,     0.15816,     0.15916,     0.16016,     0.16116,     0.16216,     0.16316,     0.16416,     0.16517,     0.16617,     0.16717,\n",
       "           0.16817,     0.16917,     0.17017,     0.17117,     0.17217,     0.17317,     0.17417,     0.17518,     0.17618,     0.17718,     0.17818,     0.17918,     0.18018,     0.18118,     0.18218,     0.18318,     0.18418,     0.18519,     0.18619,     0.18719,     0.18819,     0.18919,     0.19019,     0.19119,\n",
       "           0.19219,     0.19319,     0.19419,      0.1952,      0.1962,      0.1972,      0.1982,      0.1992,      0.2002,      0.2012,      0.2022,      0.2032,      0.2042,     0.20521,     0.20621,     0.20721,     0.20821,     0.20921,     0.21021,     0.21121,     0.21221,     0.21321,     0.21421,     0.21522,\n",
       "           0.21622,     0.21722,     0.21822,     0.21922,     0.22022,     0.22122,     0.22222,     0.22322,     0.22422,     0.22523,     0.22623,     0.22723,     0.22823,     0.22923,     0.23023,     0.23123,     0.23223,     0.23323,     0.23423,     0.23524,     0.23624,     0.23724,     0.23824,     0.23924,\n",
       "           0.24024,     0.24124,     0.24224,     0.24324,     0.24424,     0.24525,     0.24625,     0.24725,     0.24825,     0.24925,     0.25025,     0.25125,     0.25225,     0.25325,     0.25425,     0.25526,     0.25626,     0.25726,     0.25826,     0.25926,     0.26026,     0.26126,     0.26226,     0.26326,\n",
       "           0.26426,     0.26527,     0.26627,     0.26727,     0.26827,     0.26927,     0.27027,     0.27127,     0.27227,     0.27327,     0.27427,     0.27528,     0.27628,     0.27728,     0.27828,     0.27928,     0.28028,     0.28128,     0.28228,     0.28328,     0.28428,     0.28529,     0.28629,     0.28729,\n",
       "           0.28829,     0.28929,     0.29029,     0.29129,     0.29229,     0.29329,     0.29429,      0.2953,      0.2963,      0.2973,      0.2983,      0.2993,      0.3003,      0.3013,      0.3023,      0.3033,      0.3043,     0.30531,     0.30631,     0.30731,     0.30831,     0.30931,     0.31031,     0.31131,\n",
       "           0.31231,     0.31331,     0.31431,     0.31532,     0.31632,     0.31732,     0.31832,     0.31932,     0.32032,     0.32132,     0.32232,     0.32332,     0.32432,     0.32533,     0.32633,     0.32733,     0.32833,     0.32933,     0.33033,     0.33133,     0.33233,     0.33333,     0.33433,     0.33534,\n",
       "           0.33634,     0.33734,     0.33834,     0.33934,     0.34034,     0.34134,     0.34234,     0.34334,     0.34434,     0.34535,     0.34635,     0.34735,     0.34835,     0.34935,     0.35035,     0.35135,     0.35235,     0.35335,     0.35435,     0.35536,     0.35636,     0.35736,     0.35836,     0.35936,\n",
       "           0.36036,     0.36136,     0.36236,     0.36336,     0.36436,     0.36537,     0.36637,     0.36737,     0.36837,     0.36937,     0.37037,     0.37137,     0.37237,     0.37337,     0.37437,     0.37538,     0.37638,     0.37738,     0.37838,     0.37938,     0.38038,     0.38138,     0.38238,     0.38338,\n",
       "           0.38438,     0.38539,     0.38639,     0.38739,     0.38839,     0.38939,     0.39039,     0.39139,     0.39239,     0.39339,     0.39439,      0.3954,      0.3964,      0.3974,      0.3984,      0.3994,      0.4004,      0.4014,      0.4024,      0.4034,      0.4044,     0.40541,     0.40641,     0.40741,\n",
       "           0.40841,     0.40941,     0.41041,     0.41141,     0.41241,     0.41341,     0.41441,     0.41542,     0.41642,     0.41742,     0.41842,     0.41942,     0.42042,     0.42142,     0.42242,     0.42342,     0.42442,     0.42543,     0.42643,     0.42743,     0.42843,     0.42943,     0.43043,     0.43143,\n",
       "           0.43243,     0.43343,     0.43443,     0.43544,     0.43644,     0.43744,     0.43844,     0.43944,     0.44044,     0.44144,     0.44244,     0.44344,     0.44444,     0.44545,     0.44645,     0.44745,     0.44845,     0.44945,     0.45045,     0.45145,     0.45245,     0.45345,     0.45445,     0.45546,\n",
       "           0.45646,     0.45746,     0.45846,     0.45946,     0.46046,     0.46146,     0.46246,     0.46346,     0.46446,     0.46547,     0.46647,     0.46747,     0.46847,     0.46947,     0.47047,     0.47147,     0.47247,     0.47347,     0.47447,     0.47548,     0.47648,     0.47748,     0.47848,     0.47948,\n",
       "           0.48048,     0.48148,     0.48248,     0.48348,     0.48448,     0.48549,     0.48649,     0.48749,     0.48849,     0.48949,     0.49049,     0.49149,     0.49249,     0.49349,     0.49449,      0.4955,      0.4965,      0.4975,      0.4985,      0.4995,      0.5005,      0.5015,      0.5025,      0.5035,\n",
       "            0.5045,     0.50551,     0.50651,     0.50751,     0.50851,     0.50951,     0.51051,     0.51151,     0.51251,     0.51351,     0.51451,     0.51552,     0.51652,     0.51752,     0.51852,     0.51952,     0.52052,     0.52152,     0.52252,     0.52352,     0.52452,     0.52553,     0.52653,     0.52753,\n",
       "           0.52853,     0.52953,     0.53053,     0.53153,     0.53253,     0.53353,     0.53453,     0.53554,     0.53654,     0.53754,     0.53854,     0.53954,     0.54054,     0.54154,     0.54254,     0.54354,     0.54454,     0.54555,     0.54655,     0.54755,     0.54855,     0.54955,     0.55055,     0.55155,\n",
       "           0.55255,     0.55355,     0.55455,     0.55556,     0.55656,     0.55756,     0.55856,     0.55956,     0.56056,     0.56156,     0.56256,     0.56356,     0.56456,     0.56557,     0.56657,     0.56757,     0.56857,     0.56957,     0.57057,     0.57157,     0.57257,     0.57357,     0.57457,     0.57558,\n",
       "           0.57658,     0.57758,     0.57858,     0.57958,     0.58058,     0.58158,     0.58258,     0.58358,     0.58458,     0.58559,     0.58659,     0.58759,     0.58859,     0.58959,     0.59059,     0.59159,     0.59259,     0.59359,     0.59459,      0.5956,      0.5966,      0.5976,      0.5986,      0.5996,\n",
       "            0.6006,      0.6016,      0.6026,      0.6036,      0.6046,     0.60561,     0.60661,     0.60761,     0.60861,     0.60961,     0.61061,     0.61161,     0.61261,     0.61361,     0.61461,     0.61562,     0.61662,     0.61762,     0.61862,     0.61962,     0.62062,     0.62162,     0.62262,     0.62362,\n",
       "           0.62462,     0.62563,     0.62663,     0.62763,     0.62863,     0.62963,     0.63063,     0.63163,     0.63263,     0.63363,     0.63463,     0.63564,     0.63664,     0.63764,     0.63864,     0.63964,     0.64064,     0.64164,     0.64264,     0.64364,     0.64464,     0.64565,     0.64665,     0.64765,\n",
       "           0.64865,     0.64965,     0.65065,     0.65165,     0.65265,     0.65365,     0.65465,     0.65566,     0.65666,     0.65766,     0.65866,     0.65966,     0.66066,     0.66166,     0.66266,     0.66366,     0.66466,     0.66567,     0.66667,     0.66767,     0.66867,     0.66967,     0.67067,     0.67167,\n",
       "           0.67267,     0.67367,     0.67467,     0.67568,     0.67668,     0.67768,     0.67868,     0.67968,     0.68068,     0.68168,     0.68268,     0.68368,     0.68468,     0.68569,     0.68669,     0.68769,     0.68869,     0.68969,     0.69069,     0.69169,     0.69269,     0.69369,     0.69469,      0.6957,\n",
       "            0.6967,      0.6977,      0.6987,      0.6997,      0.7007,      0.7017,      0.7027,      0.7037,      0.7047,     0.70571,     0.70671,     0.70771,     0.70871,     0.70971,     0.71071,     0.71171,     0.71271,     0.71371,     0.71471,     0.71572,     0.71672,     0.71772,     0.71872,     0.71972,\n",
       "           0.72072,     0.72172,     0.72272,     0.72372,     0.72472,     0.72573,     0.72673,     0.72773,     0.72873,     0.72973,     0.73073,     0.73173,     0.73273,     0.73373,     0.73473,     0.73574,     0.73674,     0.73774,     0.73874,     0.73974,     0.74074,     0.74174,     0.74274,     0.74374,\n",
       "           0.74474,     0.74575,     0.74675,     0.74775,     0.74875,     0.74975,     0.75075,     0.75175,     0.75275,     0.75375,     0.75475,     0.75576,     0.75676,     0.75776,     0.75876,     0.75976,     0.76076,     0.76176,     0.76276,     0.76376,     0.76476,     0.76577,     0.76677,     0.76777,\n",
       "           0.76877,     0.76977,     0.77077,     0.77177,     0.77277,     0.77377,     0.77477,     0.77578,     0.77678,     0.77778,     0.77878,     0.77978,     0.78078,     0.78178,     0.78278,     0.78378,     0.78478,     0.78579,     0.78679,     0.78779,     0.78879,     0.78979,     0.79079,     0.79179,\n",
       "           0.79279,     0.79379,     0.79479,      0.7958,      0.7968,      0.7978,      0.7988,      0.7998,      0.8008,      0.8018,      0.8028,      0.8038,      0.8048,     0.80581,     0.80681,     0.80781,     0.80881,     0.80981,     0.81081,     0.81181,     0.81281,     0.81381,     0.81481,     0.81582,\n",
       "           0.81682,     0.81782,     0.81882,     0.81982,     0.82082,     0.82182,     0.82282,     0.82382,     0.82482,     0.82583,     0.82683,     0.82783,     0.82883,     0.82983,     0.83083,     0.83183,     0.83283,     0.83383,     0.83483,     0.83584,     0.83684,     0.83784,     0.83884,     0.83984,\n",
       "           0.84084,     0.84184,     0.84284,     0.84384,     0.84484,     0.84585,     0.84685,     0.84785,     0.84885,     0.84985,     0.85085,     0.85185,     0.85285,     0.85385,     0.85485,     0.85586,     0.85686,     0.85786,     0.85886,     0.85986,     0.86086,     0.86186,     0.86286,     0.86386,\n",
       "           0.86486,     0.86587,     0.86687,     0.86787,     0.86887,     0.86987,     0.87087,     0.87187,     0.87287,     0.87387,     0.87487,     0.87588,     0.87688,     0.87788,     0.87888,     0.87988,     0.88088,     0.88188,     0.88288,     0.88388,     0.88488,     0.88589,     0.88689,     0.88789,\n",
       "           0.88889,     0.88989,     0.89089,     0.89189,     0.89289,     0.89389,     0.89489,      0.8959,      0.8969,      0.8979,      0.8989,      0.8999,      0.9009,      0.9019,      0.9029,      0.9039,      0.9049,     0.90591,     0.90691,     0.90791,     0.90891,     0.90991,     0.91091,     0.91191,\n",
       "           0.91291,     0.91391,     0.91491,     0.91592,     0.91692,     0.91792,     0.91892,     0.91992,     0.92092,     0.92192,     0.92292,     0.92392,     0.92492,     0.92593,     0.92693,     0.92793,     0.92893,     0.92993,     0.93093,     0.93193,     0.93293,     0.93393,     0.93493,     0.93594,\n",
       "           0.93694,     0.93794,     0.93894,     0.93994,     0.94094,     0.94194,     0.94294,     0.94394,     0.94494,     0.94595,     0.94695,     0.94795,     0.94895,     0.94995,     0.95095,     0.95195,     0.95295,     0.95395,     0.95495,     0.95596,     0.95696,     0.95796,     0.95896,     0.95996,\n",
       "           0.96096,     0.96196,     0.96296,     0.96396,     0.96496,     0.96597,     0.96697,     0.96797,     0.96897,     0.96997,     0.97097,     0.97197,     0.97297,     0.97397,     0.97497,     0.97598,     0.97698,     0.97798,     0.97898,     0.97998,     0.98098,     0.98198,     0.98298,     0.98398,\n",
       "           0.98498,     0.98599,     0.98699,     0.98799,     0.98899,     0.98999,     0.99099,     0.99199,     0.99299,     0.99399,     0.99499,       0.996,       0.997,       0.998,       0.999,           1]), array([[    0.98778,     0.98778,     0.98667,      0.9863,     0.98556,     0.98519,     0.98481,     0.98444,      0.9837,      0.9837,     0.98333,     0.98222,     0.98222,     0.98185,     0.98185,     0.98185,     0.98148,     0.98148,     0.98148,     0.98148,     0.98148,     0.98148,     0.98111,\n",
       "            0.98074,     0.98074,     0.98037,        0.98,        0.98,     0.97926,     0.97926,     0.97926,     0.97926,     0.97926,     0.97926,     0.97926,     0.97889,     0.97889,     0.97889,     0.97889,     0.97889,     0.97889,     0.97815,     0.97778,     0.97778,     0.97778,     0.97778,\n",
       "            0.97741,     0.97667,      0.9763,      0.9763,     0.97593,     0.97593,     0.97593,     0.97593,     0.97556,     0.97556,     0.97519,     0.97519,     0.97519,     0.97519,     0.97519,     0.97519,     0.97519,     0.97519,     0.97519,     0.97519,     0.97519,     0.97519,     0.97519,\n",
       "            0.97481,      0.9745,     0.97435,     0.97407,     0.97393,     0.97333,     0.97333,     0.97333,     0.97333,     0.97333,     0.97333,     0.97333,     0.97333,     0.97312,     0.97296,     0.97259,     0.97259,     0.97259,     0.97259,     0.97259,     0.97259,     0.97222,     0.97222,\n",
       "            0.97222,     0.97222,     0.97222,     0.97222,     0.97222,     0.97222,     0.97222,     0.97222,     0.97222,     0.97222,     0.97185,     0.97185,     0.97185,     0.97185,     0.97148,     0.97119,     0.97074,     0.97074,     0.97074,     0.97074,     0.97074,     0.97074,     0.97074,\n",
       "            0.97074,     0.97074,     0.97074,     0.97074,     0.97074,     0.97074,     0.97074,     0.97074,     0.97074,     0.97074,     0.97074,     0.97074,     0.97074,     0.97074,     0.97074,     0.97074,     0.97024,        0.97,        0.97,        0.97,     0.96963,     0.96926,     0.96926,\n",
       "            0.96921,     0.96833,     0.96815,     0.96815,     0.96815,     0.96815,     0.96815,     0.96815,     0.96815,     0.96815,     0.96815,     0.96815,     0.96815,     0.96815,     0.96812,     0.96778,     0.96778,     0.96778,     0.96778,     0.96778,     0.96778,     0.96778,     0.96778,\n",
       "            0.96778,     0.96778,     0.96742,     0.96667,     0.96667,     0.96667,     0.96667,      0.9663,      0.9663,      0.9663,     0.96595,     0.96592,     0.96576,      0.9656,     0.96556,     0.96556,     0.96556,     0.96556,     0.96481,     0.96481,     0.96481,     0.96481,     0.96481,\n",
       "            0.96444,     0.96444,     0.96407,     0.96407,     0.96407,     0.96407,     0.96407,     0.96407,     0.96407,     0.96407,     0.96407,      0.9637,      0.9637,      0.9637,      0.9637,      0.9637,      0.9637,      0.9637,      0.9637,      0.9637,     0.96333,     0.96333,     0.96333,\n",
       "            0.96333,     0.96333,     0.96296,     0.96296,     0.96296,     0.96296,     0.96296,     0.96259,      0.9624,     0.96222,     0.96222,     0.96214,     0.96202,     0.96191,     0.96185,     0.96139,     0.96074,     0.96074,     0.96011,        0.96,        0.96,     0.95963,     0.95963,\n",
       "            0.95951,     0.95926,     0.95926,      0.9592,     0.95852,     0.95852,     0.95852,     0.95852,     0.95815,     0.95815,     0.95815,     0.95815,     0.95815,     0.95815,     0.95815,     0.95815,     0.95787,     0.95778,     0.95778,     0.95742,     0.95741,     0.95741,     0.95741,\n",
       "            0.95741,     0.95694,     0.95667,     0.95667,      0.9563,      0.9563,      0.9563,      0.9563,     0.95593,     0.95571,     0.95525,     0.95488,     0.95444,     0.95444,     0.95444,     0.95444,     0.95444,     0.95444,     0.95444,     0.95444,     0.95376,     0.95296,     0.95267,\n",
       "            0.95222,     0.95222,     0.95222,     0.95222,     0.95222,     0.95222,     0.95222,     0.95196,     0.95162,     0.95148,     0.95148,     0.95148,     0.95148,     0.95148,     0.95144,     0.95138,     0.95132,     0.95126,      0.9512,     0.95115,     0.95074,     0.95074,     0.95074,\n",
       "            0.95074,     0.95074,     0.95037,     0.95037,     0.95037,     0.95037,     0.95037,     0.94963,     0.94963,     0.94963,     0.94963,     0.94946,     0.94926,     0.94915,      0.9489,     0.94852,     0.94852,     0.94852,     0.94852,     0.94852,     0.94852,     0.94852,     0.94792,\n",
       "            0.94741,     0.94741,     0.94741,     0.94741,     0.94741,     0.94741,     0.94704,     0.94704,     0.94704,     0.94704,     0.94667,     0.94667,     0.94667,     0.94667,     0.94667,     0.94593,     0.94593,     0.94593,     0.94593,     0.94593,     0.94576,     0.94556,     0.94556,\n",
       "            0.94556,     0.94556,     0.94556,     0.94555,     0.94533,     0.94519,     0.94499,     0.94444,     0.94444,     0.94444,     0.94444,     0.94444,     0.94444,     0.94364,     0.94257,     0.94228,     0.94222,     0.94222,     0.94222,     0.94189,     0.94148,     0.94134,     0.94111,\n",
       "            0.94111,     0.94082,     0.94074,     0.94074,     0.94074,     0.94037,        0.94,     0.93986,     0.93971,     0.93926,     0.93921,     0.93889,     0.93889,     0.93849,     0.93826,     0.93778,     0.93778,     0.93778,     0.93778,     0.93755,      0.9369,     0.93652,     0.93622,\n",
       "            0.93559,     0.93556,     0.93519,     0.93448,     0.93399,     0.93382,     0.93333,     0.93315,     0.93296,     0.93296,     0.93296,     0.93296,     0.93296,     0.93287,     0.93252,     0.93236,     0.93222,     0.93207,     0.93192,     0.93185,     0.93174,      0.9313,     0.93089,\n",
       "            0.93074,      0.9306,     0.92996,     0.92951,     0.92926,     0.92926,     0.92926,     0.92863,     0.92778,     0.92778,     0.92753,     0.92682,     0.92637,     0.92593,     0.92519,     0.92519,     0.92519,     0.92519,     0.92444,     0.92444,     0.92438,     0.92401,     0.92286,\n",
       "            0.92222,     0.92178,     0.92144,     0.92132,     0.92121,     0.92099,     0.92054,     0.92037,     0.92026,     0.91986,     0.91956,     0.91928,     0.91924,     0.91909,     0.91893,     0.91855,     0.91794,     0.91664,     0.91581,     0.91518,     0.91495,      0.9147,     0.91444,\n",
       "            0.91444,     0.91417,     0.91346,     0.91322,     0.91307,     0.91296,     0.91296,      0.9121,     0.91158,     0.91093,     0.91074,     0.90992,     0.90936,     0.90815,     0.90741,     0.90675,     0.90575,     0.90457,     0.90422,      0.9037,      0.9037,     0.90227,     0.90148,\n",
       "            0.90133,     0.90111,     0.90072,     0.89948,     0.89889,     0.89889,     0.89844,     0.89815,     0.89815,     0.89686,     0.89613,     0.89591,     0.89547,      0.8953,     0.89507,     0.89401,     0.89373,     0.89259,     0.89259,     0.89259,     0.89259,     0.89253,     0.89217,\n",
       "            0.89203,      0.8919,     0.89154,     0.89123,     0.89088,     0.89074,     0.89074,        0.89,     0.88891,     0.88741,     0.88718,     0.88682,     0.88585,     0.88556,     0.88489,     0.88481,      0.8837,      0.8837,      0.8837,     0.88209,     0.88096,     0.88013,     0.87946,\n",
       "            0.87924,     0.87911,     0.87899,      0.8787,     0.87741,     0.87741,     0.87741,     0.87679,     0.87547,     0.87481,     0.87405,      0.8738,     0.87309,     0.87244,      0.8714,     0.87056,     0.86913,     0.86843,      0.8682,     0.86741,     0.86704,      0.8663,     0.86558,\n",
       "            0.86371,     0.86303,     0.86183,     0.86151,     0.86102,     0.86043,     0.85794,     0.85704,     0.85619,     0.85593,     0.85514,       0.854,     0.85335,     0.85264,     0.85178,     0.85111,     0.85078,     0.84931,      0.8486,     0.84676,     0.84473,     0.84407,     0.84379,\n",
       "            0.84271,     0.84192,     0.84095,     0.83975,     0.83852,     0.83713,     0.83635,     0.83362,     0.83297,     0.83222,     0.83121,     0.83022,     0.82876,     0.82704,     0.82635,     0.82451,     0.82269,     0.82185,     0.82152,     0.81993,     0.81926,     0.81837,     0.81687,\n",
       "             0.8147,     0.81377,     0.81201,     0.81122,     0.81037,     0.80946,     0.80849,     0.80767,     0.80741,     0.80657,     0.80547,     0.80382,     0.80259,     0.80024,     0.79926,     0.79727,     0.79558,     0.79312,     0.79209,     0.78952,     0.78664,      0.7841,      0.7816,\n",
       "            0.78024,     0.77841,     0.77723,     0.77528,     0.77329,     0.77198,     0.76862,     0.76601,     0.76458,     0.76182,     0.75887,     0.75782,     0.75431,     0.75111,     0.74959,     0.74797,     0.74557,     0.74306,     0.74035,     0.73812,     0.73696,     0.73581,     0.73222,\n",
       "             0.7292,     0.72742,     0.72371,     0.72168,     0.72037,     0.71778,     0.71594,     0.71274,     0.71062,     0.70706,     0.70575,     0.70372,     0.70134,     0.69917,     0.69719,     0.69596,     0.69207,     0.68916,     0.68778,     0.68512,      0.6805,     0.67723,     0.67281,\n",
       "             0.6705,     0.66513,     0.66251,     0.65953,     0.65748,      0.6553,     0.65364,     0.65155,     0.64742,     0.64426,       0.641,     0.63429,     0.63234,     0.62932,     0.62609,     0.62399,     0.62279,     0.62048,     0.61816,     0.61389,     0.60963,     0.60579,      0.6024,\n",
       "            0.59939,     0.59669,      0.5934,     0.59007,     0.58617,     0.57958,     0.57785,     0.57447,     0.57079,     0.56613,     0.56391,      0.5607,     0.55863,     0.55487,     0.55089,     0.54754,     0.54558,     0.54098,     0.53648,      0.5318,     0.52855,     0.52485,     0.52113,\n",
       "            0.51793,     0.51295,     0.50781,     0.50367,     0.49955,     0.49567,     0.49123,     0.48883,     0.48376,     0.48069,     0.47663,     0.47333,     0.47094,     0.46625,     0.46353,      0.4587,     0.45599,      0.4514,     0.44762,     0.44312,     0.44016,     0.43472,      0.4315,\n",
       "            0.42852,     0.42564,      0.4215,     0.41965,     0.41706,     0.41422,     0.41109,      0.4097,     0.40682,     0.40228,     0.39774,     0.39375,      0.3899,     0.38681,     0.38309,     0.37806,     0.37452,     0.37201,     0.36805,     0.36423,     0.36127,     0.35507,      0.3501,\n",
       "            0.34556,     0.33789,     0.33471,     0.33044,     0.32469,     0.32177,     0.31679,     0.31127,     0.30598,     0.29766,     0.29292,     0.29049,     0.28707,     0.28272,     0.27836,     0.27401,     0.27073,     0.26611,     0.26189,     0.25476,     0.25097,     0.24818,     0.24306,\n",
       "             0.2391,     0.23596,     0.23199,     0.22978,     0.22513,     0.21918,     0.21529,     0.21213,      0.2088,      0.2037,     0.20029,     0.19812,     0.19045,     0.18659,     0.18272,      0.1777,     0.17351,     0.16704,     0.16073,     0.15582,     0.15133,     0.14604,     0.14103,\n",
       "            0.13827,     0.13342,     0.13087,     0.12587,     0.12355,     0.11881,       0.115,     0.11187,     0.10933,     0.10652,     0.10247,    0.097432,    0.093625,    0.089473,    0.084928,    0.082521,    0.077386,    0.074075,    0.070765,    0.067506,    0.063137,    0.060074,    0.056548,\n",
       "           0.054545,    0.051421,    0.049116,    0.046283,    0.045189,    0.042437,     0.03967,    0.035908,     0.03451,    0.033358,    0.030556,    0.029046,    0.026893,    0.024914,    0.023139,    0.022438,    0.021673,    0.020292,    0.018048,     0.01645,    0.015222,    0.013605,    0.013103,\n",
       "           0.012847,    0.012671,    0.011846,    0.011298,    0.010741,   0.0095252,   0.0085899,    0.007932,   0.0069147,   0.0065474,   0.0058511,    0.005544,   0.0050037,    0.004617,   0.0044008,   0.0042132,   0.0039749,   0.0032948,     0.00305,   0.0027516,   0.0019581,   0.0012883,  0.00098237,\n",
       "         0.00073783,  0.00059706,  0.00045629,           0,           0,           0,           0,           0,           0,           0,           0,           0,           0,           0,           0,           0,           0,           0,           0,           0,           0,           0,           0,\n",
       "                  0,           0,           0,           0,           0,           0,           0,           0,           0,           0,           0,           0,           0,           0,           0,           0,           0,           0,           0,           0,           0,           0,           0,\n",
       "                  0,           0,           0,           0,           0,           0,           0,           0,           0,           0,           0,           0,           0,           0,           0,           0,           0,           0,           0,           0,           0,           0,           0,\n",
       "                  0,           0,           0,           0,           0,           0,           0,           0,           0,           0,           0,           0,           0,           0,           0,           0,           0,           0,           0,           0,           0,           0,           0,\n",
       "                  0,           0,           0,           0,           0,           0,           0,           0,           0,           0,           0,           0,           0,           0,           0,           0,           0,           0,           0,           0,           0,           0,           0,\n",
       "                  0,           0,           0,           0,           0,           0,           0,           0,           0,           0,           0]]), 'Confidence', 'Recall']]\n",
       "fitness: 0.6244182230548568\n",
       "keys: ['metrics/precision(B)', 'metrics/recall(B)', 'metrics/mAP50(B)', 'metrics/mAP50-95(B)']\n",
       "maps: array([    0.58589])\n",
       "names: {0: 'class1'}\n",
       "plot: True\n",
       "results_dict: {'metrics/precision(B)': 0.9375925619479718, 'metrics/recall(B)': 0.9377777777777778, 'metrics/mAP50(B)': 0.9712160860669264, 'metrics/mAP50-95(B)': 0.5858851271646269, 'fitness': 0.6244182230548568}\n",
       "save_dir: WindowsPath('runs/detect/val')\n",
       "speed: {'preprocess': 0.1202547794391767, 'inference': 1.4267487676893977, 'loss': 0.0009318303795500174, 'postprocess': 0.5382504543112643}\n",
       "task: 'detect'"
      ]
     },
     "execution_count": 13,
     "metadata": {},
     "output_type": "execute_result"
    }
   ],
   "source": [
    "# 1. Modell laden\n",
    "model = YOLO(\"C:/Users/chris/Documents/GitHub/Masterarbeit_Dominik/Christoph/Object_Detection/runs/detect/train2/weights/best.pt\")  # Ersetze \"best.pt\" durch deinen Modellpfad\n",
    "\n",
    "# 2. Test durchführen und Ergebnisse speichern\n",
    "model.val(data=\"dataset.yaml\", split=\"test\", save=True)  # Speichert Ergebnisse"
   ]
  }
 ],
 "metadata": {
  "kernelspec": {
   "display_name": "Masterarbeit",
   "language": "python",
   "name": "python3"
  },
  "language_info": {
   "codemirror_mode": {
    "name": "ipython",
    "version": 3
   },
   "file_extension": ".py",
   "mimetype": "text/x-python",
   "name": "python",
   "nbconvert_exporter": "python",
   "pygments_lexer": "ipython3",
   "version": "3.12.3"
  }
 },
 "nbformat": 4,
 "nbformat_minor": 2
}
