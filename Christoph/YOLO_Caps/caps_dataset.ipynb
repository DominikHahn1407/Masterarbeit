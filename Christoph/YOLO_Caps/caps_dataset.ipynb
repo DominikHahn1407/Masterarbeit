{
 "cells": [
  {
   "cell_type": "markdown",
   "metadata": {},
   "source": [
    "# Imports & Variables"
   ]
  },
  {
   "cell_type": "code",
   "execution_count": null,
   "metadata": {},
   "outputs": [],
   "source": [
    "import os\n",
    "import random\n",
    "from PIL import Image\n",
    "import shutil"
   ]
  },
  {
   "cell_type": "code",
   "execution_count": null,
   "metadata": {},
   "outputs": [],
   "source": [
    "#Will be done for train/test/val\n",
    "original_labels_dir = \"D:/Datasets/YOLO_Dataset/train/labels\"\n",
    "original_images_dir = \"D:/Datasets/YOLO_Dataset/train/images\"\n",
    "\n",
    "nodule_dir = \"D:/Datasets/YOLO_Caps/train/nodule\"\n",
    "non_nodule_dir = \"D:/Datasets/YOLO_Caps/train/non-nodule\"\n",
    "\n",
    "nodule_output_folder = \"D:/Datasets/YOLO_Caps/train/cropped_nodule\"\n",
    "non_nodule_output_folder = \"D:/Datasets/YOLO_Caps/train/cropped_non_nodule\"\n"
   ]
  },
  {
   "cell_type": "markdown",
   "metadata": {},
   "source": [
    "# Copy all Images into the YOLO_Caps Folder in train/test/val folder"
   ]
  },
  {
   "cell_type": "code",
   "execution_count": null,
   "metadata": {},
   "outputs": [
    {
     "name": "stdout",
     "output_type": "stream",
     "text": [
      "Kopieren abgeschlossen.\n"
     ]
    }
   ],
   "source": [
    "# Ensure target directories exist\n",
    "os.makedirs(nodule_dir, exist_ok=True)\n",
    "os.makedirs(non_nodule_dir, exist_ok=True)\n",
    "\n",
    "# Loop through all label text files in the label folder\n",
    "for label_file in os.listdir(original_labels_dir):\n",
    "    if label_file.endswith(\".txt\"): # Process only text files\n",
    "        label_path = os.path.join(original_labels_dir, label_file)\n",
    "        \n",
    "        # Check if the file is empty\n",
    "        with open(label_path, \"r\") as file:\n",
    "            content = file.read().strip()\n",
    "        \n",
    "        # Find the corresponding image file\n",
    "        image_name = label_file.replace(\".txt\", \".jpeg\")  # or .jpg depending on the image format\n",
    "        image_path = os.path.join(original_images_dir, image_name)\n",
    "        \n",
    "        # Copy the image to the appropriate folder\n",
    "        if os.path.exists(image_path):\n",
    "            if content: # File contains data (nodule)\n",
    "                shutil.copy(image_path, nodule_dir)\n",
    "            else:   # Empty file (Non-Nodule)\n",
    "                shutil.copy(image_path, non_nodule_dir)\n",
    "\n",
    "print(\"Kopieren abgeschlossen.\")\n"
   ]
  },
  {
   "cell_type": "markdown",
   "metadata": {},
   "source": [
    "        non-nodule  \tnodule\n",
    "    test    2670\t\t2700\n",
    "    val     2654\t\t2714\n",
    "    train   21520\t\t21430\n"
   ]
  },
  {
   "cell_type": "markdown",
   "metadata": {},
   "source": [
    "# Crop Images based on nodules -> crop random non - nodule image "
   ]
  },
  {
   "cell_type": "code",
   "execution_count": null,
   "metadata": {},
   "outputs": [],
   "source": [
    "# Function to crop and resize an image based on a bounding box\n",
    "def crop_and_resize(image, bbox, target_size=128):\n",
    "    x_center, y_center, width, height = bbox\n",
    "    # Calculate the maximum side length of the bounding box\n",
    "    max_side = max(width, height)\n",
    "\n",
    "    # Adjust the center and side lengths based on the image size (512x512)\n",
    "    x_center=x_center*512\n",
    "    y_center=y_center*512\n",
    "    max_side=max_side*512\n",
    "\n",
    "    # Calculate the new square region of interest (ROI)\n",
    "    x_min = int(x_center - max_side / 2)\n",
    "    y_min = int(y_center - max_side / 2)\n",
    "    x_max = int(x_center + max_side / 2)\n",
    "    y_max = int(y_center + max_side / 2)\n",
    "\n",
    "    # Ensure the ROI stays within the bounds of the image\n",
    "    x_min = max(0, x_min)\n",
    "    y_min = max(0, y_min)\n",
    "    x_max = min(image.width, x_max)\n",
    "    y_max = min(image.height, y_max)\n",
    "\n",
    "    # Crop the image using the calculated ROI\n",
    "    cropped_image = image.crop((x_min, y_min, x_max, y_max))\n",
    "\n",
    "    # Resize the cropped image to the target size\n",
    "    cropped_image = cropped_image.resize((target_size, target_size), Image.LANCZOS)\n",
    "\n",
    "    # Return the cropped and resized image\n",
    "    return cropped_image"
   ]
  },
  {
   "cell_type": "code",
   "execution_count": null,
   "metadata": {},
   "outputs": [],
   "source": [
    "# Function to load bounding boxes from a YOLO-style text file\n",
    "def load_bboxes(label_path):\n",
    "    bboxes = []\n",
    "    with open(label_path, 'r') as file:\n",
    "        lines = file.readlines()\n",
    "        for line in lines:\n",
    "            parts = line.strip().split()\n",
    "            if len(parts) >= 5:\n",
    "                # YOLO Format: class_id x_center y_center width height\n",
    "                class_id, x_center, y_center, width, height = map(float, parts)\n",
    "                bboxes.append((x_center, y_center, width, height))\n",
    "    return bboxes"
   ]
  },
  {
   "cell_type": "code",
   "execution_count": null,
   "metadata": {},
   "outputs": [],
   "source": [
    "# Counter for non-nodule images\n",
    "non_nodule_counter = 0\n",
    "\n",
    "# Ensure the output folders exist\n",
    "os.makedirs(nodule_output_folder, exist_ok=True)\n",
    "os.makedirs(non_nodule_output_folder, exist_ok=True)\n",
    "\n",
    "# Loop through all nodule images\n",
    "for nodule_image_name in os.listdir(nodule_dir):\n",
    "    if nodule_image_name.endswith(\".jpeg\"):\n",
    "        # Load the nodule image\n",
    "        nodule_image_path = os.path.join(nodule_dir, nodule_image_name)\n",
    "        nodule_image = Image.open(nodule_image_path)\n",
    "\n",
    "        # Load the corresponding label file\n",
    "        label_path = os.path.join(original_labels_dir, nodule_image_name.replace(\".jpeg\", \".txt\"))\n",
    "        \n",
    "        # Load bounding boxes from the label \n",
    "        bboxes = load_bboxes(label_path)\n",
    "\n",
    "        # Loop through each bounding box\n",
    "        for i, bbox in enumerate(bboxes):\n",
    "            # Crop and resize the nodule image based on the bounding box\n",
    "            cropped_nodule_image = crop_and_resize(nodule_image, bbox)\n",
    "\n",
    "            # Save the cropped nodule image\n",
    "            nodule_filename = f\"n{nodule_image_name}\"\n",
    "            cropped_nodule_image.save(os.path.join(nodule_output_folder, nodule_filename))\n",
    "\n",
    "\n",
    "            # Select a random non-nodule image\n",
    "            random_non_nodule_image_name = random.choice(os.listdir(non_nodule_dir))\n",
    "            if random_non_nodule_image_name.endswith(\".jpeg\"):\n",
    "                random_non_nodule_image_path = os.path.join(non_nodule_dir, random_non_nodule_image_name)\n",
    "                random_non_nodule_image = Image.open(random_non_nodule_image_path)\n",
    "                \n",
    "                # Crop and resize the random non-nodule image at the same position as nodule image\n",
    "                cropped_non_nodule_image = crop_and_resize(random_non_nodule_image, bbox)\n",
    "\n",
    "                # Save the cropped non-nodule image\n",
    "                non_nodule_filename = f\"nn{random_non_nodule_image_name.replace('.jpeg', f'_{non_nodule_counter}.jpeg')}\"\n",
    "                cropped_non_nodule_image.save(os.path.join(non_nodule_output_folder, non_nodule_filename))\n",
    "                non_nodule_counter += 1\n"
   ]
  },
  {
   "cell_type": "code",
   "execution_count": 5,
   "metadata": {},
   "outputs": [],
   "source": []
  },
  {
   "cell_type": "code",
   "execution_count": null,
   "metadata": {},
   "outputs": [],
   "source": []
  }
 ],
 "metadata": {
  "kernelspec": {
   "display_name": "Masterarbeit",
   "language": "python",
   "name": "python3"
  },
  "language_info": {
   "codemirror_mode": {
    "name": "ipython",
    "version": 3
   },
   "file_extension": ".py",
   "mimetype": "text/x-python",
   "name": "python",
   "nbconvert_exporter": "python",
   "pygments_lexer": "ipython3",
   "version": "3.12.7"
  }
 },
 "nbformat": 4,
 "nbformat_minor": 2
}
